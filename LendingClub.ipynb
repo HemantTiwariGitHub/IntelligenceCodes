{
  "nbformat": 4,
  "nbformat_minor": 0,
  "metadata": {
    "colab": {
      "name": "LendingClub.ipynb",
      "provenance": [],
      "collapsed_sections": [],
      "toc_visible": true,
      "authorship_tag": "ABX9TyMA/q7GthrTAGtbjtb2zQvl",
      "include_colab_link": true
    },
    "kernelspec": {
      "name": "python3",
      "display_name": "Python 3"
    }
  },
  "cells": [
    {
      "cell_type": "markdown",
      "metadata": {
        "id": "view-in-github",
        "colab_type": "text"
      },
      "source": [
        "<a href=\"https://colab.research.google.com/github/HemantTiwariGitHub/IntelligenceCodes/blob/master/LendingClub.ipynb\" target=\"_parent\"><img src=\"https://colab.research.google.com/assets/colab-badge.svg\" alt=\"Open In Colab\"/></a>"
      ]
    },
    {
      "cell_type": "code",
      "metadata": {
        "id": "440izMRfUHKX",
        "colab_type": "code",
        "colab": {}
      },
      "source": [
        "import numpy as np\n",
        "import pandas as pd\n",
        "pd.options.display.float_format = '{:.2f}'.format\n",
        "pd.set_option('display.max_columns', 2000)\n",
        "pd.set_option('display.width', 2000)"
      ],
      "execution_count": 0,
      "outputs": []
    },
    {
      "cell_type": "code",
      "metadata": {
        "id": "BvXIr5NwUZJE",
        "colab_type": "code",
        "outputId": "0266c1ba-5654-478e-fe47-526a1d10aa46",
        "colab": {
          "base_uri": "https://localhost:8080/",
          "height": 50
        }
      },
      "source": [
        "!unzip /content/loan.zip"
      ],
      "execution_count": 2,
      "outputs": [
        {
          "output_type": "stream",
          "text": [
            "Archive:  /content/loan.zip\n",
            "  inflating: loan.csv                \n"
          ],
          "name": "stdout"
        }
      ]
    },
    {
      "cell_type": "markdown",
      "metadata": {
        "id": "7LLzqxstA4hO",
        "colab_type": "text"
      },
      "source": [
        ""
      ]
    },
    {
      "cell_type": "code",
      "metadata": {
        "id": "_OfPyoynUf6l",
        "colab_type": "code",
        "colab": {}
      },
      "source": [
        "# suggested encoding is UTF8\n",
        "loan = pd.read_csv('loan.csv', encoding='utf8', low_memory=False)"
      ],
      "execution_count": 0,
      "outputs": []
    },
    {
      "cell_type": "markdown",
      "metadata": {
        "id": "0doIgAM4IqFJ",
        "colab_type": "text"
      },
      "source": [
        "Follow CRISP-DM Method\n",
        "\n",
        "# **CRISP-DM : Step#2 Data Understanding**"
      ]
    },
    {
      "cell_type": "code",
      "metadata": {
        "id": "3XRh5rbiVp6N",
        "colab_type": "code",
        "outputId": "293d0e0b-423c-444d-9678-8717fc369cc9",
        "colab": {
          "base_uri": "https://localhost:8080/",
          "height": 328
        }
      },
      "source": [
        "#Following CRISP-DM Methodology\n",
        "#check and understand data\n",
        "loan.head(2)"
      ],
      "execution_count": 4,
      "outputs": [
        {
          "output_type": "execute_result",
          "data": {
            "text/html": [
              "<div>\n",
              "<style scoped>\n",
              "    .dataframe tbody tr th:only-of-type {\n",
              "        vertical-align: middle;\n",
              "    }\n",
              "\n",
              "    .dataframe tbody tr th {\n",
              "        vertical-align: top;\n",
              "    }\n",
              "\n",
              "    .dataframe thead th {\n",
              "        text-align: right;\n",
              "    }\n",
              "</style>\n",
              "<table border=\"1\" class=\"dataframe\">\n",
              "  <thead>\n",
              "    <tr style=\"text-align: right;\">\n",
              "      <th></th>\n",
              "      <th>id</th>\n",
              "      <th>member_id</th>\n",
              "      <th>loan_amnt</th>\n",
              "      <th>funded_amnt</th>\n",
              "      <th>funded_amnt_inv</th>\n",
              "      <th>term</th>\n",
              "      <th>int_rate</th>\n",
              "      <th>installment</th>\n",
              "      <th>grade</th>\n",
              "      <th>sub_grade</th>\n",
              "      <th>emp_title</th>\n",
              "      <th>emp_length</th>\n",
              "      <th>home_ownership</th>\n",
              "      <th>annual_inc</th>\n",
              "      <th>verification_status</th>\n",
              "      <th>issue_d</th>\n",
              "      <th>loan_status</th>\n",
              "      <th>pymnt_plan</th>\n",
              "      <th>url</th>\n",
              "      <th>desc</th>\n",
              "      <th>purpose</th>\n",
              "      <th>title</th>\n",
              "      <th>zip_code</th>\n",
              "      <th>addr_state</th>\n",
              "      <th>dti</th>\n",
              "      <th>delinq_2yrs</th>\n",
              "      <th>earliest_cr_line</th>\n",
              "      <th>inq_last_6mths</th>\n",
              "      <th>mths_since_last_delinq</th>\n",
              "      <th>mths_since_last_record</th>\n",
              "      <th>open_acc</th>\n",
              "      <th>pub_rec</th>\n",
              "      <th>revol_bal</th>\n",
              "      <th>revol_util</th>\n",
              "      <th>total_acc</th>\n",
              "      <th>initial_list_status</th>\n",
              "      <th>out_prncp</th>\n",
              "      <th>out_prncp_inv</th>\n",
              "      <th>total_pymnt</th>\n",
              "      <th>total_pymnt_inv</th>\n",
              "      <th>total_rec_prncp</th>\n",
              "      <th>total_rec_int</th>\n",
              "      <th>total_rec_late_fee</th>\n",
              "      <th>recoveries</th>\n",
              "      <th>collection_recovery_fee</th>\n",
              "      <th>last_pymnt_d</th>\n",
              "      <th>last_pymnt_amnt</th>\n",
              "      <th>next_pymnt_d</th>\n",
              "      <th>last_credit_pull_d</th>\n",
              "      <th>collections_12_mths_ex_med</th>\n",
              "      <th>mths_since_last_major_derog</th>\n",
              "      <th>policy_code</th>\n",
              "      <th>application_type</th>\n",
              "      <th>annual_inc_joint</th>\n",
              "      <th>dti_joint</th>\n",
              "      <th>verification_status_joint</th>\n",
              "      <th>acc_now_delinq</th>\n",
              "      <th>tot_coll_amt</th>\n",
              "      <th>tot_cur_bal</th>\n",
              "      <th>open_acc_6m</th>\n",
              "      <th>open_il_6m</th>\n",
              "      <th>open_il_12m</th>\n",
              "      <th>open_il_24m</th>\n",
              "      <th>mths_since_rcnt_il</th>\n",
              "      <th>total_bal_il</th>\n",
              "      <th>il_util</th>\n",
              "      <th>open_rv_12m</th>\n",
              "      <th>open_rv_24m</th>\n",
              "      <th>max_bal_bc</th>\n",
              "      <th>all_util</th>\n",
              "      <th>total_rev_hi_lim</th>\n",
              "      <th>inq_fi</th>\n",
              "      <th>total_cu_tl</th>\n",
              "      <th>inq_last_12m</th>\n",
              "      <th>acc_open_past_24mths</th>\n",
              "      <th>avg_cur_bal</th>\n",
              "      <th>bc_open_to_buy</th>\n",
              "      <th>bc_util</th>\n",
              "      <th>chargeoff_within_12_mths</th>\n",
              "      <th>delinq_amnt</th>\n",
              "      <th>mo_sin_old_il_acct</th>\n",
              "      <th>mo_sin_old_rev_tl_op</th>\n",
              "      <th>mo_sin_rcnt_rev_tl_op</th>\n",
              "      <th>mo_sin_rcnt_tl</th>\n",
              "      <th>mort_acc</th>\n",
              "      <th>mths_since_recent_bc</th>\n",
              "      <th>mths_since_recent_bc_dlq</th>\n",
              "      <th>mths_since_recent_inq</th>\n",
              "      <th>mths_since_recent_revol_delinq</th>\n",
              "      <th>num_accts_ever_120_pd</th>\n",
              "      <th>num_actv_bc_tl</th>\n",
              "      <th>num_actv_rev_tl</th>\n",
              "      <th>num_bc_sats</th>\n",
              "      <th>num_bc_tl</th>\n",
              "      <th>num_il_tl</th>\n",
              "      <th>num_op_rev_tl</th>\n",
              "      <th>num_rev_accts</th>\n",
              "      <th>num_rev_tl_bal_gt_0</th>\n",
              "      <th>num_sats</th>\n",
              "      <th>num_tl_120dpd_2m</th>\n",
              "      <th>num_tl_30dpd</th>\n",
              "      <th>num_tl_90g_dpd_24m</th>\n",
              "      <th>num_tl_op_past_12m</th>\n",
              "      <th>pct_tl_nvr_dlq</th>\n",
              "      <th>percent_bc_gt_75</th>\n",
              "      <th>pub_rec_bankruptcies</th>\n",
              "      <th>tax_liens</th>\n",
              "      <th>tot_hi_cred_lim</th>\n",
              "      <th>total_bal_ex_mort</th>\n",
              "      <th>total_bc_limit</th>\n",
              "      <th>total_il_high_credit_limit</th>\n",
              "    </tr>\n",
              "  </thead>\n",
              "  <tbody>\n",
              "    <tr>\n",
              "      <th>0</th>\n",
              "      <td>1077501</td>\n",
              "      <td>1296599</td>\n",
              "      <td>5000</td>\n",
              "      <td>5000</td>\n",
              "      <td>4975.00</td>\n",
              "      <td>36 months</td>\n",
              "      <td>10.65%</td>\n",
              "      <td>162.87</td>\n",
              "      <td>B</td>\n",
              "      <td>B2</td>\n",
              "      <td>NaN</td>\n",
              "      <td>10+ years</td>\n",
              "      <td>RENT</td>\n",
              "      <td>24000.00</td>\n",
              "      <td>Verified</td>\n",
              "      <td>Dec-11</td>\n",
              "      <td>Fully Paid</td>\n",
              "      <td>n</td>\n",
              "      <td>https://lendingclub.com/browse/loanDetail.acti...</td>\n",
              "      <td>Borrower added on 12/22/11 &gt; I need to upgra...</td>\n",
              "      <td>credit_card</td>\n",
              "      <td>Computer</td>\n",
              "      <td>860xx</td>\n",
              "      <td>AZ</td>\n",
              "      <td>27.65</td>\n",
              "      <td>0</td>\n",
              "      <td>Jan-85</td>\n",
              "      <td>1</td>\n",
              "      <td>nan</td>\n",
              "      <td>nan</td>\n",
              "      <td>3</td>\n",
              "      <td>0</td>\n",
              "      <td>13648</td>\n",
              "      <td>83.70%</td>\n",
              "      <td>9</td>\n",
              "      <td>f</td>\n",
              "      <td>0.00</td>\n",
              "      <td>0.00</td>\n",
              "      <td>5863.16</td>\n",
              "      <td>5833.84</td>\n",
              "      <td>5000.00</td>\n",
              "      <td>863.16</td>\n",
              "      <td>0.00</td>\n",
              "      <td>0.00</td>\n",
              "      <td>0.00</td>\n",
              "      <td>Jan-15</td>\n",
              "      <td>171.62</td>\n",
              "      <td>NaN</td>\n",
              "      <td>May-16</td>\n",
              "      <td>0.00</td>\n",
              "      <td>nan</td>\n",
              "      <td>1</td>\n",
              "      <td>INDIVIDUAL</td>\n",
              "      <td>nan</td>\n",
              "      <td>nan</td>\n",
              "      <td>nan</td>\n",
              "      <td>0</td>\n",
              "      <td>nan</td>\n",
              "      <td>nan</td>\n",
              "      <td>nan</td>\n",
              "      <td>nan</td>\n",
              "      <td>nan</td>\n",
              "      <td>nan</td>\n",
              "      <td>nan</td>\n",
              "      <td>nan</td>\n",
              "      <td>nan</td>\n",
              "      <td>nan</td>\n",
              "      <td>nan</td>\n",
              "      <td>nan</td>\n",
              "      <td>nan</td>\n",
              "      <td>nan</td>\n",
              "      <td>nan</td>\n",
              "      <td>nan</td>\n",
              "      <td>nan</td>\n",
              "      <td>nan</td>\n",
              "      <td>nan</td>\n",
              "      <td>nan</td>\n",
              "      <td>nan</td>\n",
              "      <td>0.00</td>\n",
              "      <td>0</td>\n",
              "      <td>nan</td>\n",
              "      <td>nan</td>\n",
              "      <td>nan</td>\n",
              "      <td>nan</td>\n",
              "      <td>nan</td>\n",
              "      <td>nan</td>\n",
              "      <td>nan</td>\n",
              "      <td>nan</td>\n",
              "      <td>nan</td>\n",
              "      <td>nan</td>\n",
              "      <td>nan</td>\n",
              "      <td>nan</td>\n",
              "      <td>nan</td>\n",
              "      <td>nan</td>\n",
              "      <td>nan</td>\n",
              "      <td>nan</td>\n",
              "      <td>nan</td>\n",
              "      <td>nan</td>\n",
              "      <td>nan</td>\n",
              "      <td>nan</td>\n",
              "      <td>nan</td>\n",
              "      <td>nan</td>\n",
              "      <td>nan</td>\n",
              "      <td>nan</td>\n",
              "      <td>nan</td>\n",
              "      <td>0.00</td>\n",
              "      <td>0.00</td>\n",
              "      <td>nan</td>\n",
              "      <td>nan</td>\n",
              "      <td>nan</td>\n",
              "      <td>nan</td>\n",
              "    </tr>\n",
              "    <tr>\n",
              "      <th>1</th>\n",
              "      <td>1077430</td>\n",
              "      <td>1314167</td>\n",
              "      <td>2500</td>\n",
              "      <td>2500</td>\n",
              "      <td>2500.00</td>\n",
              "      <td>60 months</td>\n",
              "      <td>15.27%</td>\n",
              "      <td>59.83</td>\n",
              "      <td>C</td>\n",
              "      <td>C4</td>\n",
              "      <td>Ryder</td>\n",
              "      <td>&lt; 1 year</td>\n",
              "      <td>RENT</td>\n",
              "      <td>30000.00</td>\n",
              "      <td>Source Verified</td>\n",
              "      <td>Dec-11</td>\n",
              "      <td>Charged Off</td>\n",
              "      <td>n</td>\n",
              "      <td>https://lendingclub.com/browse/loanDetail.acti...</td>\n",
              "      <td>Borrower added on 12/22/11 &gt; I plan to use t...</td>\n",
              "      <td>car</td>\n",
              "      <td>bike</td>\n",
              "      <td>309xx</td>\n",
              "      <td>GA</td>\n",
              "      <td>1.00</td>\n",
              "      <td>0</td>\n",
              "      <td>Apr-99</td>\n",
              "      <td>5</td>\n",
              "      <td>nan</td>\n",
              "      <td>nan</td>\n",
              "      <td>3</td>\n",
              "      <td>0</td>\n",
              "      <td>1687</td>\n",
              "      <td>9.40%</td>\n",
              "      <td>4</td>\n",
              "      <td>f</td>\n",
              "      <td>0.00</td>\n",
              "      <td>0.00</td>\n",
              "      <td>1008.71</td>\n",
              "      <td>1008.71</td>\n",
              "      <td>456.46</td>\n",
              "      <td>435.17</td>\n",
              "      <td>0.00</td>\n",
              "      <td>117.08</td>\n",
              "      <td>1.11</td>\n",
              "      <td>Apr-13</td>\n",
              "      <td>119.66</td>\n",
              "      <td>NaN</td>\n",
              "      <td>Sep-13</td>\n",
              "      <td>0.00</td>\n",
              "      <td>nan</td>\n",
              "      <td>1</td>\n",
              "      <td>INDIVIDUAL</td>\n",
              "      <td>nan</td>\n",
              "      <td>nan</td>\n",
              "      <td>nan</td>\n",
              "      <td>0</td>\n",
              "      <td>nan</td>\n",
              "      <td>nan</td>\n",
              "      <td>nan</td>\n",
              "      <td>nan</td>\n",
              "      <td>nan</td>\n",
              "      <td>nan</td>\n",
              "      <td>nan</td>\n",
              "      <td>nan</td>\n",
              "      <td>nan</td>\n",
              "      <td>nan</td>\n",
              "      <td>nan</td>\n",
              "      <td>nan</td>\n",
              "      <td>nan</td>\n",
              "      <td>nan</td>\n",
              "      <td>nan</td>\n",
              "      <td>nan</td>\n",
              "      <td>nan</td>\n",
              "      <td>nan</td>\n",
              "      <td>nan</td>\n",
              "      <td>nan</td>\n",
              "      <td>nan</td>\n",
              "      <td>0.00</td>\n",
              "      <td>0</td>\n",
              "      <td>nan</td>\n",
              "      <td>nan</td>\n",
              "      <td>nan</td>\n",
              "      <td>nan</td>\n",
              "      <td>nan</td>\n",
              "      <td>nan</td>\n",
              "      <td>nan</td>\n",
              "      <td>nan</td>\n",
              "      <td>nan</td>\n",
              "      <td>nan</td>\n",
              "      <td>nan</td>\n",
              "      <td>nan</td>\n",
              "      <td>nan</td>\n",
              "      <td>nan</td>\n",
              "      <td>nan</td>\n",
              "      <td>nan</td>\n",
              "      <td>nan</td>\n",
              "      <td>nan</td>\n",
              "      <td>nan</td>\n",
              "      <td>nan</td>\n",
              "      <td>nan</td>\n",
              "      <td>nan</td>\n",
              "      <td>nan</td>\n",
              "      <td>nan</td>\n",
              "      <td>nan</td>\n",
              "      <td>0.00</td>\n",
              "      <td>0.00</td>\n",
              "      <td>nan</td>\n",
              "      <td>nan</td>\n",
              "      <td>nan</td>\n",
              "      <td>nan</td>\n",
              "    </tr>\n",
              "  </tbody>\n",
              "</table>\n",
              "</div>"
            ],
            "text/plain": [
              "        id  member_id  loan_amnt  funded_amnt  funded_amnt_inv        term int_rate  installment grade sub_grade emp_title emp_length home_ownership  annual_inc verification_status issue_d  loan_status pymnt_plan                                                url                                               desc      purpose     title zip_code addr_state   dti  delinq_2yrs earliest_cr_line  inq_last_6mths  mths_since_last_delinq  mths_since_last_record  open_acc  pub_rec  revol_bal revol_util  total_acc initial_list_status  out_prncp  out_prncp_inv  total_pymnt  total_pymnt_inv  total_rec_prncp  total_rec_int  total_rec_late_fee  recoveries  collection_recovery_fee last_pymnt_d  last_pymnt_amnt next_pymnt_d last_credit_pull_d  collections_12_mths_ex_med  mths_since_last_major_derog  policy_code application_type  annual_inc_joint  dti_joint  verification_status_joint  acc_now_delinq  tot_coll_amt  tot_cur_bal  open_acc_6m  open_il_6m  open_il_12m  open_il_24m  mths_since_rcnt_il  total_bal_il  il_util  open_rv_12m  open_rv_24m  max_bal_bc  all_util  total_rev_hi_lim  inq_fi  total_cu_tl  inq_last_12m  acc_open_past_24mths  avg_cur_bal  bc_open_to_buy  bc_util  chargeoff_within_12_mths  delinq_amnt  mo_sin_old_il_acct  mo_sin_old_rev_tl_op  mo_sin_rcnt_rev_tl_op  mo_sin_rcnt_tl  mort_acc  mths_since_recent_bc  mths_since_recent_bc_dlq  mths_since_recent_inq  mths_since_recent_revol_delinq  num_accts_ever_120_pd  num_actv_bc_tl  num_actv_rev_tl  num_bc_sats  num_bc_tl  num_il_tl  num_op_rev_tl  num_rev_accts  num_rev_tl_bal_gt_0  num_sats  num_tl_120dpd_2m  num_tl_30dpd  num_tl_90g_dpd_24m  num_tl_op_past_12m  pct_tl_nvr_dlq  percent_bc_gt_75  pub_rec_bankruptcies  tax_liens  tot_hi_cred_lim  total_bal_ex_mort  total_bc_limit  total_il_high_credit_limit\n",
              "0  1077501    1296599       5000         5000          4975.00   36 months   10.65%       162.87     B        B2       NaN  10+ years           RENT    24000.00            Verified  Dec-11   Fully Paid          n  https://lendingclub.com/browse/loanDetail.acti...    Borrower added on 12/22/11 > I need to upgra...  credit_card  Computer    860xx         AZ 27.65            0           Jan-85               1                     nan                     nan         3        0      13648     83.70%          9                   f       0.00           0.00      5863.16          5833.84          5000.00         863.16                0.00        0.00                     0.00       Jan-15           171.62          NaN             May-16                        0.00                          nan            1       INDIVIDUAL               nan        nan                        nan               0           nan          nan          nan         nan          nan          nan                 nan           nan      nan          nan          nan         nan       nan               nan     nan          nan           nan                   nan          nan             nan      nan                      0.00            0                 nan                   nan                    nan             nan       nan                   nan                       nan                    nan                             nan                    nan             nan              nan          nan        nan        nan            nan            nan                  nan       nan               nan           nan                 nan                 nan             nan               nan                  0.00       0.00              nan                nan             nan                         nan\n",
              "1  1077430    1314167       2500         2500          2500.00   60 months   15.27%        59.83     C        C4     Ryder   < 1 year           RENT    30000.00     Source Verified  Dec-11  Charged Off          n  https://lendingclub.com/browse/loanDetail.acti...    Borrower added on 12/22/11 > I plan to use t...          car      bike    309xx         GA  1.00            0           Apr-99               5                     nan                     nan         3        0       1687      9.40%          4                   f       0.00           0.00      1008.71          1008.71           456.46         435.17                0.00      117.08                     1.11       Apr-13           119.66          NaN             Sep-13                        0.00                          nan            1       INDIVIDUAL               nan        nan                        nan               0           nan          nan          nan         nan          nan          nan                 nan           nan      nan          nan          nan         nan       nan               nan     nan          nan           nan                   nan          nan             nan      nan                      0.00            0                 nan                   nan                    nan             nan       nan                   nan                       nan                    nan                             nan                    nan             nan              nan          nan        nan        nan            nan            nan                  nan       nan               nan           nan                 nan                 nan             nan               nan                  0.00       0.00              nan                nan             nan                         nan"
            ]
          },
          "metadata": {
            "tags": []
          },
          "execution_count": 4
        }
      ]
    },
    {
      "cell_type": "code",
      "metadata": {
        "id": "dKllCT3KVrpL",
        "colab_type": "code",
        "outputId": "7a6d0fea-cc72-4ba7-b0df-eadbd61c2bed",
        "colab": {
          "base_uri": "https://localhost:8080/",
          "height": 306
        }
      },
      "source": [
        "#general statistics understanding \n",
        "loan.describe()"
      ],
      "execution_count": 5,
      "outputs": [
        {
          "output_type": "execute_result",
          "data": {
            "text/html": [
              "<div>\n",
              "<style scoped>\n",
              "    .dataframe tbody tr th:only-of-type {\n",
              "        vertical-align: middle;\n",
              "    }\n",
              "\n",
              "    .dataframe tbody tr th {\n",
              "        vertical-align: top;\n",
              "    }\n",
              "\n",
              "    .dataframe thead th {\n",
              "        text-align: right;\n",
              "    }\n",
              "</style>\n",
              "<table border=\"1\" class=\"dataframe\">\n",
              "  <thead>\n",
              "    <tr style=\"text-align: right;\">\n",
              "      <th></th>\n",
              "      <th>id</th>\n",
              "      <th>member_id</th>\n",
              "      <th>loan_amnt</th>\n",
              "      <th>funded_amnt</th>\n",
              "      <th>funded_amnt_inv</th>\n",
              "      <th>installment</th>\n",
              "      <th>annual_inc</th>\n",
              "      <th>dti</th>\n",
              "      <th>delinq_2yrs</th>\n",
              "      <th>inq_last_6mths</th>\n",
              "      <th>mths_since_last_delinq</th>\n",
              "      <th>mths_since_last_record</th>\n",
              "      <th>open_acc</th>\n",
              "      <th>pub_rec</th>\n",
              "      <th>revol_bal</th>\n",
              "      <th>total_acc</th>\n",
              "      <th>out_prncp</th>\n",
              "      <th>out_prncp_inv</th>\n",
              "      <th>total_pymnt</th>\n",
              "      <th>total_pymnt_inv</th>\n",
              "      <th>total_rec_prncp</th>\n",
              "      <th>total_rec_int</th>\n",
              "      <th>total_rec_late_fee</th>\n",
              "      <th>recoveries</th>\n",
              "      <th>collection_recovery_fee</th>\n",
              "      <th>last_pymnt_amnt</th>\n",
              "      <th>collections_12_mths_ex_med</th>\n",
              "      <th>mths_since_last_major_derog</th>\n",
              "      <th>policy_code</th>\n",
              "      <th>annual_inc_joint</th>\n",
              "      <th>dti_joint</th>\n",
              "      <th>verification_status_joint</th>\n",
              "      <th>acc_now_delinq</th>\n",
              "      <th>tot_coll_amt</th>\n",
              "      <th>tot_cur_bal</th>\n",
              "      <th>open_acc_6m</th>\n",
              "      <th>open_il_6m</th>\n",
              "      <th>open_il_12m</th>\n",
              "      <th>open_il_24m</th>\n",
              "      <th>mths_since_rcnt_il</th>\n",
              "      <th>total_bal_il</th>\n",
              "      <th>il_util</th>\n",
              "      <th>open_rv_12m</th>\n",
              "      <th>open_rv_24m</th>\n",
              "      <th>max_bal_bc</th>\n",
              "      <th>all_util</th>\n",
              "      <th>total_rev_hi_lim</th>\n",
              "      <th>inq_fi</th>\n",
              "      <th>total_cu_tl</th>\n",
              "      <th>inq_last_12m</th>\n",
              "      <th>acc_open_past_24mths</th>\n",
              "      <th>avg_cur_bal</th>\n",
              "      <th>bc_open_to_buy</th>\n",
              "      <th>bc_util</th>\n",
              "      <th>chargeoff_within_12_mths</th>\n",
              "      <th>delinq_amnt</th>\n",
              "      <th>mo_sin_old_il_acct</th>\n",
              "      <th>mo_sin_old_rev_tl_op</th>\n",
              "      <th>mo_sin_rcnt_rev_tl_op</th>\n",
              "      <th>mo_sin_rcnt_tl</th>\n",
              "      <th>mort_acc</th>\n",
              "      <th>mths_since_recent_bc</th>\n",
              "      <th>mths_since_recent_bc_dlq</th>\n",
              "      <th>mths_since_recent_inq</th>\n",
              "      <th>mths_since_recent_revol_delinq</th>\n",
              "      <th>num_accts_ever_120_pd</th>\n",
              "      <th>num_actv_bc_tl</th>\n",
              "      <th>num_actv_rev_tl</th>\n",
              "      <th>num_bc_sats</th>\n",
              "      <th>num_bc_tl</th>\n",
              "      <th>num_il_tl</th>\n",
              "      <th>num_op_rev_tl</th>\n",
              "      <th>num_rev_accts</th>\n",
              "      <th>num_rev_tl_bal_gt_0</th>\n",
              "      <th>num_sats</th>\n",
              "      <th>num_tl_120dpd_2m</th>\n",
              "      <th>num_tl_30dpd</th>\n",
              "      <th>num_tl_90g_dpd_24m</th>\n",
              "      <th>num_tl_op_past_12m</th>\n",
              "      <th>pct_tl_nvr_dlq</th>\n",
              "      <th>percent_bc_gt_75</th>\n",
              "      <th>pub_rec_bankruptcies</th>\n",
              "      <th>tax_liens</th>\n",
              "      <th>tot_hi_cred_lim</th>\n",
              "      <th>total_bal_ex_mort</th>\n",
              "      <th>total_bc_limit</th>\n",
              "      <th>total_il_high_credit_limit</th>\n",
              "    </tr>\n",
              "  </thead>\n",
              "  <tbody>\n",
              "    <tr>\n",
              "      <th>count</th>\n",
              "      <td>39717.00</td>\n",
              "      <td>39717.00</td>\n",
              "      <td>39717.00</td>\n",
              "      <td>39717.00</td>\n",
              "      <td>39717.00</td>\n",
              "      <td>39717.00</td>\n",
              "      <td>39717.00</td>\n",
              "      <td>39717.00</td>\n",
              "      <td>39717.00</td>\n",
              "      <td>39717.00</td>\n",
              "      <td>14035.00</td>\n",
              "      <td>2786.00</td>\n",
              "      <td>39717.00</td>\n",
              "      <td>39717.00</td>\n",
              "      <td>39717.00</td>\n",
              "      <td>39717.00</td>\n",
              "      <td>39717.00</td>\n",
              "      <td>39717.00</td>\n",
              "      <td>39717.00</td>\n",
              "      <td>39717.00</td>\n",
              "      <td>39717.00</td>\n",
              "      <td>39717.00</td>\n",
              "      <td>39717.00</td>\n",
              "      <td>39717.00</td>\n",
              "      <td>39717.00</td>\n",
              "      <td>39717.00</td>\n",
              "      <td>39661.00</td>\n",
              "      <td>0.00</td>\n",
              "      <td>39717.00</td>\n",
              "      <td>0.00</td>\n",
              "      <td>0.00</td>\n",
              "      <td>0.00</td>\n",
              "      <td>39717.00</td>\n",
              "      <td>0.00</td>\n",
              "      <td>0.00</td>\n",
              "      <td>0.00</td>\n",
              "      <td>0.00</td>\n",
              "      <td>0.00</td>\n",
              "      <td>0.00</td>\n",
              "      <td>0.00</td>\n",
              "      <td>0.00</td>\n",
              "      <td>0.00</td>\n",
              "      <td>0.00</td>\n",
              "      <td>0.00</td>\n",
              "      <td>0.00</td>\n",
              "      <td>0.00</td>\n",
              "      <td>0.00</td>\n",
              "      <td>0.00</td>\n",
              "      <td>0.00</td>\n",
              "      <td>0.00</td>\n",
              "      <td>0.00</td>\n",
              "      <td>0.00</td>\n",
              "      <td>0.00</td>\n",
              "      <td>0.00</td>\n",
              "      <td>39661.00</td>\n",
              "      <td>39717.00</td>\n",
              "      <td>0.00</td>\n",
              "      <td>0.00</td>\n",
              "      <td>0.00</td>\n",
              "      <td>0.00</td>\n",
              "      <td>0.00</td>\n",
              "      <td>0.00</td>\n",
              "      <td>0.00</td>\n",
              "      <td>0.00</td>\n",
              "      <td>0.00</td>\n",
              "      <td>0.00</td>\n",
              "      <td>0.00</td>\n",
              "      <td>0.00</td>\n",
              "      <td>0.00</td>\n",
              "      <td>0.00</td>\n",
              "      <td>0.00</td>\n",
              "      <td>0.00</td>\n",
              "      <td>0.00</td>\n",
              "      <td>0.00</td>\n",
              "      <td>0.00</td>\n",
              "      <td>0.00</td>\n",
              "      <td>0.00</td>\n",
              "      <td>0.00</td>\n",
              "      <td>0.00</td>\n",
              "      <td>0.00</td>\n",
              "      <td>0.00</td>\n",
              "      <td>39020.00</td>\n",
              "      <td>39678.00</td>\n",
              "      <td>0.00</td>\n",
              "      <td>0.00</td>\n",
              "      <td>0.00</td>\n",
              "      <td>0.00</td>\n",
              "    </tr>\n",
              "    <tr>\n",
              "      <th>mean</th>\n",
              "      <td>683131.91</td>\n",
              "      <td>850463.56</td>\n",
              "      <td>11219.44</td>\n",
              "      <td>10947.71</td>\n",
              "      <td>10397.45</td>\n",
              "      <td>324.56</td>\n",
              "      <td>68968.93</td>\n",
              "      <td>13.32</td>\n",
              "      <td>0.15</td>\n",
              "      <td>0.87</td>\n",
              "      <td>35.90</td>\n",
              "      <td>69.70</td>\n",
              "      <td>9.29</td>\n",
              "      <td>0.06</td>\n",
              "      <td>13382.53</td>\n",
              "      <td>22.09</td>\n",
              "      <td>51.23</td>\n",
              "      <td>50.99</td>\n",
              "      <td>12153.60</td>\n",
              "      <td>11567.15</td>\n",
              "      <td>9793.35</td>\n",
              "      <td>2263.66</td>\n",
              "      <td>1.36</td>\n",
              "      <td>95.22</td>\n",
              "      <td>12.41</td>\n",
              "      <td>2678.83</td>\n",
              "      <td>0.00</td>\n",
              "      <td>nan</td>\n",
              "      <td>1.00</td>\n",
              "      <td>nan</td>\n",
              "      <td>nan</td>\n",
              "      <td>nan</td>\n",
              "      <td>0.00</td>\n",
              "      <td>nan</td>\n",
              "      <td>nan</td>\n",
              "      <td>nan</td>\n",
              "      <td>nan</td>\n",
              "      <td>nan</td>\n",
              "      <td>nan</td>\n",
              "      <td>nan</td>\n",
              "      <td>nan</td>\n",
              "      <td>nan</td>\n",
              "      <td>nan</td>\n",
              "      <td>nan</td>\n",
              "      <td>nan</td>\n",
              "      <td>nan</td>\n",
              "      <td>nan</td>\n",
              "      <td>nan</td>\n",
              "      <td>nan</td>\n",
              "      <td>nan</td>\n",
              "      <td>nan</td>\n",
              "      <td>nan</td>\n",
              "      <td>nan</td>\n",
              "      <td>nan</td>\n",
              "      <td>0.00</td>\n",
              "      <td>0.00</td>\n",
              "      <td>nan</td>\n",
              "      <td>nan</td>\n",
              "      <td>nan</td>\n",
              "      <td>nan</td>\n",
              "      <td>nan</td>\n",
              "      <td>nan</td>\n",
              "      <td>nan</td>\n",
              "      <td>nan</td>\n",
              "      <td>nan</td>\n",
              "      <td>nan</td>\n",
              "      <td>nan</td>\n",
              "      <td>nan</td>\n",
              "      <td>nan</td>\n",
              "      <td>nan</td>\n",
              "      <td>nan</td>\n",
              "      <td>nan</td>\n",
              "      <td>nan</td>\n",
              "      <td>nan</td>\n",
              "      <td>nan</td>\n",
              "      <td>nan</td>\n",
              "      <td>nan</td>\n",
              "      <td>nan</td>\n",
              "      <td>nan</td>\n",
              "      <td>nan</td>\n",
              "      <td>nan</td>\n",
              "      <td>0.04</td>\n",
              "      <td>0.00</td>\n",
              "      <td>nan</td>\n",
              "      <td>nan</td>\n",
              "      <td>nan</td>\n",
              "      <td>nan</td>\n",
              "    </tr>\n",
              "    <tr>\n",
              "      <th>std</th>\n",
              "      <td>210694.13</td>\n",
              "      <td>265678.31</td>\n",
              "      <td>7456.67</td>\n",
              "      <td>7187.24</td>\n",
              "      <td>7128.45</td>\n",
              "      <td>208.87</td>\n",
              "      <td>63793.77</td>\n",
              "      <td>6.68</td>\n",
              "      <td>0.49</td>\n",
              "      <td>1.07</td>\n",
              "      <td>22.02</td>\n",
              "      <td>43.82</td>\n",
              "      <td>4.40</td>\n",
              "      <td>0.24</td>\n",
              "      <td>15885.02</td>\n",
              "      <td>11.40</td>\n",
              "      <td>375.17</td>\n",
              "      <td>373.82</td>\n",
              "      <td>9042.04</td>\n",
              "      <td>8942.67</td>\n",
              "      <td>7065.52</td>\n",
              "      <td>2608.11</td>\n",
              "      <td>7.29</td>\n",
              "      <td>688.74</td>\n",
              "      <td>148.67</td>\n",
              "      <td>4447.14</td>\n",
              "      <td>0.00</td>\n",
              "      <td>nan</td>\n",
              "      <td>0.00</td>\n",
              "      <td>nan</td>\n",
              "      <td>nan</td>\n",
              "      <td>nan</td>\n",
              "      <td>0.00</td>\n",
              "      <td>nan</td>\n",
              "      <td>nan</td>\n",
              "      <td>nan</td>\n",
              "      <td>nan</td>\n",
              "      <td>nan</td>\n",
              "      <td>nan</td>\n",
              "      <td>nan</td>\n",
              "      <td>nan</td>\n",
              "      <td>nan</td>\n",
              "      <td>nan</td>\n",
              "      <td>nan</td>\n",
              "      <td>nan</td>\n",
              "      <td>nan</td>\n",
              "      <td>nan</td>\n",
              "      <td>nan</td>\n",
              "      <td>nan</td>\n",
              "      <td>nan</td>\n",
              "      <td>nan</td>\n",
              "      <td>nan</td>\n",
              "      <td>nan</td>\n",
              "      <td>nan</td>\n",
              "      <td>0.00</td>\n",
              "      <td>0.00</td>\n",
              "      <td>nan</td>\n",
              "      <td>nan</td>\n",
              "      <td>nan</td>\n",
              "      <td>nan</td>\n",
              "      <td>nan</td>\n",
              "      <td>nan</td>\n",
              "      <td>nan</td>\n",
              "      <td>nan</td>\n",
              "      <td>nan</td>\n",
              "      <td>nan</td>\n",
              "      <td>nan</td>\n",
              "      <td>nan</td>\n",
              "      <td>nan</td>\n",
              "      <td>nan</td>\n",
              "      <td>nan</td>\n",
              "      <td>nan</td>\n",
              "      <td>nan</td>\n",
              "      <td>nan</td>\n",
              "      <td>nan</td>\n",
              "      <td>nan</td>\n",
              "      <td>nan</td>\n",
              "      <td>nan</td>\n",
              "      <td>nan</td>\n",
              "      <td>nan</td>\n",
              "      <td>nan</td>\n",
              "      <td>0.20</td>\n",
              "      <td>0.00</td>\n",
              "      <td>nan</td>\n",
              "      <td>nan</td>\n",
              "      <td>nan</td>\n",
              "      <td>nan</td>\n",
              "    </tr>\n",
              "    <tr>\n",
              "      <th>min</th>\n",
              "      <td>54734.00</td>\n",
              "      <td>70699.00</td>\n",
              "      <td>500.00</td>\n",
              "      <td>500.00</td>\n",
              "      <td>0.00</td>\n",
              "      <td>15.69</td>\n",
              "      <td>4000.00</td>\n",
              "      <td>0.00</td>\n",
              "      <td>0.00</td>\n",
              "      <td>0.00</td>\n",
              "      <td>0.00</td>\n",
              "      <td>0.00</td>\n",
              "      <td>2.00</td>\n",
              "      <td>0.00</td>\n",
              "      <td>0.00</td>\n",
              "      <td>2.00</td>\n",
              "      <td>0.00</td>\n",
              "      <td>0.00</td>\n",
              "      <td>0.00</td>\n",
              "      <td>0.00</td>\n",
              "      <td>0.00</td>\n",
              "      <td>0.00</td>\n",
              "      <td>0.00</td>\n",
              "      <td>0.00</td>\n",
              "      <td>0.00</td>\n",
              "      <td>0.00</td>\n",
              "      <td>0.00</td>\n",
              "      <td>nan</td>\n",
              "      <td>1.00</td>\n",
              "      <td>nan</td>\n",
              "      <td>nan</td>\n",
              "      <td>nan</td>\n",
              "      <td>0.00</td>\n",
              "      <td>nan</td>\n",
              "      <td>nan</td>\n",
              "      <td>nan</td>\n",
              "      <td>nan</td>\n",
              "      <td>nan</td>\n",
              "      <td>nan</td>\n",
              "      <td>nan</td>\n",
              "      <td>nan</td>\n",
              "      <td>nan</td>\n",
              "      <td>nan</td>\n",
              "      <td>nan</td>\n",
              "      <td>nan</td>\n",
              "      <td>nan</td>\n",
              "      <td>nan</td>\n",
              "      <td>nan</td>\n",
              "      <td>nan</td>\n",
              "      <td>nan</td>\n",
              "      <td>nan</td>\n",
              "      <td>nan</td>\n",
              "      <td>nan</td>\n",
              "      <td>nan</td>\n",
              "      <td>0.00</td>\n",
              "      <td>0.00</td>\n",
              "      <td>nan</td>\n",
              "      <td>nan</td>\n",
              "      <td>nan</td>\n",
              "      <td>nan</td>\n",
              "      <td>nan</td>\n",
              "      <td>nan</td>\n",
              "      <td>nan</td>\n",
              "      <td>nan</td>\n",
              "      <td>nan</td>\n",
              "      <td>nan</td>\n",
              "      <td>nan</td>\n",
              "      <td>nan</td>\n",
              "      <td>nan</td>\n",
              "      <td>nan</td>\n",
              "      <td>nan</td>\n",
              "      <td>nan</td>\n",
              "      <td>nan</td>\n",
              "      <td>nan</td>\n",
              "      <td>nan</td>\n",
              "      <td>nan</td>\n",
              "      <td>nan</td>\n",
              "      <td>nan</td>\n",
              "      <td>nan</td>\n",
              "      <td>nan</td>\n",
              "      <td>nan</td>\n",
              "      <td>0.00</td>\n",
              "      <td>0.00</td>\n",
              "      <td>nan</td>\n",
              "      <td>nan</td>\n",
              "      <td>nan</td>\n",
              "      <td>nan</td>\n",
              "    </tr>\n",
              "    <tr>\n",
              "      <th>25%</th>\n",
              "      <td>516221.00</td>\n",
              "      <td>666780.00</td>\n",
              "      <td>5500.00</td>\n",
              "      <td>5400.00</td>\n",
              "      <td>5000.00</td>\n",
              "      <td>167.02</td>\n",
              "      <td>40404.00</td>\n",
              "      <td>8.17</td>\n",
              "      <td>0.00</td>\n",
              "      <td>0.00</td>\n",
              "      <td>18.00</td>\n",
              "      <td>22.00</td>\n",
              "      <td>6.00</td>\n",
              "      <td>0.00</td>\n",
              "      <td>3703.00</td>\n",
              "      <td>13.00</td>\n",
              "      <td>0.00</td>\n",
              "      <td>0.00</td>\n",
              "      <td>5576.93</td>\n",
              "      <td>5112.31</td>\n",
              "      <td>4600.00</td>\n",
              "      <td>662.18</td>\n",
              "      <td>0.00</td>\n",
              "      <td>0.00</td>\n",
              "      <td>0.00</td>\n",
              "      <td>218.68</td>\n",
              "      <td>0.00</td>\n",
              "      <td>nan</td>\n",
              "      <td>1.00</td>\n",
              "      <td>nan</td>\n",
              "      <td>nan</td>\n",
              "      <td>nan</td>\n",
              "      <td>0.00</td>\n",
              "      <td>nan</td>\n",
              "      <td>nan</td>\n",
              "      <td>nan</td>\n",
              "      <td>nan</td>\n",
              "      <td>nan</td>\n",
              "      <td>nan</td>\n",
              "      <td>nan</td>\n",
              "      <td>nan</td>\n",
              "      <td>nan</td>\n",
              "      <td>nan</td>\n",
              "      <td>nan</td>\n",
              "      <td>nan</td>\n",
              "      <td>nan</td>\n",
              "      <td>nan</td>\n",
              "      <td>nan</td>\n",
              "      <td>nan</td>\n",
              "      <td>nan</td>\n",
              "      <td>nan</td>\n",
              "      <td>nan</td>\n",
              "      <td>nan</td>\n",
              "      <td>nan</td>\n",
              "      <td>0.00</td>\n",
              "      <td>0.00</td>\n",
              "      <td>nan</td>\n",
              "      <td>nan</td>\n",
              "      <td>nan</td>\n",
              "      <td>nan</td>\n",
              "      <td>nan</td>\n",
              "      <td>nan</td>\n",
              "      <td>nan</td>\n",
              "      <td>nan</td>\n",
              "      <td>nan</td>\n",
              "      <td>nan</td>\n",
              "      <td>nan</td>\n",
              "      <td>nan</td>\n",
              "      <td>nan</td>\n",
              "      <td>nan</td>\n",
              "      <td>nan</td>\n",
              "      <td>nan</td>\n",
              "      <td>nan</td>\n",
              "      <td>nan</td>\n",
              "      <td>nan</td>\n",
              "      <td>nan</td>\n",
              "      <td>nan</td>\n",
              "      <td>nan</td>\n",
              "      <td>nan</td>\n",
              "      <td>nan</td>\n",
              "      <td>nan</td>\n",
              "      <td>0.00</td>\n",
              "      <td>0.00</td>\n",
              "      <td>nan</td>\n",
              "      <td>nan</td>\n",
              "      <td>nan</td>\n",
              "      <td>nan</td>\n",
              "    </tr>\n",
              "    <tr>\n",
              "      <th>50%</th>\n",
              "      <td>665665.00</td>\n",
              "      <td>850812.00</td>\n",
              "      <td>10000.00</td>\n",
              "      <td>9600.00</td>\n",
              "      <td>8975.00</td>\n",
              "      <td>280.22</td>\n",
              "      <td>59000.00</td>\n",
              "      <td>13.40</td>\n",
              "      <td>0.00</td>\n",
              "      <td>1.00</td>\n",
              "      <td>34.00</td>\n",
              "      <td>90.00</td>\n",
              "      <td>9.00</td>\n",
              "      <td>0.00</td>\n",
              "      <td>8850.00</td>\n",
              "      <td>20.00</td>\n",
              "      <td>0.00</td>\n",
              "      <td>0.00</td>\n",
              "      <td>9899.64</td>\n",
              "      <td>9287.15</td>\n",
              "      <td>8000.00</td>\n",
              "      <td>1348.91</td>\n",
              "      <td>0.00</td>\n",
              "      <td>0.00</td>\n",
              "      <td>0.00</td>\n",
              "      <td>546.14</td>\n",
              "      <td>0.00</td>\n",
              "      <td>nan</td>\n",
              "      <td>1.00</td>\n",
              "      <td>nan</td>\n",
              "      <td>nan</td>\n",
              "      <td>nan</td>\n",
              "      <td>0.00</td>\n",
              "      <td>nan</td>\n",
              "      <td>nan</td>\n",
              "      <td>nan</td>\n",
              "      <td>nan</td>\n",
              "      <td>nan</td>\n",
              "      <td>nan</td>\n",
              "      <td>nan</td>\n",
              "      <td>nan</td>\n",
              "      <td>nan</td>\n",
              "      <td>nan</td>\n",
              "      <td>nan</td>\n",
              "      <td>nan</td>\n",
              "      <td>nan</td>\n",
              "      <td>nan</td>\n",
              "      <td>nan</td>\n",
              "      <td>nan</td>\n",
              "      <td>nan</td>\n",
              "      <td>nan</td>\n",
              "      <td>nan</td>\n",
              "      <td>nan</td>\n",
              "      <td>nan</td>\n",
              "      <td>0.00</td>\n",
              "      <td>0.00</td>\n",
              "      <td>nan</td>\n",
              "      <td>nan</td>\n",
              "      <td>nan</td>\n",
              "      <td>nan</td>\n",
              "      <td>nan</td>\n",
              "      <td>nan</td>\n",
              "      <td>nan</td>\n",
              "      <td>nan</td>\n",
              "      <td>nan</td>\n",
              "      <td>nan</td>\n",
              "      <td>nan</td>\n",
              "      <td>nan</td>\n",
              "      <td>nan</td>\n",
              "      <td>nan</td>\n",
              "      <td>nan</td>\n",
              "      <td>nan</td>\n",
              "      <td>nan</td>\n",
              "      <td>nan</td>\n",
              "      <td>nan</td>\n",
              "      <td>nan</td>\n",
              "      <td>nan</td>\n",
              "      <td>nan</td>\n",
              "      <td>nan</td>\n",
              "      <td>nan</td>\n",
              "      <td>nan</td>\n",
              "      <td>0.00</td>\n",
              "      <td>0.00</td>\n",
              "      <td>nan</td>\n",
              "      <td>nan</td>\n",
              "      <td>nan</td>\n",
              "      <td>nan</td>\n",
              "    </tr>\n",
              "    <tr>\n",
              "      <th>75%</th>\n",
              "      <td>837755.00</td>\n",
              "      <td>1047339.00</td>\n",
              "      <td>15000.00</td>\n",
              "      <td>15000.00</td>\n",
              "      <td>14400.00</td>\n",
              "      <td>430.78</td>\n",
              "      <td>82300.00</td>\n",
              "      <td>18.60</td>\n",
              "      <td>0.00</td>\n",
              "      <td>1.00</td>\n",
              "      <td>52.00</td>\n",
              "      <td>104.00</td>\n",
              "      <td>12.00</td>\n",
              "      <td>0.00</td>\n",
              "      <td>17058.00</td>\n",
              "      <td>29.00</td>\n",
              "      <td>0.00</td>\n",
              "      <td>0.00</td>\n",
              "      <td>16534.43</td>\n",
              "      <td>15798.81</td>\n",
              "      <td>13653.26</td>\n",
              "      <td>2833.40</td>\n",
              "      <td>0.00</td>\n",
              "      <td>0.00</td>\n",
              "      <td>0.00</td>\n",
              "      <td>3293.16</td>\n",
              "      <td>0.00</td>\n",
              "      <td>nan</td>\n",
              "      <td>1.00</td>\n",
              "      <td>nan</td>\n",
              "      <td>nan</td>\n",
              "      <td>nan</td>\n",
              "      <td>0.00</td>\n",
              "      <td>nan</td>\n",
              "      <td>nan</td>\n",
              "      <td>nan</td>\n",
              "      <td>nan</td>\n",
              "      <td>nan</td>\n",
              "      <td>nan</td>\n",
              "      <td>nan</td>\n",
              "      <td>nan</td>\n",
              "      <td>nan</td>\n",
              "      <td>nan</td>\n",
              "      <td>nan</td>\n",
              "      <td>nan</td>\n",
              "      <td>nan</td>\n",
              "      <td>nan</td>\n",
              "      <td>nan</td>\n",
              "      <td>nan</td>\n",
              "      <td>nan</td>\n",
              "      <td>nan</td>\n",
              "      <td>nan</td>\n",
              "      <td>nan</td>\n",
              "      <td>nan</td>\n",
              "      <td>0.00</td>\n",
              "      <td>0.00</td>\n",
              "      <td>nan</td>\n",
              "      <td>nan</td>\n",
              "      <td>nan</td>\n",
              "      <td>nan</td>\n",
              "      <td>nan</td>\n",
              "      <td>nan</td>\n",
              "      <td>nan</td>\n",
              "      <td>nan</td>\n",
              "      <td>nan</td>\n",
              "      <td>nan</td>\n",
              "      <td>nan</td>\n",
              "      <td>nan</td>\n",
              "      <td>nan</td>\n",
              "      <td>nan</td>\n",
              "      <td>nan</td>\n",
              "      <td>nan</td>\n",
              "      <td>nan</td>\n",
              "      <td>nan</td>\n",
              "      <td>nan</td>\n",
              "      <td>nan</td>\n",
              "      <td>nan</td>\n",
              "      <td>nan</td>\n",
              "      <td>nan</td>\n",
              "      <td>nan</td>\n",
              "      <td>nan</td>\n",
              "      <td>0.00</td>\n",
              "      <td>0.00</td>\n",
              "      <td>nan</td>\n",
              "      <td>nan</td>\n",
              "      <td>nan</td>\n",
              "      <td>nan</td>\n",
              "    </tr>\n",
              "    <tr>\n",
              "      <th>max</th>\n",
              "      <td>1077501.00</td>\n",
              "      <td>1314167.00</td>\n",
              "      <td>35000.00</td>\n",
              "      <td>35000.00</td>\n",
              "      <td>35000.00</td>\n",
              "      <td>1305.19</td>\n",
              "      <td>6000000.00</td>\n",
              "      <td>29.99</td>\n",
              "      <td>11.00</td>\n",
              "      <td>8.00</td>\n",
              "      <td>120.00</td>\n",
              "      <td>129.00</td>\n",
              "      <td>44.00</td>\n",
              "      <td>4.00</td>\n",
              "      <td>149588.00</td>\n",
              "      <td>90.00</td>\n",
              "      <td>6311.47</td>\n",
              "      <td>6307.37</td>\n",
              "      <td>58563.68</td>\n",
              "      <td>58563.68</td>\n",
              "      <td>35000.02</td>\n",
              "      <td>23563.68</td>\n",
              "      <td>180.20</td>\n",
              "      <td>29623.35</td>\n",
              "      <td>7002.19</td>\n",
              "      <td>36115.20</td>\n",
              "      <td>0.00</td>\n",
              "      <td>nan</td>\n",
              "      <td>1.00</td>\n",
              "      <td>nan</td>\n",
              "      <td>nan</td>\n",
              "      <td>nan</td>\n",
              "      <td>0.00</td>\n",
              "      <td>nan</td>\n",
              "      <td>nan</td>\n",
              "      <td>nan</td>\n",
              "      <td>nan</td>\n",
              "      <td>nan</td>\n",
              "      <td>nan</td>\n",
              "      <td>nan</td>\n",
              "      <td>nan</td>\n",
              "      <td>nan</td>\n",
              "      <td>nan</td>\n",
              "      <td>nan</td>\n",
              "      <td>nan</td>\n",
              "      <td>nan</td>\n",
              "      <td>nan</td>\n",
              "      <td>nan</td>\n",
              "      <td>nan</td>\n",
              "      <td>nan</td>\n",
              "      <td>nan</td>\n",
              "      <td>nan</td>\n",
              "      <td>nan</td>\n",
              "      <td>nan</td>\n",
              "      <td>0.00</td>\n",
              "      <td>0.00</td>\n",
              "      <td>nan</td>\n",
              "      <td>nan</td>\n",
              "      <td>nan</td>\n",
              "      <td>nan</td>\n",
              "      <td>nan</td>\n",
              "      <td>nan</td>\n",
              "      <td>nan</td>\n",
              "      <td>nan</td>\n",
              "      <td>nan</td>\n",
              "      <td>nan</td>\n",
              "      <td>nan</td>\n",
              "      <td>nan</td>\n",
              "      <td>nan</td>\n",
              "      <td>nan</td>\n",
              "      <td>nan</td>\n",
              "      <td>nan</td>\n",
              "      <td>nan</td>\n",
              "      <td>nan</td>\n",
              "      <td>nan</td>\n",
              "      <td>nan</td>\n",
              "      <td>nan</td>\n",
              "      <td>nan</td>\n",
              "      <td>nan</td>\n",
              "      <td>nan</td>\n",
              "      <td>nan</td>\n",
              "      <td>2.00</td>\n",
              "      <td>0.00</td>\n",
              "      <td>nan</td>\n",
              "      <td>nan</td>\n",
              "      <td>nan</td>\n",
              "      <td>nan</td>\n",
              "    </tr>\n",
              "  </tbody>\n",
              "</table>\n",
              "</div>"
            ],
            "text/plain": [
              "              id  member_id  loan_amnt  funded_amnt  funded_amnt_inv  installment  annual_inc      dti  delinq_2yrs  inq_last_6mths  mths_since_last_delinq  mths_since_last_record  open_acc  pub_rec  revol_bal  total_acc  out_prncp  out_prncp_inv  total_pymnt  total_pymnt_inv  total_rec_prncp  total_rec_int  total_rec_late_fee  recoveries  collection_recovery_fee  last_pymnt_amnt  collections_12_mths_ex_med  mths_since_last_major_derog  policy_code  annual_inc_joint  dti_joint  verification_status_joint  acc_now_delinq  tot_coll_amt  tot_cur_bal  open_acc_6m  open_il_6m  open_il_12m  open_il_24m  mths_since_rcnt_il  total_bal_il  il_util  open_rv_12m  open_rv_24m  max_bal_bc  all_util  total_rev_hi_lim  inq_fi  total_cu_tl  inq_last_12m  acc_open_past_24mths  avg_cur_bal  bc_open_to_buy  bc_util  chargeoff_within_12_mths  delinq_amnt  mo_sin_old_il_acct  mo_sin_old_rev_tl_op  mo_sin_rcnt_rev_tl_op  mo_sin_rcnt_tl  mort_acc  mths_since_recent_bc  mths_since_recent_bc_dlq  mths_since_recent_inq  mths_since_recent_revol_delinq  num_accts_ever_120_pd  num_actv_bc_tl  num_actv_rev_tl  num_bc_sats  num_bc_tl  num_il_tl  num_op_rev_tl  num_rev_accts  num_rev_tl_bal_gt_0  num_sats  num_tl_120dpd_2m  num_tl_30dpd  num_tl_90g_dpd_24m  num_tl_op_past_12m  pct_tl_nvr_dlq  percent_bc_gt_75  pub_rec_bankruptcies  tax_liens  tot_hi_cred_lim  total_bal_ex_mort  total_bc_limit  total_il_high_credit_limit\n",
              "count   39717.00   39717.00   39717.00     39717.00         39717.00     39717.00    39717.00 39717.00     39717.00        39717.00                14035.00                 2786.00  39717.00 39717.00   39717.00   39717.00   39717.00       39717.00     39717.00         39717.00         39717.00       39717.00            39717.00    39717.00                 39717.00         39717.00                    39661.00                         0.00     39717.00              0.00       0.00                       0.00        39717.00          0.00         0.00         0.00        0.00         0.00         0.00                0.00          0.00     0.00         0.00         0.00        0.00      0.00              0.00    0.00         0.00          0.00                  0.00         0.00            0.00     0.00                  39661.00     39717.00                0.00                  0.00                   0.00            0.00      0.00                  0.00                      0.00                   0.00                            0.00                   0.00            0.00             0.00         0.00       0.00       0.00           0.00           0.00                 0.00      0.00              0.00          0.00                0.00                0.00            0.00              0.00              39020.00   39678.00             0.00               0.00            0.00                        0.00\n",
              "mean   683131.91  850463.56   11219.44     10947.71         10397.45       324.56    68968.93    13.32         0.15            0.87                   35.90                   69.70      9.29     0.06   13382.53      22.09      51.23          50.99     12153.60         11567.15          9793.35        2263.66                1.36       95.22                    12.41          2678.83                        0.00                          nan         1.00               nan        nan                        nan            0.00           nan          nan          nan         nan          nan          nan                 nan           nan      nan          nan          nan         nan       nan               nan     nan          nan           nan                   nan          nan             nan      nan                      0.00         0.00                 nan                   nan                    nan             nan       nan                   nan                       nan                    nan                             nan                    nan             nan              nan          nan        nan        nan            nan            nan                  nan       nan               nan           nan                 nan                 nan             nan               nan                  0.04       0.00              nan                nan             nan                         nan\n",
              "std    210694.13  265678.31    7456.67      7187.24          7128.45       208.87    63793.77     6.68         0.49            1.07                   22.02                   43.82      4.40     0.24   15885.02      11.40     375.17         373.82      9042.04          8942.67          7065.52        2608.11                7.29      688.74                   148.67          4447.14                        0.00                          nan         0.00               nan        nan                        nan            0.00           nan          nan          nan         nan          nan          nan                 nan           nan      nan          nan          nan         nan       nan               nan     nan          nan           nan                   nan          nan             nan      nan                      0.00         0.00                 nan                   nan                    nan             nan       nan                   nan                       nan                    nan                             nan                    nan             nan              nan          nan        nan        nan            nan            nan                  nan       nan               nan           nan                 nan                 nan             nan               nan                  0.20       0.00              nan                nan             nan                         nan\n",
              "min     54734.00   70699.00     500.00       500.00             0.00        15.69     4000.00     0.00         0.00            0.00                    0.00                    0.00      2.00     0.00       0.00       2.00       0.00           0.00         0.00             0.00             0.00           0.00                0.00        0.00                     0.00             0.00                        0.00                          nan         1.00               nan        nan                        nan            0.00           nan          nan          nan         nan          nan          nan                 nan           nan      nan          nan          nan         nan       nan               nan     nan          nan           nan                   nan          nan             nan      nan                      0.00         0.00                 nan                   nan                    nan             nan       nan                   nan                       nan                    nan                             nan                    nan             nan              nan          nan        nan        nan            nan            nan                  nan       nan               nan           nan                 nan                 nan             nan               nan                  0.00       0.00              nan                nan             nan                         nan\n",
              "25%    516221.00  666780.00    5500.00      5400.00          5000.00       167.02    40404.00     8.17         0.00            0.00                   18.00                   22.00      6.00     0.00    3703.00      13.00       0.00           0.00      5576.93          5112.31          4600.00         662.18                0.00        0.00                     0.00           218.68                        0.00                          nan         1.00               nan        nan                        nan            0.00           nan          nan          nan         nan          nan          nan                 nan           nan      nan          nan          nan         nan       nan               nan     nan          nan           nan                   nan          nan             nan      nan                      0.00         0.00                 nan                   nan                    nan             nan       nan                   nan                       nan                    nan                             nan                    nan             nan              nan          nan        nan        nan            nan            nan                  nan       nan               nan           nan                 nan                 nan             nan               nan                  0.00       0.00              nan                nan             nan                         nan\n",
              "50%    665665.00  850812.00   10000.00      9600.00          8975.00       280.22    59000.00    13.40         0.00            1.00                   34.00                   90.00      9.00     0.00    8850.00      20.00       0.00           0.00      9899.64          9287.15          8000.00        1348.91                0.00        0.00                     0.00           546.14                        0.00                          nan         1.00               nan        nan                        nan            0.00           nan          nan          nan         nan          nan          nan                 nan           nan      nan          nan          nan         nan       nan               nan     nan          nan           nan                   nan          nan             nan      nan                      0.00         0.00                 nan                   nan                    nan             nan       nan                   nan                       nan                    nan                             nan                    nan             nan              nan          nan        nan        nan            nan            nan                  nan       nan               nan           nan                 nan                 nan             nan               nan                  0.00       0.00              nan                nan             nan                         nan\n",
              "75%    837755.00 1047339.00   15000.00     15000.00         14400.00       430.78    82300.00    18.60         0.00            1.00                   52.00                  104.00     12.00     0.00   17058.00      29.00       0.00           0.00     16534.43         15798.81         13653.26        2833.40                0.00        0.00                     0.00          3293.16                        0.00                          nan         1.00               nan        nan                        nan            0.00           nan          nan          nan         nan          nan          nan                 nan           nan      nan          nan          nan         nan       nan               nan     nan          nan           nan                   nan          nan             nan      nan                      0.00         0.00                 nan                   nan                    nan             nan       nan                   nan                       nan                    nan                             nan                    nan             nan              nan          nan        nan        nan            nan            nan                  nan       nan               nan           nan                 nan                 nan             nan               nan                  0.00       0.00              nan                nan             nan                         nan\n",
              "max   1077501.00 1314167.00   35000.00     35000.00         35000.00      1305.19  6000000.00    29.99        11.00            8.00                  120.00                  129.00     44.00     4.00  149588.00      90.00    6311.47        6307.37     58563.68         58563.68         35000.02       23563.68              180.20    29623.35                  7002.19         36115.20                        0.00                          nan         1.00               nan        nan                        nan            0.00           nan          nan          nan         nan          nan          nan                 nan           nan      nan          nan          nan         nan       nan               nan     nan          nan           nan                   nan          nan             nan      nan                      0.00         0.00                 nan                   nan                    nan             nan       nan                   nan                       nan                    nan                             nan                    nan             nan              nan          nan        nan        nan            nan            nan                  nan       nan               nan           nan                 nan                 nan             nan               nan                  2.00       0.00              nan                nan             nan                         nan"
            ]
          },
          "metadata": {
            "tags": []
          },
          "execution_count": 5
        }
      ]
    },
    {
      "cell_type": "code",
      "metadata": {
        "id": "SgE8bryqVwaj",
        "colab_type": "code",
        "outputId": "2ebd162b-b4af-483b-c7f8-7ee9689f5b62",
        "colab": {
          "base_uri": "https://localhost:8080/",
          "height": 100
        }
      },
      "source": [
        "#understand rows and columns\n",
        "loan.info()"
      ],
      "execution_count": 6,
      "outputs": [
        {
          "output_type": "stream",
          "text": [
            "<class 'pandas.core.frame.DataFrame'>\n",
            "RangeIndex: 39717 entries, 0 to 39716\n",
            "Columns: 111 entries, id to total_il_high_credit_limit\n",
            "dtypes: float64(74), int64(13), object(24)\n",
            "memory usage: 33.6+ MB\n"
          ],
          "name": "stdout"
        }
      ]
    },
    {
      "cell_type": "code",
      "metadata": {
        "id": "7ckby3rNXHaD",
        "colab_type": "code",
        "outputId": "d65a4db6-c2c5-4c4b-f4af-726043d252dc",
        "colab": {
          "base_uri": "https://localhost:8080/",
          "height": 33
        }
      },
      "source": [
        "#check the values of most important field of loan status\n",
        "loan['loan_status'].unique()\n"
      ],
      "execution_count": 7,
      "outputs": [
        {
          "output_type": "execute_result",
          "data": {
            "text/plain": [
              "array(['Fully Paid', 'Charged Off', 'Current'], dtype=object)"
            ]
          },
          "metadata": {
            "tags": []
          },
          "execution_count": 7
        }
      ]
    },
    {
      "cell_type": "markdown",
      "metadata": {
        "id": "iuK1Eu7QIgSn",
        "colab_type": "text"
      },
      "source": [
        ""
      ]
    },
    {
      "cell_type": "code",
      "metadata": {
        "id": "nEHDfWSUGztQ",
        "colab_type": "code",
        "outputId": "4aa54a26-4c3e-4efe-9431-8d936dd4283a",
        "colab": {
          "base_uri": "https://localhost:8080/",
          "height": 184
        }
      },
      "source": [
        "#Need to analyze factors which make loan \"Fully Paid\" vs \"Charged off\".\n",
        "#For this need to remove the loans which are current.\n",
        "print (loan.groupby('loan_status')['id'].count())\n",
        "print (loan.groupby('loan_status')['id'].count()/len(loan))\n",
        "\n"
      ],
      "execution_count": 8,
      "outputs": [
        {
          "output_type": "stream",
          "text": [
            "loan_status\n",
            "Charged Off     5627\n",
            "Current         1140\n",
            "Fully Paid     32950\n",
            "Name: id, dtype: int64\n",
            "loan_status\n",
            "Charged Off   0.14\n",
            "Current       0.03\n",
            "Fully Paid    0.83\n",
            "Name: id, dtype: float64\n"
          ],
          "name": "stdout"
        }
      ]
    },
    {
      "cell_type": "code",
      "metadata": {
        "id": "dWvy6Z-WMaX6",
        "colab_type": "code",
        "colab": {
          "base_uri": "https://localhost:8080/",
          "height": 520
        },
        "outputId": "20214093-082c-4b0d-d178-d94c57fcb0d2"
      },
      "source": [
        "import matplotlib.pyplot as plt\n",
        "AmountGrouped = loan.groupby('loan_status').loan_amnt.count().plot.bar()\n",
        "plt.show()\n",
        "\n"
      ],
      "execution_count": 75,
      "outputs": [
        {
          "output_type": "display_data",
          "data": {
            "image/png": "[encoded data removed]",
            "text/plain": [
              "<Figure size 432x288 with 1 Axes>"
            ]
          },
          "metadata": {
            "tags": []
          }
        },
        {
          "output_type": "error",
          "ename": "NameError",
          "evalue": "ignored",
          "traceback": [
            "\u001b[0;31m---------------------------------------------------------------------------\u001b[0m",
            "\u001b[0;31mNameError\u001b[0m                                 Traceback (most recent call last)",
            "\u001b[0;32m<ipython-input-75-38d6353481df>\u001b[0m in \u001b[0;36m<module>\u001b[0;34m()\u001b[0m\n\u001b[1;32m      3\u001b[0m \u001b[0mplt\u001b[0m\u001b[0;34m.\u001b[0m\u001b[0mshow\u001b[0m\u001b[0;34m(\u001b[0m\u001b[0;34m)\u001b[0m\u001b[0;34m\u001b[0m\u001b[0;34m\u001b[0m\u001b[0m\n\u001b[1;32m      4\u001b[0m \u001b[0;34m\u001b[0m\u001b[0m\n\u001b[0;32m----> 5\u001b[0;31m \u001b[0mplot_distribution\u001b[0m\u001b[0;34m(\u001b[0m\u001b[0mloan\u001b[0m\u001b[0;34m,\u001b[0m \u001b[0;34m'loan_amnt'\u001b[0m\u001b[0;34m)\u001b[0m\u001b[0;34m\u001b[0m\u001b[0;34m\u001b[0m\u001b[0m\n\u001b[0m",
            "\u001b[0;31mNameError\u001b[0m: name 'plot_distribution' is not defined"
          ]
        }
      ]
    },
    {
      "cell_type": "markdown",
      "metadata": {
        "id": "kpSby5D_QmFw",
        "colab_type": "text"
      },
      "source": [
        ""
      ]
    },
    {
      "cell_type": "markdown",
      "metadata": {
        "id": "6XDPZYGYWw3f",
        "colab_type": "text"
      },
      "source": [
        "### **Important Insight : Charged Off Loans are 14% of All Loans**\n",
        "\n",
        "# **CRISP-DM : Step#3 Data Preparation (Cleaning and Manipulation)**"
      ]
    },
    {
      "cell_type": "code",
      "metadata": {
        "id": "G3cxUxAvHmCH",
        "colab_type": "code",
        "outputId": "6fdb2fef-8ac0-498d-836b-d67d088dae2d",
        "colab": {
          "base_uri": "https://localhost:8080/",
          "height": 50
        }
      },
      "source": [
        "#Remove all current accounts, We will check difference only between ChargedOff vs FullyPaid\n",
        "loan = loan[loan['loan_status']!='Current']\n",
        "print(loan['loan_status'].unique())\n",
        "len(loan)"
      ],
      "execution_count": 9,
      "outputs": [
        {
          "output_type": "stream",
          "text": [
            "['Fully Paid' 'Charged Off']\n"
          ],
          "name": "stdout"
        },
        {
          "output_type": "execute_result",
          "data": {
            "text/plain": [
              "38577"
            ]
          },
          "metadata": {
            "tags": []
          },
          "execution_count": 9
        }
      ]
    },
    {
      "cell_type": "markdown",
      "metadata": {
        "id": "2XBsyDvfd68p",
        "colab_type": "text"
      },
      "source": [
        "Removing all columns which are missing more than 60% of values.\n",
        "Removing seperately for Paid and Defaulted Loan"
      ]
    },
    {
      "cell_type": "code",
      "metadata": {
        "id": "0DwUFAeuzxJ2",
        "colab_type": "code",
        "outputId": "a8cb2db5-98eb-47e3-a83e-7bd858d90b8b",
        "colab": {
          "base_uri": "https://localhost:8080/",
          "height": 84
        }
      },
      "source": [
        "#check which columns have blanks, but need to be careful as some colums might be useful only for particular categories\n",
        "PaidLoan = loan[loan['loan_status']=='Fully Paid']\n",
        "DefaultedLoan = loan[loan['loan_status']=='Charged Off']\n",
        "\n",
        "def removeMissing(dataFrame, Threshold):\n",
        "    missingPercentage = round(100*(dataFrame.isnull().sum()/len(dataFrame.index)))\n",
        "    missingColumnsWithMoreValuesMissing= list(missingPercentage[missingPercentage >= Threshold].index)\n",
        "    print(len(missingColumnsWithMoreValuesMissing))\n",
        "    dataFrame = dataFrame.drop(missingColumnsWithMoreValuesMissing,axis=1)\n",
        "    return dataFrame\n",
        "\n",
        "Threshold = 60\n",
        "PaidLoan = removeMissing(PaidLoan, Threshold)\n",
        "DefaultedLoan = removeMissing(DefaultedLoan, Threshold)\n",
        "loan = removeMissing(loan, Threshold)\n",
        "\n",
        "\n",
        "print(loan.shape)"
      ],
      "execution_count": 10,
      "outputs": [
        {
          "output_type": "stream",
          "text": [
            "57\n",
            "57\n",
            "57\n",
            "(38577, 54)\n"
          ],
          "name": "stdout"
        }
      ]
    },
    {
      "cell_type": "markdown",
      "metadata": {
        "id": "vtXJ4Hale7oY",
        "colab_type": "text"
      },
      "source": [
        "Create a new integer variable for default for easy analysis"
      ]
    },
    {
      "cell_type": "code",
      "metadata": {
        "id": "rT8EvEGfe6GF",
        "colab_type": "code",
        "colab": {
          "base_uri": "https://localhost:8080/",
          "height": 251
        },
        "outputId": "ed217f74-afcf-4f90-f324-34996aae2523"
      },
      "source": [
        "#creating a new variable hasDefaulted \n",
        "loan['hasDefaulted'] = loan['loan_status'].replace(to_replace = ['Charged Off','Fully Paid'],value = [1,0])\n",
        "#loan['hasDefaulted']  = loan.astype({'hasDefaulted': 'int'})\n",
        "print(loan[['loan_status', 'hasDefaulted']])\n"
      ],
      "execution_count": 11,
      "outputs": [
        {
          "output_type": "stream",
          "text": [
            "       loan_status  hasDefaulted\n",
            "0       Fully Paid             0\n",
            "1      Charged Off             1\n",
            "2       Fully Paid             0\n",
            "3       Fully Paid             0\n",
            "5       Fully Paid             0\n",
            "...            ...           ...\n",
            "39712   Fully Paid             0\n",
            "39713   Fully Paid             0\n",
            "39714   Fully Paid             0\n",
            "39715   Fully Paid             0\n",
            "39716   Fully Paid             0\n",
            "\n",
            "[38577 rows x 2 columns]\n"
          ],
          "name": "stdout"
        }
      ]
    },
    {
      "cell_type": "markdown",
      "metadata": {
        "id": "McoWsy1MfQCg",
        "colab_type": "text"
      },
      "source": [
        "Creating Derived Variable LoanToIncome Ratio"
      ]
    },
    {
      "cell_type": "code",
      "metadata": {
        "id": "K7M-Z0ZtfLxJ",
        "colab_type": "code",
        "colab": {}
      },
      "source": [
        "# creating derived variables \n",
        "loan['Loan_To_Income_Ratio'] = loan['loan_amnt']/loan['annual_inc']"
      ],
      "execution_count": 0,
      "outputs": []
    },
    {
      "cell_type": "markdown",
      "metadata": {
        "id": "DZ5wTG2NgcPD",
        "colab_type": "text"
      },
      "source": [
        "Checking Loan Default Rates wrt grade of Loan Assigned"
      ]
    },
    {
      "cell_type": "code",
      "metadata": {
        "id": "WJi36li6gQcD",
        "colab_type": "code",
        "colab": {
          "base_uri": "https://localhost:8080/",
          "height": 436
        },
        "outputId": "9551dea9-73d4-46bf-d22d-6a331c75814d"
      },
      "source": [
        "#check loans default wrt individual variables \n",
        "LoanCateg = pd.DataFrame(loan.groupby('grade')['hasDefaulted'].value_counts().unstack())\n",
        "LoanCateg['gradeDefault'] = LoanCateg[1]/(LoanCateg[0]+LoanCateg[1])\n",
        "\n",
        "listLoan = ['A','B','C','D','E','F','G']\n",
        "print (LoanCateg)\n",
        "\n",
        "import seaborn as sns\n",
        "sns.set(style=\"whitegrid\")\n",
        "ax =sns.barplot(listLoan,LoanCateg['gradeDefault'])\n",
        "ax.set(xlabel='Loan Grade', ylabel='% Defaults')\n",
        "\n",
        "\n",
        "\n",
        "plt.show()"
      ],
      "execution_count": 78,
      "outputs": [
        {
          "output_type": "stream",
          "text": [
            "hasDefaulted      0     1  gradeDefault\n",
            "grade                                  \n",
            "A              9443   602          0.06\n",
            "B             10250  1425          0.12\n",
            "C              6487  1347          0.17\n",
            "D              3967  1118          0.22\n",
            "E              1948   715          0.27\n",
            "F               657   319          0.33\n",
            "G               198   101          0.34\n"
          ],
          "name": "stdout"
        },
        {
          "output_type": "display_data",
          "data": {
            "image/png": "[encoded data removed]",
            "text/plain": [
              "<Figure size 432x288 with 1 Axes>"
            ]
          },
          "metadata": {
            "tags": []
          }
        }
      ]
    },
    {
      "cell_type": "markdown",
      "metadata": {
        "id": "Nzcl36RQgeqR",
        "colab_type": "text"
      },
      "source": [
        "Important Insight : The Default % increases as Grade of loan from A to B. \n",
        "We should consider the grade if loan as important variable"
      ]
    },
    {
      "cell_type": "markdown",
      "metadata": {
        "id": "l174Vug-QQgL",
        "colab_type": "text"
      },
      "source": [
        "Check for categorical Variables"
      ]
    },
    {
      "cell_type": "code",
      "metadata": {
        "id": "ft22CSpgQOMz",
        "colab_type": "code",
        "colab": {
          "base_uri": "https://localhost:8080/",
          "height": 33
        },
        "outputId": "6c2b7654-7d7c-45b3-8c37-c10e29a71e7e"
      },
      "source": [
        "%pip install simple_colors\n",
        "from simple_colors import *\n",
        "\n",
        "def columnAnalysis(column, catList):\n",
        "    Threshold =15\n",
        "    uniqueVal = column.unique()\n",
        "    numUniqueVal = len (uniqueVal)\n",
        "    printUnique = uniqueVal if numUniqueVal < Threshold else \"\"\n",
        "    printString = str(column.name) + \" UniqueVal : \" + str(numUniqueVal) \n",
        "    if (numUniqueVal <= Threshold and numUniqueVal>1):\n",
        "        print(red(printString, 'bold'), end =\"   \")\n",
        "        print(printUnique)\n",
        "        catList.append(column.name)\n",
        "    else :\n",
        "        print(printString)\n",
        "\n",
        "    return catList"
      ],
      "execution_count": 95,
      "outputs": [
        {
          "output_type": "stream",
          "text": [
            "Requirement already satisfied: simple_colors in /usr/local/lib/python3.6/dist-packages (0.1.5)\n"
          ],
          "name": "stdout"
        }
      ]
    },
    {
      "cell_type": "code",
      "metadata": {
        "id": "zcIDVFf8QuWi",
        "colab_type": "code",
        "colab": {
          "base_uri": "https://localhost:8080/",
          "height": 1000
        },
        "outputId": "ba50c2d4-e7d6-4ad5-e35e-691ed5212a8b"
      },
      "source": [
        "catgoricalVariables = []\n",
        "for column in loan:\n",
        "   catgoricalVariables = columnAnalysis(loan[column],catgoricalVariables)"
      ],
      "execution_count": 109,
      "outputs": [
        {
          "output_type": "stream",
          "text": [
            "id UniqueVal : 38577\n",
            "member_id UniqueVal : 38577\n",
            "loan_amnt UniqueVal : 870\n",
            "funded_amnt UniqueVal : 1019\n",
            "funded_amnt_inv UniqueVal : 8050\n",
            "\u001b[1;31mterm UniqueVal : 2\u001b[0m   [' 36 months' ' 60 months']\n",
            "int_rate UniqueVal : 370\n",
            "installment UniqueVal : 15022\n",
            "\u001b[1;31mgrade UniqueVal : 7\u001b[0m   ['B' 'C' 'A' 'E' 'F' 'D' 'G']\n",
            "sub_grade UniqueVal : 35\n",
            "emp_title UniqueVal : 28028\n",
            "\u001b[1;31memp_length UniqueVal : 12\u001b[0m   ['10+ years' '< 1 year' '3 years' '8 years' '9 years' '4 years' '5 years'\n",
            " '1 year' '6 years' '2 years' '7 years' nan]\n",
            "\u001b[1;31mhome_ownership UniqueVal : 5\u001b[0m   ['RENT' 'OWN' 'MORTGAGE' 'OTHER' 'NONE']\n",
            "annual_inc UniqueVal : 5215\n",
            "\u001b[1;31mverification_status UniqueVal : 3\u001b[0m   ['Verified' 'Source Verified' 'Not Verified']\n",
            "issue_d UniqueVal : 55\n",
            "\u001b[1;31mloan_status UniqueVal : 2\u001b[0m   ['Fully Paid' 'Charged Off']\n",
            "pymnt_plan UniqueVal : 1\n",
            "url UniqueVal : 38577\n",
            "desc UniqueVal : 25804\n",
            "\u001b[1;31mpurpose UniqueVal : 14\u001b[0m   ['credit_card' 'car' 'small_business' 'other' 'wedding'\n",
            " 'debt_consolidation' 'home_improvement' 'major_purchase' 'medical'\n",
            " 'moving' 'vacation' 'house' 'renewable_energy' 'educational']\n",
            "title UniqueVal : 19298\n",
            "zip_code UniqueVal : 822\n",
            "addr_state UniqueVal : 50\n",
            "dti UniqueVal : 2853\n",
            "\u001b[1;31mdelinq_2yrs UniqueVal : 11\u001b[0m   [ 0  2  3  1  4  6  5  8  7  9 11]\n",
            "earliest_cr_line UniqueVal : 524\n",
            "\u001b[1;31minq_last_6mths UniqueVal : 9\u001b[0m   [1 5 2 3 0 4 6 7 8]\n",
            "open_acc UniqueVal : 40\n",
            "\u001b[1;31mpub_rec UniqueVal : 5\u001b[0m   [0 1 2 3 4]\n",
            "revol_bal UniqueVal : 21275\n",
            "revol_util UniqueVal : 1089\n",
            "total_acc UniqueVal : 82\n",
            "initial_list_status UniqueVal : 1\n",
            "out_prncp UniqueVal : 1\n",
            "out_prncp_inv UniqueVal : 1\n",
            "total_pymnt UniqueVal : 36714\n",
            "total_pymnt_inv UniqueVal : 36387\n",
            "total_rec_prncp UniqueVal : 6841\n",
            "total_rec_int UniqueVal : 34025\n",
            "total_rec_late_fee UniqueVal : 1320\n",
            "recoveries UniqueVal : 4040\n",
            "collection_recovery_fee UniqueVal : 2616\n",
            "last_pymnt_d UniqueVal : 102\n",
            "last_pymnt_amnt UniqueVal : 34418\n",
            "last_credit_pull_d UniqueVal : 107\n",
            "\u001b[1;31mcollections_12_mths_ex_med UniqueVal : 2\u001b[0m   [ 0. nan]\n",
            "policy_code UniqueVal : 1\n",
            "application_type UniqueVal : 1\n",
            "acc_now_delinq UniqueVal : 1\n",
            "\u001b[1;31mchargeoff_within_12_mths UniqueVal : 2\u001b[0m   [ 0. nan]\n",
            "delinq_amnt UniqueVal : 1\n",
            "\u001b[1;31mpub_rec_bankruptcies UniqueVal : 4\u001b[0m   [ 0.  1.  2. nan]\n",
            "\u001b[1;31mtax_liens UniqueVal : 2\u001b[0m   [ 0. nan]\n",
            "\u001b[1;31mhasDefaulted UniqueVal : 2\u001b[0m   [0 1]\n",
            "Loan_To_Income_Ratio UniqueVal : 12321\n"
          ],
          "name": "stdout"
        }
      ]
    },
    {
      "cell_type": "code",
      "metadata": {
        "id": "apxBc403QzvX",
        "colab_type": "code",
        "colab": {
          "base_uri": "https://localhost:8080/",
          "height": 70
        },
        "outputId": "9c00142a-a94b-467e-ce83-44f3c4765d9c"
      },
      "source": [
        "catgoricalVariables.remove(\"hasDefaulted\")\n",
        "print(len(catgoricalVariables))\n",
        "print(catgoricalVariables)"
      ],
      "execution_count": 110,
      "outputs": [
        {
          "output_type": "stream",
          "text": [
            "14\n",
            "['term', 'grade', 'emp_length', 'home_ownership', 'verification_status', 'loan_status', 'purpose', 'delinq_2yrs', 'inq_last_6mths', 'pub_rec', 'collections_12_mths_ex_med', 'chargeoff_within_12_mths', 'pub_rec_bankruptcies', 'tax_liens']\n"
          ],
          "name": "stdout"
        }
      ]
    },
    {
      "cell_type": "markdown",
      "metadata": {
        "id": "s3BGl7_pW7MJ",
        "colab_type": "text"
      },
      "source": [
        "Important Insight : There are about 15 categorical variables we will look into, We need to check how they affect Default Rates"
      ]
    },
    {
      "cell_type": "code",
      "metadata": {
        "id": "HU58xx7_TqHL",
        "colab_type": "code",
        "colab": {}
      },
      "source": [
        "def plotCategoricalVariables(columnName,dataFrame):\n",
        "    sns.set(style=\"whitegrid\")\n",
        "    ax = dataFrame.groupby(columnName).loan_amnt.count().plot.bar(color=sns.color_palette('dark', 15))\n",
        "    ax.set(xlabel= columnName, ylabel='LoanAmount')\n",
        "    plt.show()\n",
        "\n"
      ],
      "execution_count": 0,
      "outputs": []
    },
    {
      "cell_type": "code",
      "metadata": {
        "id": "sCOe2Ea-aKcg",
        "colab_type": "code",
        "colab": {
          "base_uri": "https://localhost:8080/",
          "height": 1000
        },
        "outputId": "d2029d96-5f28-4a82-d6f6-193b11b471c9"
      },
      "source": [
        "for column in catgoricalVariables:\n",
        "    plotCategoricalVariables(column,loan)"
      ],
      "execution_count": 150,
      "outputs": [
        {
          "output_type": "display_data",
          "data": {
            "image/png": "[encoded data removed]",
            "text/plain": [
              "<Figure size 432x288 with 1 Axes>"
            ]
          },
          "metadata": {
            "tags": []
          }
        },
        {
          "output_type": "display_data",
          "data": {
            "image/png": "[encoded data removed]",
            "text/plain": [
              "<Figure size 432x288 with 1 Axes>"
            ]
          },
          "metadata": {
            "tags": []
          }
        },
        {
          "output_type": "display_data",
          "data": {
            "image/png": "[encoded data removed]",
            "text/plain": [
              "<Figure size 432x288 with 1 Axes>"
            ]
          },
          "metadata": {
            "tags": []
          }
        },
        {
          "output_type": "display_data",
          "data": {
            "image/png": "[encoded data removed]",
            "text/plain": [
              "<Figure size 432x288 with 1 Axes>"
            ]
          },
          "metadata": {
            "tags": []
          }
        },
        {
          "output_type": "display_data",
          "data": {
            "image/png": "[encoded data removed]",
            "text/plain": [
              "<Figure size 432x288 with 1 Axes>"
            ]
          },
          "metadata": {
            "tags": []
          }
        },
        {
          "output_type": "display_data",
          "data": {
            "image/png": "[encoded data removed]",
            "text/plain": [
              "<Figure size 432x288 with 1 Axes>"
            ]
          },
          "metadata": {
            "tags": []
          }
        },
        {
          "output_type": "display_data",
          "data": {
            "image/png": "[encoded data removed]",
            "text/plain": [
              "<Figure size 432x288 with 1 Axes>"
            ]
          },
          "metadata": {
            "tags": []
          }
        },
        {
          "output_type": "display_data",
          "data": {
            "image/png": "[encoded data removed]",
            "text/plain": [
              "<Figure size 432x288 with 1 Axes>"
            ]
          },
          "metadata": {
            "tags": []
          }
        },
        {
          "output_type": "display_data",
          "data": {
            "image/png": "[encoded data removed]",
            "text/plain": [
              "<Figure size 432x288 with 1 Axes>"
            ]
          },
          "metadata": {
            "tags": []
          }
        },
        {
          "output_type": "display_data",
          "data": {
            "image/png": "[encoded data removed]",
            "text/plain": [
              "<Figure size 432x288 with 1 Axes>"
            ]
          },
          "metadata": {
            "tags": []
          }
        },
        {
          "output_type": "display_data",
          "data": {
            "image/png": "[encoded data removed]",
            "text/plain": [
              "<Figure size 432x288 with 1 Axes>"
            ]
          },
          "metadata": {
            "tags": []
          }
        },
        {
          "output_type": "display_data",
          "data": {
            "image/png": "[encoded data removed]",
            "text/plain": [
              "<Figure size 432x288 with 1 Axes>"
            ]
          },
          "metadata": {
            "tags": []
          }
        },
        {
          "output_type": "display_data",
          "data": {
            "image/png": "[encoded data removed]",
            "text/plain": [
              "<Figure size 432x288 with 1 Axes>"
            ]
          },
          "metadata": {
            "tags": []
          }
        },
        {
          "output_type": "display_data",
          "data": {
            "image/png": "[encoded data removed]",
            "text/plain": [
              "<Figure size 432x288 with 1 Axes>"
            ]
          },
          "metadata": {
            "tags": []
          }
        }
      ]
    },
    {
      "cell_type": "code",
      "metadata": {
        "id": "moidklUNekDD",
        "colab_type": "code",
        "colab": {}
      },
      "source": [
        "\n",
        "def plotBox(columnName, dataFrame):\n",
        "    sns.boxplot(x=dataFrame[columnName], y=dataFrame['loan_status'], data=dataFrame, palette=sns.color_palette('dark', 15))\n",
        "    ax.set(xlabel= columnName , ylabel='Loan Status')\n",
        "    plt.show()"
      ],
      "execution_count": 0,
      "outputs": []
    },
    {
      "cell_type": "code",
      "metadata": {
        "id": "2PJrE1jYaVmx",
        "colab_type": "code",
        "colab": {
          "base_uri": "https://localhost:8080/",
          "height": 285
        },
        "outputId": "a588bae8-7412-4783-f797-007537e533ca"
      },
      "source": [
        "\n",
        "plotBox('loan_amnt', loan)"
      ],
      "execution_count": 128,
      "outputs": [
        {
          "output_type": "display_data",
          "data": {
            "image/png": "[encoded data removed]",
            "text/plain": [
              "<Figure size 432x288 with 1 Axes>"
            ]
          },
          "metadata": {
            "tags": []
          }
        }
      ]
    },
    {
      "cell_type": "code",
      "metadata": {
        "id": "JpWcFVAIdUzm",
        "colab_type": "code",
        "colab": {}
      },
      "source": [
        "def plotCategoricalDefaults(dataFrame):\n",
        "    dataFrame.groupby('hasDefaulted').value_counts().unstack().plot.barh()\n"
      ],
      "execution_count": 0,
      "outputs": []
    },
    {
      "cell_type": "code",
      "metadata": {
        "id": "SRMeW3Hoid25",
        "colab_type": "code",
        "colab": {}
      },
      "source": [
        ""
      ],
      "execution_count": 0,
      "outputs": []
    },
    {
      "cell_type": "code",
      "metadata": {
        "id": "Fvbad63sijXh",
        "colab_type": "code",
        "colab": {}
      },
      "source": [
        ""
      ],
      "execution_count": 0,
      "outputs": []
    }
  ]
}