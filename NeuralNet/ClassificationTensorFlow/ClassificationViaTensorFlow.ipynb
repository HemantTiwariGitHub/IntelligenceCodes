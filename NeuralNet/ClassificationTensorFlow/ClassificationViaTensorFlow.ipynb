{
 "cells": [
  {
   "cell_type": "code",
   "execution_count": 1,
   "metadata": {
    "collapsed": true
   },
   "outputs": [],
   "source": [
    "import numpy as np\n",
    "import pandas as pd\n",
    "import matplotlib.pyplot as plt\n",
    "%matplotlib inline\n",
    "import seaborn as sns\n",
    "import tensorflow as tf\n",
    "from sklearn.model_selection import train_test_split\n",
    "from sklearn.preprocessing import MinMaxScaler\n",
    "from sklearn.metrics import mean_squared_error"
   ]
  },
  {
   "cell_type": "code",
   "execution_count": 24,
   "metadata": {
    "collapsed": true
   },
   "outputs": [],
   "source": [
    "dfOrig = pd.read_csv('census_data.csv')"
   ]
  },
  {
   "cell_type": "code",
   "execution_count": 25,
   "metadata": {},
   "outputs": [
    {
     "data": {
      "text/html": [
       "<div>\n",
       "<style>\n",
       "    .dataframe thead tr:only-child th {\n",
       "        text-align: right;\n",
       "    }\n",
       "\n",
       "    .dataframe thead th {\n",
       "        text-align: left;\n",
       "    }\n",
       "\n",
       "    .dataframe tbody tr th {\n",
       "        vertical-align: top;\n",
       "    }\n",
       "</style>\n",
       "<table border=\"1\" class=\"dataframe\">\n",
       "  <thead>\n",
       "    <tr style=\"text-align: right;\">\n",
       "      <th></th>\n",
       "      <th>age</th>\n",
       "      <th>workclass</th>\n",
       "      <th>education</th>\n",
       "      <th>education_num</th>\n",
       "      <th>marital_status</th>\n",
       "      <th>occupation</th>\n",
       "      <th>relationship</th>\n",
       "      <th>race</th>\n",
       "      <th>gender</th>\n",
       "      <th>capital_gain</th>\n",
       "      <th>capital_loss</th>\n",
       "      <th>hours_per_week</th>\n",
       "      <th>native_country</th>\n",
       "      <th>income_bracket</th>\n",
       "    </tr>\n",
       "  </thead>\n",
       "  <tbody>\n",
       "    <tr>\n",
       "      <th>0</th>\n",
       "      <td>39</td>\n",
       "      <td>State-gov</td>\n",
       "      <td>Bachelors</td>\n",
       "      <td>13</td>\n",
       "      <td>Never-married</td>\n",
       "      <td>Adm-clerical</td>\n",
       "      <td>Not-in-family</td>\n",
       "      <td>White</td>\n",
       "      <td>Male</td>\n",
       "      <td>2174</td>\n",
       "      <td>0</td>\n",
       "      <td>40</td>\n",
       "      <td>United-States</td>\n",
       "      <td>&lt;=50K</td>\n",
       "    </tr>\n",
       "    <tr>\n",
       "      <th>1</th>\n",
       "      <td>50</td>\n",
       "      <td>Self-emp-not-inc</td>\n",
       "      <td>Bachelors</td>\n",
       "      <td>13</td>\n",
       "      <td>Married-civ-spouse</td>\n",
       "      <td>Exec-managerial</td>\n",
       "      <td>Husband</td>\n",
       "      <td>White</td>\n",
       "      <td>Male</td>\n",
       "      <td>0</td>\n",
       "      <td>0</td>\n",
       "      <td>13</td>\n",
       "      <td>United-States</td>\n",
       "      <td>&lt;=50K</td>\n",
       "    </tr>\n",
       "    <tr>\n",
       "      <th>2</th>\n",
       "      <td>38</td>\n",
       "      <td>Private</td>\n",
       "      <td>HS-grad</td>\n",
       "      <td>9</td>\n",
       "      <td>Divorced</td>\n",
       "      <td>Handlers-cleaners</td>\n",
       "      <td>Not-in-family</td>\n",
       "      <td>White</td>\n",
       "      <td>Male</td>\n",
       "      <td>0</td>\n",
       "      <td>0</td>\n",
       "      <td>40</td>\n",
       "      <td>United-States</td>\n",
       "      <td>&lt;=50K</td>\n",
       "    </tr>\n",
       "    <tr>\n",
       "      <th>3</th>\n",
       "      <td>53</td>\n",
       "      <td>Private</td>\n",
       "      <td>11th</td>\n",
       "      <td>7</td>\n",
       "      <td>Married-civ-spouse</td>\n",
       "      <td>Handlers-cleaners</td>\n",
       "      <td>Husband</td>\n",
       "      <td>Black</td>\n",
       "      <td>Male</td>\n",
       "      <td>0</td>\n",
       "      <td>0</td>\n",
       "      <td>40</td>\n",
       "      <td>United-States</td>\n",
       "      <td>&lt;=50K</td>\n",
       "    </tr>\n",
       "    <tr>\n",
       "      <th>4</th>\n",
       "      <td>28</td>\n",
       "      <td>Private</td>\n",
       "      <td>Bachelors</td>\n",
       "      <td>13</td>\n",
       "      <td>Married-civ-spouse</td>\n",
       "      <td>Prof-specialty</td>\n",
       "      <td>Wife</td>\n",
       "      <td>Black</td>\n",
       "      <td>Female</td>\n",
       "      <td>0</td>\n",
       "      <td>0</td>\n",
       "      <td>40</td>\n",
       "      <td>Cuba</td>\n",
       "      <td>&lt;=50K</td>\n",
       "    </tr>\n",
       "  </tbody>\n",
       "</table>\n",
       "</div>"
      ],
      "text/plain": [
       "   age          workclass   education  education_num       marital_status  \\\n",
       "0   39          State-gov   Bachelors             13        Never-married   \n",
       "1   50   Self-emp-not-inc   Bachelors             13   Married-civ-spouse   \n",
       "2   38            Private     HS-grad              9             Divorced   \n",
       "3   53            Private        11th              7   Married-civ-spouse   \n",
       "4   28            Private   Bachelors             13   Married-civ-spouse   \n",
       "\n",
       "           occupation    relationship    race   gender  capital_gain  \\\n",
       "0        Adm-clerical   Not-in-family   White     Male          2174   \n",
       "1     Exec-managerial         Husband   White     Male             0   \n",
       "2   Handlers-cleaners   Not-in-family   White     Male             0   \n",
       "3   Handlers-cleaners         Husband   Black     Male             0   \n",
       "4      Prof-specialty            Wife   Black   Female             0   \n",
       "\n",
       "   capital_loss  hours_per_week  native_country income_bracket  \n",
       "0             0              40   United-States          <=50K  \n",
       "1             0              13   United-States          <=50K  \n",
       "2             0              40   United-States          <=50K  \n",
       "3             0              40   United-States          <=50K  \n",
       "4             0              40            Cuba          <=50K  "
      ]
     },
     "execution_count": 25,
     "metadata": {},
     "output_type": "execute_result"
    }
   ],
   "source": [
    "dfOrig.head()"
   ]
  },
  {
   "cell_type": "code",
   "execution_count": 26,
   "metadata": {},
   "outputs": [
    {
     "data": {
      "text/plain": [
       "(32561, 14)"
      ]
     },
     "execution_count": 26,
     "metadata": {},
     "output_type": "execute_result"
    }
   ],
   "source": [
    "dfOrig.shape"
   ]
  },
  {
   "cell_type": "code",
   "execution_count": 27,
   "metadata": {},
   "outputs": [
    {
     "data": {
      "text/html": [
       "<div>\n",
       "<style>\n",
       "    .dataframe thead tr:only-child th {\n",
       "        text-align: right;\n",
       "    }\n",
       "\n",
       "    .dataframe thead th {\n",
       "        text-align: left;\n",
       "    }\n",
       "\n",
       "    .dataframe tbody tr th {\n",
       "        vertical-align: top;\n",
       "    }\n",
       "</style>\n",
       "<table border=\"1\" class=\"dataframe\">\n",
       "  <thead>\n",
       "    <tr style=\"text-align: right;\">\n",
       "      <th></th>\n",
       "      <th>age</th>\n",
       "      <th>education_num</th>\n",
       "      <th>capital_gain</th>\n",
       "      <th>capital_loss</th>\n",
       "      <th>hours_per_week</th>\n",
       "    </tr>\n",
       "  </thead>\n",
       "  <tbody>\n",
       "    <tr>\n",
       "      <th>count</th>\n",
       "      <td>32561.000000</td>\n",
       "      <td>32561.000000</td>\n",
       "      <td>32561.000000</td>\n",
       "      <td>32561.000000</td>\n",
       "      <td>32561.000000</td>\n",
       "    </tr>\n",
       "    <tr>\n",
       "      <th>mean</th>\n",
       "      <td>38.581647</td>\n",
       "      <td>10.080679</td>\n",
       "      <td>1077.648844</td>\n",
       "      <td>87.303830</td>\n",
       "      <td>40.437456</td>\n",
       "    </tr>\n",
       "    <tr>\n",
       "      <th>std</th>\n",
       "      <td>13.640433</td>\n",
       "      <td>2.572720</td>\n",
       "      <td>7385.292085</td>\n",
       "      <td>402.960219</td>\n",
       "      <td>12.347429</td>\n",
       "    </tr>\n",
       "    <tr>\n",
       "      <th>min</th>\n",
       "      <td>17.000000</td>\n",
       "      <td>1.000000</td>\n",
       "      <td>0.000000</td>\n",
       "      <td>0.000000</td>\n",
       "      <td>1.000000</td>\n",
       "    </tr>\n",
       "    <tr>\n",
       "      <th>25%</th>\n",
       "      <td>28.000000</td>\n",
       "      <td>9.000000</td>\n",
       "      <td>0.000000</td>\n",
       "      <td>0.000000</td>\n",
       "      <td>40.000000</td>\n",
       "    </tr>\n",
       "    <tr>\n",
       "      <th>50%</th>\n",
       "      <td>37.000000</td>\n",
       "      <td>10.000000</td>\n",
       "      <td>0.000000</td>\n",
       "      <td>0.000000</td>\n",
       "      <td>40.000000</td>\n",
       "    </tr>\n",
       "    <tr>\n",
       "      <th>75%</th>\n",
       "      <td>48.000000</td>\n",
       "      <td>12.000000</td>\n",
       "      <td>0.000000</td>\n",
       "      <td>0.000000</td>\n",
       "      <td>45.000000</td>\n",
       "    </tr>\n",
       "    <tr>\n",
       "      <th>max</th>\n",
       "      <td>90.000000</td>\n",
       "      <td>16.000000</td>\n",
       "      <td>99999.000000</td>\n",
       "      <td>4356.000000</td>\n",
       "      <td>99.000000</td>\n",
       "    </tr>\n",
       "  </tbody>\n",
       "</table>\n",
       "</div>"
      ],
      "text/plain": [
       "                age  education_num  capital_gain  capital_loss  hours_per_week\n",
       "count  32561.000000   32561.000000  32561.000000  32561.000000    32561.000000\n",
       "mean      38.581647      10.080679   1077.648844     87.303830       40.437456\n",
       "std       13.640433       2.572720   7385.292085    402.960219       12.347429\n",
       "min       17.000000       1.000000      0.000000      0.000000        1.000000\n",
       "25%       28.000000       9.000000      0.000000      0.000000       40.000000\n",
       "50%       37.000000      10.000000      0.000000      0.000000       40.000000\n",
       "75%       48.000000      12.000000      0.000000      0.000000       45.000000\n",
       "max       90.000000      16.000000  99999.000000   4356.000000       99.000000"
      ]
     },
     "execution_count": 27,
     "metadata": {},
     "output_type": "execute_result"
    }
   ],
   "source": [
    "dfOrig.describe()"
   ]
  },
  {
   "cell_type": "code",
   "execution_count": 28,
   "metadata": {},
   "outputs": [],
   "source": [
    "def getIncomeLabel(val):\n",
    "    if val==' <=50K':\n",
    "        return 0\n",
    "    else:\n",
    "        return 1\n",
    "        "
   ]
  },
  {
   "cell_type": "code",
   "execution_count": 29,
   "metadata": {},
   "outputs": [],
   "source": [
    " dfOrig['income_bracket'] = dfOrig['income_bracket'].apply(getIncomeLabel)"
   ]
  },
  {
   "cell_type": "code",
   "execution_count": 30,
   "metadata": {},
   "outputs": [
    {
     "data": {
      "text/html": [
       "<div>\n",
       "<style>\n",
       "    .dataframe thead tr:only-child th {\n",
       "        text-align: right;\n",
       "    }\n",
       "\n",
       "    .dataframe thead th {\n",
       "        text-align: left;\n",
       "    }\n",
       "\n",
       "    .dataframe tbody tr th {\n",
       "        vertical-align: top;\n",
       "    }\n",
       "</style>\n",
       "<table border=\"1\" class=\"dataframe\">\n",
       "  <thead>\n",
       "    <tr style=\"text-align: right;\">\n",
       "      <th></th>\n",
       "      <th>age</th>\n",
       "      <th>workclass</th>\n",
       "      <th>education</th>\n",
       "      <th>education_num</th>\n",
       "      <th>marital_status</th>\n",
       "      <th>occupation</th>\n",
       "      <th>relationship</th>\n",
       "      <th>race</th>\n",
       "      <th>gender</th>\n",
       "      <th>capital_gain</th>\n",
       "      <th>capital_loss</th>\n",
       "      <th>hours_per_week</th>\n",
       "      <th>native_country</th>\n",
       "      <th>income_bracket</th>\n",
       "    </tr>\n",
       "  </thead>\n",
       "  <tbody>\n",
       "    <tr>\n",
       "      <th>0</th>\n",
       "      <td>39</td>\n",
       "      <td>State-gov</td>\n",
       "      <td>Bachelors</td>\n",
       "      <td>13</td>\n",
       "      <td>Never-married</td>\n",
       "      <td>Adm-clerical</td>\n",
       "      <td>Not-in-family</td>\n",
       "      <td>White</td>\n",
       "      <td>Male</td>\n",
       "      <td>2174</td>\n",
       "      <td>0</td>\n",
       "      <td>40</td>\n",
       "      <td>United-States</td>\n",
       "      <td>0</td>\n",
       "    </tr>\n",
       "    <tr>\n",
       "      <th>1</th>\n",
       "      <td>50</td>\n",
       "      <td>Self-emp-not-inc</td>\n",
       "      <td>Bachelors</td>\n",
       "      <td>13</td>\n",
       "      <td>Married-civ-spouse</td>\n",
       "      <td>Exec-managerial</td>\n",
       "      <td>Husband</td>\n",
       "      <td>White</td>\n",
       "      <td>Male</td>\n",
       "      <td>0</td>\n",
       "      <td>0</td>\n",
       "      <td>13</td>\n",
       "      <td>United-States</td>\n",
       "      <td>0</td>\n",
       "    </tr>\n",
       "    <tr>\n",
       "      <th>2</th>\n",
       "      <td>38</td>\n",
       "      <td>Private</td>\n",
       "      <td>HS-grad</td>\n",
       "      <td>9</td>\n",
       "      <td>Divorced</td>\n",
       "      <td>Handlers-cleaners</td>\n",
       "      <td>Not-in-family</td>\n",
       "      <td>White</td>\n",
       "      <td>Male</td>\n",
       "      <td>0</td>\n",
       "      <td>0</td>\n",
       "      <td>40</td>\n",
       "      <td>United-States</td>\n",
       "      <td>0</td>\n",
       "    </tr>\n",
       "    <tr>\n",
       "      <th>3</th>\n",
       "      <td>53</td>\n",
       "      <td>Private</td>\n",
       "      <td>11th</td>\n",
       "      <td>7</td>\n",
       "      <td>Married-civ-spouse</td>\n",
       "      <td>Handlers-cleaners</td>\n",
       "      <td>Husband</td>\n",
       "      <td>Black</td>\n",
       "      <td>Male</td>\n",
       "      <td>0</td>\n",
       "      <td>0</td>\n",
       "      <td>40</td>\n",
       "      <td>United-States</td>\n",
       "      <td>0</td>\n",
       "    </tr>\n",
       "    <tr>\n",
       "      <th>4</th>\n",
       "      <td>28</td>\n",
       "      <td>Private</td>\n",
       "      <td>Bachelors</td>\n",
       "      <td>13</td>\n",
       "      <td>Married-civ-spouse</td>\n",
       "      <td>Prof-specialty</td>\n",
       "      <td>Wife</td>\n",
       "      <td>Black</td>\n",
       "      <td>Female</td>\n",
       "      <td>0</td>\n",
       "      <td>0</td>\n",
       "      <td>40</td>\n",
       "      <td>Cuba</td>\n",
       "      <td>0</td>\n",
       "    </tr>\n",
       "  </tbody>\n",
       "</table>\n",
       "</div>"
      ],
      "text/plain": [
       "   age          workclass   education  education_num       marital_status  \\\n",
       "0   39          State-gov   Bachelors             13        Never-married   \n",
       "1   50   Self-emp-not-inc   Bachelors             13   Married-civ-spouse   \n",
       "2   38            Private     HS-grad              9             Divorced   \n",
       "3   53            Private        11th              7   Married-civ-spouse   \n",
       "4   28            Private   Bachelors             13   Married-civ-spouse   \n",
       "\n",
       "           occupation    relationship    race   gender  capital_gain  \\\n",
       "0        Adm-clerical   Not-in-family   White     Male          2174   \n",
       "1     Exec-managerial         Husband   White     Male             0   \n",
       "2   Handlers-cleaners   Not-in-family   White     Male             0   \n",
       "3   Handlers-cleaners         Husband   Black     Male             0   \n",
       "4      Prof-specialty            Wife   Black   Female             0   \n",
       "\n",
       "   capital_loss  hours_per_week  native_country  income_bracket  \n",
       "0             0              40   United-States               0  \n",
       "1             0              13   United-States               0  \n",
       "2             0              40   United-States               0  \n",
       "3             0              40   United-States               0  \n",
       "4             0              40            Cuba               0  "
      ]
     },
     "execution_count": 30,
     "metadata": {},
     "output_type": "execute_result"
    }
   ],
   "source": [
    "dfOrig.head()"
   ]
  },
  {
   "cell_type": "code",
   "execution_count": 31,
   "metadata": {},
   "outputs": [
    {
     "data": {
      "text/plain": [
       "Index(['age', 'workclass', 'education', 'education_num', 'marital_status',\n",
       "       'occupation', 'relationship', 'race', 'gender', 'capital_gain',\n",
       "       'capital_loss', 'hours_per_week', 'native_country', 'income_bracket'],\n",
       "      dtype='object')"
      ]
     },
     "execution_count": 31,
     "metadata": {},
     "output_type": "execute_result"
    }
   ],
   "source": [
    "dfOrig.columns"
   ]
  },
  {
   "cell_type": "code",
   "execution_count": 32,
   "metadata": {
    "collapsed": true
   },
   "outputs": [],
   "source": [
    "trainFeatures = ['age', 'workclass', 'education', 'education_num', 'marital_status',\n",
    "       'occupation', 'relationship', 'race', 'gender', 'capital_gain',\n",
    "       'capital_loss', 'hours_per_week', 'native_country']\n",
    "target = ['income_bracket']"
   ]
  },
  {
   "cell_type": "code",
   "execution_count": 33,
   "metadata": {
    "collapsed": true
   },
   "outputs": [],
   "source": [
    "X_train, X_test, y_train, y_test = train_test_split(dfOrig[trainFeatures], \n",
    "                                                    dfOrig[target], test_size=0.30, \n",
    "                                                    random_state=101)"
   ]
  },
  {
   "cell_type": "code",
   "execution_count": 35,
   "metadata": {
    "collapsed": true
   },
   "outputs": [],
   "source": [
    "#create features\n",
    "\n",
    "workclass_ = tf.feature_column.categorical_column_with_hash_bucket('workclass',hash_bucket_size=100)\n",
    "education_ = tf.feature_column.categorical_column_with_hash_bucket('education',hash_bucket_size=100)\n",
    "marital_status_ = tf.feature_column.categorical_column_with_hash_bucket('marital_status',hash_bucket_size=100)\n",
    "occupation_ = tf.feature_column.categorical_column_with_hash_bucket('occupation',hash_bucket_size=100)\n",
    "relationship_ = tf.feature_column.categorical_column_with_hash_bucket('relationship',hash_bucket_size=100)\n",
    "race_ = tf.feature_column.categorical_column_with_hash_bucket('race',hash_bucket_size=100)\n",
    "gender_ = tf.feature_column.categorical_column_with_vocabulary_list('gender', [\"Male\", \"Female\"])\n",
    "native_country_ = tf.feature_column.categorical_column_with_hash_bucket('native_country',hash_bucket_size=100)"
   ]
  },
  {
   "cell_type": "code",
   "execution_count": 49,
   "metadata": {
    "collapsed": true
   },
   "outputs": [],
   "source": [
    "age_ = tf.feature_column.numeric_column(\"age\")\n",
    "education_num_ = tf.feature_column.numeric_column(\"education_num\")\n",
    "capital_gain_ = tf.feature_column.numeric_column(\"capital_gain\")\n",
    "capital_loss_ = tf.feature_column.numeric_column(\"capital_loss\")\n",
    "hours_per_week_ = tf.feature_column.numeric_column(\"hours_per_week\")"
   ]
  },
  {
   "cell_type": "code",
   "execution_count": 50,
   "metadata": {},
   "outputs": [
    {
     "data": {
      "text/plain": [
       "_NumericColumn(key='age', shape=(1,), default_value=None, dtype=tf.float32, normalizer_fn=None)"
      ]
     },
     "execution_count": 50,
     "metadata": {},
     "output_type": "execute_result"
    }
   ],
   "source": [
    "age_"
   ]
  },
  {
   "cell_type": "code",
   "execution_count": 93,
   "metadata": {},
   "outputs": [],
   "source": [
    "feat_columns = [age_, workclass_, education_, education_num_,marital_status_,\n",
    "       occupation_,relationship_, gender_, capital_gain_,\n",
    "       capital_loss_, hours_per_week_, native_country_,race_]"
   ]
  },
  {
   "cell_type": "code",
   "execution_count": 94,
   "metadata": {},
   "outputs": [],
   "source": [
    "input_func = tf.estimator.inputs.pandas_input_fn(x=X_train,y=y_train,batch_size=100,num_epochs=None,num_threads=5,shuffle=True)"
   ]
  },
  {
   "cell_type": "code",
   "execution_count": 95,
   "metadata": {
    "collapsed": true
   },
   "outputs": [],
   "source": [
    "pred_func = tf.estimator.inputs.pandas_input_fn(x=X_test,batch_size=len(X_test),shuffle=False)"
   ]
  },
  {
   "cell_type": "code",
   "execution_count": 96,
   "metadata": {},
   "outputs": [
    {
     "name": "stdout",
     "output_type": "stream",
     "text": [
      "INFO:tensorflow:Using default config.\n",
      "WARNING:tensorflow:Using temporary folder as model directory: C:\\Users\\OmSai\\AppData\\Local\\Temp\\tmpqwauscqk\n",
      "INFO:tensorflow:Using config: {'_model_dir': 'C:\\\\Users\\\\OmSai\\\\AppData\\\\Local\\\\Temp\\\\tmpqwauscqk', '_tf_random_seed': 1, '_save_summary_steps': 100, '_save_checkpoints_secs': 600, '_save_checkpoints_steps': None, '_session_config': None, '_keep_checkpoint_max': 5, '_keep_checkpoint_every_n_hours': 10000, '_log_step_count_steps': 100}\n"
     ]
    }
   ],
   "source": [
    "model = tf.estimator.LinearClassifier(feature_columns= feat_columns)"
   ]
  },
  {
   "cell_type": "code",
   "execution_count": null,
   "metadata": {},
   "outputs": [
    {
     "name": "stdout",
     "output_type": "stream",
     "text": [
      "INFO:tensorflow:Create CheckpointSaverHook.\n",
      "INFO:tensorflow:Saving checkpoints for 1 into C:\\Users\\OmSai\\AppData\\Local\\Temp\\tmpqwauscqk\\model.ckpt.\n",
      "INFO:tensorflow:loss = 69.3147, step = 1\n",
      "INFO:tensorflow:global_step/sec: 217.659\n",
      "INFO:tensorflow:loss = 464.492, step = 101 (0.461 sec)\n",
      "INFO:tensorflow:global_step/sec: 248.403\n",
      "INFO:tensorflow:loss = 56.9563, step = 201 (0.402 sec)\n",
      "INFO:tensorflow:global_step/sec: 254.058\n",
      "INFO:tensorflow:loss = 221.677, step = 301 (0.394 sec)\n",
      "INFO:tensorflow:global_step/sec: 250.626\n",
      "INFO:tensorflow:loss = 732.306, step = 401 (0.399 sec)\n",
      "INFO:tensorflow:global_step/sec: 245.932\n",
      "INFO:tensorflow:loss = 111.026, step = 501 (0.407 sec)\n",
      "INFO:tensorflow:global_step/sec: 247.496\n",
      "INFO:tensorflow:loss = 49.2504, step = 601 (0.404 sec)\n",
      "INFO:tensorflow:global_step/sec: 245.29\n",
      "INFO:tensorflow:loss = 280.794, step = 701 (0.408 sec)\n",
      "INFO:tensorflow:global_step/sec: 248.397\n",
      "INFO:tensorflow:loss = 451.214, step = 801 (0.403 sec)\n",
      "INFO:tensorflow:global_step/sec: 255.802\n",
      "INFO:tensorflow:loss = 70.6383, step = 901 (0.391 sec)\n",
      "INFO:tensorflow:global_step/sec: 245.816\n",
      "INFO:tensorflow:loss = 160.696, step = 1001 (0.406 sec)\n",
      "INFO:tensorflow:global_step/sec: 244.511\n",
      "INFO:tensorflow:loss = 92.8254, step = 1101 (0.410 sec)\n",
      "INFO:tensorflow:global_step/sec: 223.87\n",
      "INFO:tensorflow:loss = 443.558, step = 1201 (0.446 sec)\n",
      "INFO:tensorflow:global_step/sec: 263.875\n",
      "INFO:tensorflow:loss = 83.5332, step = 1301 (0.379 sec)\n",
      "INFO:tensorflow:global_step/sec: 257.682\n",
      "INFO:tensorflow:loss = 84.6241, step = 1401 (0.388 sec)\n",
      "INFO:tensorflow:global_step/sec: 262.12\n",
      "INFO:tensorflow:loss = 45.9045, step = 1501 (0.382 sec)\n",
      "INFO:tensorflow:global_step/sec: 262.464\n",
      "INFO:tensorflow:loss = 39.2356, step = 1601 (0.381 sec)\n",
      "INFO:tensorflow:global_step/sec: 262.405\n",
      "INFO:tensorflow:loss = 221.854, step = 1701 (0.381 sec)\n",
      "INFO:tensorflow:global_step/sec: 262.375\n",
      "INFO:tensorflow:loss = 119.707, step = 1801 (0.381 sec)\n",
      "INFO:tensorflow:global_step/sec: 263.815\n",
      "INFO:tensorflow:loss = 64.9259, step = 1901 (0.379 sec)\n",
      "INFO:tensorflow:global_step/sec: 233.296\n",
      "INFO:tensorflow:loss = 49.3667, step = 2001 (0.429 sec)\n",
      "INFO:tensorflow:global_step/sec: 279.367\n",
      "INFO:tensorflow:loss = 74.6361, step = 2101 (0.358 sec)\n",
      "INFO:tensorflow:global_step/sec: 271.753\n",
      "INFO:tensorflow:loss = 47.9828, step = 2201 (0.368 sec)\n",
      "INFO:tensorflow:global_step/sec: 224.627\n",
      "INFO:tensorflow:loss = 69.5137, step = 2301 (0.446 sec)\n",
      "INFO:tensorflow:global_step/sec: 268.482\n",
      "INFO:tensorflow:loss = 62.7048, step = 2401 (0.373 sec)\n",
      "INFO:tensorflow:global_step/sec: 271.386\n",
      "INFO:tensorflow:loss = 33.8225, step = 2501 (0.370 sec)\n",
      "INFO:tensorflow:global_step/sec: 253.211\n",
      "INFO:tensorflow:loss = 79.8674, step = 2601 (0.394 sec)\n",
      "INFO:tensorflow:global_step/sec: 248.096\n",
      "INFO:tensorflow:loss = 39.5889, step = 2701 (0.404 sec)\n",
      "INFO:tensorflow:global_step/sec: 229.011\n",
      "INFO:tensorflow:loss = 305.785, step = 2801 (0.436 sec)\n",
      "INFO:tensorflow:global_step/sec: 275.051\n",
      "INFO:tensorflow:loss = 106.404, step = 2901 (0.363 sec)\n",
      "INFO:tensorflow:global_step/sec: 252.799\n",
      "INFO:tensorflow:loss = 41.5253, step = 3001 (0.396 sec)\n",
      "INFO:tensorflow:global_step/sec: 252.467\n",
      "INFO:tensorflow:loss = 49.9356, step = 3101 (0.396 sec)\n",
      "INFO:tensorflow:global_step/sec: 240.097\n",
      "INFO:tensorflow:loss = 155.176, step = 3201 (0.417 sec)\n",
      "INFO:tensorflow:global_step/sec: 245.91\n",
      "INFO:tensorflow:loss = 78.9792, step = 3301 (0.407 sec)\n",
      "INFO:tensorflow:global_step/sec: 236.63\n",
      "INFO:tensorflow:loss = 48.6302, step = 3401 (0.422 sec)\n",
      "INFO:tensorflow:global_step/sec: 245.647\n",
      "INFO:tensorflow:loss = 45.7993, step = 3501 (0.407 sec)\n",
      "INFO:tensorflow:global_step/sec: 229.726\n",
      "INFO:tensorflow:loss = 349.768, step = 3601 (0.435 sec)\n",
      "INFO:tensorflow:global_step/sec: 242.091\n",
      "INFO:tensorflow:loss = 33.7034, step = 3701 (0.413 sec)\n",
      "INFO:tensorflow:global_step/sec: 265.954\n",
      "INFO:tensorflow:loss = 31.981, step = 3801 (0.376 sec)\n",
      "INFO:tensorflow:global_step/sec: 230.871\n",
      "INFO:tensorflow:loss = 83.1707, step = 3901 (0.433 sec)\n",
      "INFO:tensorflow:global_step/sec: 218.237\n",
      "INFO:tensorflow:loss = 53.0951, step = 4001 (0.459 sec)\n",
      "INFO:tensorflow:global_step/sec: 230.608\n",
      "INFO:tensorflow:loss = 75.5124, step = 4101 (0.433 sec)\n",
      "INFO:tensorflow:global_step/sec: 249.96\n",
      "INFO:tensorflow:loss = 92.7989, step = 4201 (0.400 sec)\n",
      "INFO:tensorflow:global_step/sec: 264.869\n",
      "INFO:tensorflow:loss = 30.7326, step = 4301 (0.378 sec)\n",
      "INFO:tensorflow:global_step/sec: 259.051\n",
      "INFO:tensorflow:loss = 24.5882, step = 4401 (0.386 sec)\n",
      "INFO:tensorflow:global_step/sec: 263.753\n",
      "INFO:tensorflow:loss = 61.2021, step = 4501 (0.379 sec)\n",
      "INFO:tensorflow:global_step/sec: 248.112\n",
      "INFO:tensorflow:loss = 55.3362, step = 4601 (0.405 sec)\n",
      "INFO:tensorflow:global_step/sec: 255.982\n",
      "INFO:tensorflow:loss = 46.3848, step = 4701 (0.390 sec)\n",
      "INFO:tensorflow:global_step/sec: 224.367\n",
      "INFO:tensorflow:loss = 42.001, step = 4801 (0.445 sec)\n",
      "INFO:tensorflow:global_step/sec: 246.235\n",
      "INFO:tensorflow:loss = 95.6064, step = 4901 (0.406 sec)\n",
      "INFO:tensorflow:global_step/sec: 244.17\n",
      "INFO:tensorflow:loss = 56.2247, step = 5001 (0.410 sec)\n",
      "INFO:tensorflow:global_step/sec: 230.705\n",
      "INFO:tensorflow:loss = 48.1159, step = 5101 (0.434 sec)\n"
     ]
    }
   ],
   "source": [
    "model.train(input_fn=input_func,steps = 10000)"
   ]
  },
  {
   "cell_type": "code",
   "execution_count": null,
   "metadata": {
    "collapsed": true
   },
   "outputs": [],
   "source": [
    "predictions_gen =  model.predict(pred_func)"
   ]
  },
  {
   "cell_type": "code",
   "execution_count": null,
   "metadata": {},
   "outputs": [],
   "source": [
    "preds = list(predictions_gen)"
   ]
  },
  {
   "cell_type": "code",
   "execution_count": null,
   "metadata": {},
   "outputs": [],
   "source": [
    "preds[17]"
   ]
  },
  {
   "cell_type": "code",
   "execution_count": null,
   "metadata": {
    "collapsed": true
   },
   "outputs": [],
   "source": [
    "final_preds = []\n",
    "for pred in preds:\n",
    "    final_preds.append(pred['class_ids'][0])"
   ]
  },
  {
   "cell_type": "code",
   "execution_count": null,
   "metadata": {},
   "outputs": [],
   "source": [
    "final_preds[17]"
   ]
  },
  {
   "cell_type": "code",
   "execution_count": null,
   "metadata": {
    "collapsed": true
   },
   "outputs": [],
   "source": [
    "from sklearn.metrics import classification_report"
   ]
  },
  {
   "cell_type": "code",
   "execution_count": null,
   "metadata": {},
   "outputs": [],
   "source": [
    "print(classification_report(y_test,final_preds))\n"
   ]
  },
  {
   "cell_type": "code",
   "execution_count": null,
   "metadata": {},
   "outputs": [],
   "source": [
    " from sklearn.metrics import confusion_matrix\n",
    "print(confusion_matrix(y_test,final_preds))"
   ]
  },
  {
   "cell_type": "code",
   "execution_count": null,
   "metadata": {
    "collapsed": true
   },
   "outputs": [],
   "source": []
  }
 ],
 "metadata": {
  "kernelspec": {
   "display_name": "Python 3",
   "language": "python",
   "name": "python3"
  },
  "language_info": {
   "codemirror_mode": {
    "name": "ipython",
    "version": 3
   },
   "file_extension": ".py",
   "mimetype": "text/x-python",
   "name": "python",
   "nbconvert_exporter": "python",
   "pygments_lexer": "ipython3",
   "version": "3.6.1"
  }
 },
 "nbformat": 4,
 "nbformat_minor": 2
}
