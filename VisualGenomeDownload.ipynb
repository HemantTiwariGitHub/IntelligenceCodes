{
  "nbformat": 4,
  "nbformat_minor": 0,
  "metadata": {
    "colab": {
      "name": "VisualGenomeDownload.ipynb",
      "provenance": [],
      "include_colab_link": true
    },
    "kernelspec": {
      "name": "python2",
      "display_name": "Python 2"
    }
  },
  "cells": [
    {
      "cell_type": "markdown",
      "metadata": {
        "id": "view-in-github",
        "colab_type": "text"
      },
      "source": [
        "<a href=\"https://colab.research.google.com/github/HemantTiwariGitHub/IntelligenceCodes/blob/master/VisualGenomeDownload.ipynb\" target=\"_parent\"><img src=\"https://colab.research.google.com/assets/colab-badge.svg\" alt=\"Open In Colab\"/></a>"
      ]
    },
    {
      "cell_type": "code",
      "metadata": {
        "id": "wObYWLrexfYl",
        "colab_type": "code",
        "colab": {}
      },
      "source": [
        "%pip install visual_genome\n",
        "from visual_genome import api as vg\n",
        "\n"
      ],
      "execution_count": 0,
      "outputs": []
    },
    {
      "cell_type": "code",
      "metadata": {
        "id": "Of-FyS21xnof",
        "colab_type": "code",
        "colab": {}
      },
      "source": [
        ""
      ],
      "execution_count": 0,
      "outputs": []
    },
    {
      "cell_type": "code",
      "metadata": {
        "id": "o8phag6FmWOb",
        "colab_type": "code",
        "colab": {}
      },
      "source": [
        "import matplotlib.pyplot as plt\n",
        "from matplotlib.patches import Rectangle\n",
        "from PIL import Image as PIL_Image\n",
        "import requests\n",
        "from io import StringIO"
      ],
      "execution_count": 0,
      "outputs": []
    },
    {
      "cell_type": "code",
      "metadata": {
        "id": "YmDLPicJx1r3",
        "colab_type": "code",
        "colab": {}
      },
      "source": [
        "ids = vg.get_image_ids_in_range(2,100)\n",
        "image_id = ids[0]\n",
        "print \"We got an image with id: %d\" % image_id\n",
        "\n",
        "%matplotlib inline"
      ],
      "execution_count": 0,
      "outputs": []
    },
    {
      "cell_type": "code",
      "metadata": {
        "id": "slY0N37lx4WL",
        "colab_type": "code",
        "colab": {}
      },
      "source": [
        "image = vg.get_image_data(image_id)\n",
        "print \"The url of the image is: %s\" % image.url"
      ],
      "execution_count": 0,
      "outputs": []
    },
    {
      "cell_type": "code",
      "metadata": {
        "id": "3CwlmJMIyHtc",
        "colab_type": "code",
        "colab": {}
      },
      "source": [
        "print (image)"
      ],
      "execution_count": 0,
      "outputs": []
    },
    {
      "cell_type": "code",
      "metadata": {
        "id": "bnD30uoGC_Ke",
        "colab_type": "code",
        "colab": {}
      },
      "source": [
        "regions = vg.get_region_descriptions_of_image(image_id)"
      ],
      "execution_count": 0,
      "outputs": []
    },
    {
      "cell_type": "code",
      "metadata": {
        "id": "crE2jy5xDIO9",
        "colab_type": "code",
        "colab": {}
      },
      "source": [
        "print (regions)"
      ],
      "execution_count": 0,
      "outputs": []
    },
    {
      "cell_type": "code",
      "metadata": {
        "id": "7pCJOpVuDPob",
        "colab_type": "code",
        "colab": {}
      },
      "source": [
        ""
      ],
      "execution_count": 0,
      "outputs": []
    },
    {
      "cell_type": "code",
      "metadata": {
        "id": "iPk__vUr1OjW",
        "colab_type": "code",
        "colab": {}
      },
      "source": [
        " try:\n",
        "    %tensorflow_version 2.x\n",
        "except:\n",
        "    pass"
      ],
      "execution_count": 0,
      "outputs": []
    },
    {
      "cell_type": "code",
      "metadata": {
        "id": "FoaH6q22DpyM",
        "colab_type": "code",
        "colab": {}
      },
      "source": [
        ""
      ],
      "execution_count": 0,
      "outputs": []
    },
    {
      "cell_type": "code",
      "metadata": {
        "id": "qCt03dqd1VnD",
        "colab_type": "code",
        "colab": {}
      },
      "source": [
        "import tensorflow as tf\n",
        "import tensorflow_hub as hub\n",
        "print(\"\\u2022 Using TensorFlow Version:\", tf.__version__)\n",
        "print(\"\\u2022 Using TensorFlow Hub Version: \", hub.__version__)\n",
        "print('\\u2022 GPU Device Found.' if tf.test.is_gpu_available() else '\\u2022 GPU Device Not Found. Running on CPU')"
      ],
      "execution_count": 0,
      "outputs": []
    },
    {
      "cell_type": "code",
      "metadata": {
        "id": "YzjKZvKMDtb6",
        "colab_type": "code",
        "colab": {}
      },
      "source": [
        "MOBILENET_V2_FEATURE_EXTRACTOR_URI = \"https://tfhub.dev/google/tf2-preview/mobilenet_v2/feature_vector/4\"\n",
        "PIXEL =224\n",
        "INPUT_IMAGE_SIZE = (PIXEL, PIXEL)\n",
        "OUTPUT_FEATURE_VECTOR_SIZE = 1280"
      ],
      "execution_count": 0,
      "outputs": []
    },
    {
      "cell_type": "code",
      "metadata": {
        "id": "IdC7xszsD_K1",
        "colab_type": "code",
        "colab": {}
      },
      "source": [
        "feature_extractor = hub.KerasLayer(MOBILENET_V2_FEATURE_EXTRACTOR_URI,\n",
        "                                   input_shape=INPUT_IMAGE_SIZE + (3,), \n",
        "                                   output_shape=[OUTPUT_FEATURE_VECTOR_SIZE],\n",
        "                                   trainable=False)"
      ],
      "execution_count": 0,
      "outputs": []
    },
    {
      "cell_type": "code",
      "metadata": {
        "id": "hgOkZTx_ECRe",
        "colab_type": "code",
        "colab": {}
      },
      "source": [
        ""
      ],
      "execution_count": 0,
      "outputs": []
    },
    {
      "cell_type": "code",
      "metadata": {
        "id": "dpG_mwUZh17_",
        "colab_type": "code",
        "colab": {}
      },
      "source": [
        "import numpy as np\n",
        "import PIL.Image as Image"
      ],
      "execution_count": 0,
      "outputs": []
    },
    {
      "cell_type": "code",
      "metadata": {
        "id": "6x1VsFE0EReP",
        "colab_type": "code",
        "colab": {}
      },
      "source": [
        "image1 = tf.keras.utils.get_file(\"ds.jpg\",image.url)"
      ],
      "execution_count": 0,
      "outputs": []
    },
    {
      "cell_type": "code",
      "metadata": {
        "id": "a6OZ92EYEaFB",
        "colab_type": "code",
        "colab": {}
      },
      "source": [
        "image1.show()"
      ],
      "execution_count": 0,
      "outputs": []
    },
    {
      "cell_type": "code",
      "metadata": {
        "id": "gPemovPkEiPN",
        "colab_type": "code",
        "colab": {}
      },
      "source": [
        "  resized_img = Image.open(image1).resize(INPUT_IMAGE_SIZE)"
      ],
      "execution_count": 0,
      "outputs": []
    },
    {
      "cell_type": "code",
      "metadata": {
        "id": "wz0r89tCErE2",
        "colab_type": "code",
        "colab": {}
      },
      "source": [
        "resized_img"
      ],
      "execution_count": 0,
      "outputs": []
    },
    {
      "cell_type": "code",
      "metadata": {
        "id": "ZkPJrgiqEtIN",
        "colab_type": "code",
        "colab": {}
      },
      "source": [
        "region_graph = vg.get_region_desc_of_image(image_id)\n",
        "print(region_graph)"
      ],
      "execution_count": 0,
      "outputs": []
    },
    {
      "cell_type": "code",
      "metadata": {
        "id": "4x50JN8yFbM0",
        "colab_type": "code",
        "colab": {}
      },
      "source": [
        "sg = vg.get_scene_graph_of_image(image_id)\n",
        "print(sg)"
      ],
      "execution_count": 0,
      "outputs": []
    },
    {
      "cell_type": "code",
      "metadata": {
        "id": "cFCN0RJZhLJK",
        "colab_type": "code",
        "colab": {}
      },
      "source": [
        "# study  https://cs.stanford.edu/people/ranjaykrishna/sgrl/index.html"
      ],
      "execution_count": 0,
      "outputs": []
    },
    {
      "cell_type": "code",
      "metadata": {
        "id": "ORRUGjVJiO5C",
        "colab_type": "code",
        "colab": {}
      },
      "source": [
        ""
      ],
      "execution_count": 0,
      "outputs": []
    }
  ]
}