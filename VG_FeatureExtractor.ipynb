{
  "nbformat": 4,
  "nbformat_minor": 0,
  "metadata": {
    "colab": {
      "name": "VG_FeatureExtractor.ipynb",
      "provenance": [],
      "collapsed_sections": [],
      "include_colab_link": true
    },
    "kernelspec": {
      "name": "python3",
      "display_name": "Python 3"
    }
  },
  "cells": [
    {
      "cell_type": "markdown",
      "metadata": {
        "id": "view-in-github",
        "colab_type": "text"
      },
      "source": [
        "<a href=\"https://colab.research.google.com/github/HemantTiwariGitHub/IntelligenceCodes/blob/master/VG_FeatureExtractor.ipynb\" target=\"_parent\"><img src=\"https://colab.research.google.com/assets/colab-badge.svg\" alt=\"Open In Colab\"/></a>"
      ]
    },
    {
      "cell_type": "code",
      "metadata": {
        "id": "icfLzQVu8_DE",
        "colab_type": "code",
        "colab": {}
      },
      "source": [
        " try:\n",
        "    %tensorflow_version 2.x\n",
        "except:\n",
        "    pass"
      ],
      "execution_count": 0,
      "outputs": []
    },
    {
      "cell_type": "code",
      "metadata": {
        "id": "qCt03dqd1VnD",
        "colab_type": "code",
        "outputId": "d161b012-9ef1-4f25-8695-4bab1e47ad9a",
        "colab": {
          "base_uri": "https://localhost:8080/",
          "height": 67
        }
      },
      "source": [
        "import tensorflow as tf\n",
        "import tensorflow_hub as hub\n",
        "print(\"\\u2022 Using TensorFlow Version:\", tf.__version__)\n",
        "print(\"\\u2022 Using TensorFlow Hub Version: \", hub.__version__)\n",
        "print('\\u2022 GPU Device Found.' if tf.test.is_gpu_available() else '\\u2022 GPU Device Not Found. Running on CPU')"
      ],
      "execution_count": 70,
      "outputs": [
        {
          "output_type": "stream",
          "text": [
            "• Using TensorFlow Version: 2.1.0-rc1\n",
            "• Using TensorFlow Hub Version:  0.7.0\n",
            "• GPU Device Not Found. Running on CPU\n"
          ],
          "name": "stdout"
        }
      ]
    },
    {
      "cell_type": "code",
      "metadata": {
        "id": "0OpLSgLaDTCd",
        "colab_type": "code",
        "colab": {}
      },
      "source": [
        "import matplotlib.pyplot as plt\n",
        "from matplotlib.patches import Rectangle\n",
        "from PIL import Image as PIL_Image\n",
        "import requests\n",
        "from io import StringIO\n",
        "import numpy as np\n",
        "import PIL.Image as Image"
      ],
      "execution_count": 0,
      "outputs": []
    },
    {
      "cell_type": "code",
      "metadata": {
        "id": "DoWHsSFDDhzB",
        "colab_type": "code",
        "colab": {
          "base_uri": "https://localhost:8080/",
          "height": 168
        },
        "outputId": "0750e168-f1ae-44ec-9a69-64ba2c17fdc8"
      },
      "source": [
        "%pip install visual_genome"
      ],
      "execution_count": 73,
      "outputs": [
        {
          "output_type": "stream",
          "text": [
            "Requirement already satisfied: visual_genome in /usr/local/lib/python3.6/dist-packages (1.1.1)\n",
            "Requirement already satisfied: requests in /tensorflow-2.1.0/python3.6 (from visual_genome) (2.22.0)\n",
            "Requirement already satisfied: progressbar2 in /usr/local/lib/python3.6/dist-packages (from visual_genome) (3.38.0)\n",
            "Requirement already satisfied: certifi>=2017.4.17 in /tensorflow-2.1.0/python3.6 (from requests->visual_genome) (2019.11.28)\n",
            "Requirement already satisfied: idna<2.9,>=2.5 in /tensorflow-2.1.0/python3.6 (from requests->visual_genome) (2.8)\n",
            "Requirement already satisfied: chardet<3.1.0,>=3.0.2 in /tensorflow-2.1.0/python3.6 (from requests->visual_genome) (3.0.4)\n",
            "Requirement already satisfied: urllib3!=1.25.0,!=1.25.1,<1.26,>=1.21.1 in /tensorflow-2.1.0/python3.6 (from requests->visual_genome) (1.25.7)\n",
            "Requirement already satisfied: python-utils>=2.3.0 in /usr/local/lib/python3.6/dist-packages (from progressbar2->visual_genome) (2.3.0)\n",
            "Requirement already satisfied: six in /tensorflow-2.1.0/python3.6 (from progressbar2->visual_genome) (1.13.0)\n"
          ],
          "name": "stdout"
        }
      ]
    },
    {
      "cell_type": "code",
      "metadata": {
        "id": "U-be2_SODwVn",
        "colab_type": "code",
        "colab": {}
      },
      "source": [
        "from visual_genome import api\n",
        "ids = api.get_all_image_ids()"
      ],
      "execution_count": 0,
      "outputs": []
    },
    {
      "cell_type": "code",
      "metadata": {
        "id": "Cp_v1fKHb--C",
        "colab_type": "code",
        "colab": {
          "base_uri": "https://localhost:8080/",
          "height": 34
        },
        "outputId": "294372b1-1d73-4492-b9a8-8bab331a385b"
      },
      "source": [
        "print(len(ids))"
      ],
      "execution_count": 82,
      "outputs": [
        {
          "output_type": "stream",
          "text": [
            "108077\n"
          ],
          "name": "stdout"
        }
      ]
    },
    {
      "cell_type": "code",
      "metadata": {
        "id": "DMEvSeJ01dae",
        "colab_type": "code",
        "colab": {
          "base_uri": "https://localhost:8080/",
          "height": 185
        },
        "outputId": "4f5c2c6b-46a6-449c-8430-967e29e53d86"
      },
      "source": [
        "MOBILENET_V2_FEATURE_EXTRACTOR_URI = \"https://tfhub.dev/google/tf2-preview/mobilenet_v2/feature_vector/4\"\n",
        "PIXEL =224\n",
        "INPUT_IMAGE_SIZE = (PIXEL, PIXEL)\n",
        "OUTPUT_FEATURE_VECTOR_SIZE = 1280\n",
        "feature_extractor = hub.KerasLayer(MOBILENET_V2_FEATURE_EXTRACTOR_URI,\n",
        "                                   input_shape=INPUT_IMAGE_SIZE + (3,), \n",
        "                                   output_shape=[OUTPUT_FEATURE_VECTOR_SIZE],\n",
        "                                   trainable=False)\n",
        "model = tf.keras.Sequential([\n",
        "        feature_extractor\n",
        "])\n",
        "\n",
        "model.summary()\n"
      ],
      "execution_count": 75,
      "outputs": [
        {
          "output_type": "stream",
          "text": [
            "Model: \"sequential_1\"\n",
            "_________________________________________________________________\n",
            "Layer (type)                 Output Shape              Param #   \n",
            "=================================================================\n",
            "keras_layer_1 (KerasLayer)   (None, 1280)              2257984   \n",
            "=================================================================\n",
            "Total params: 2,257,984\n",
            "Trainable params: 0\n",
            "Non-trainable params: 2,257,984\n",
            "_________________________________________________________________\n"
          ],
          "name": "stdout"
        }
      ]
    },
    {
      "cell_type": "code",
      "metadata": {
        "id": "Yno9a5Kkn1Pw",
        "colab_type": "code",
        "colab": {}
      },
      "source": [
        "def resize_image(image):\n",
        "    #print(\"resizing:\") \n",
        "    resized_img = image.resize(INPUT_IMAGE_SIZE)\n",
        "    #resized_img.show()\n",
        "    resized_img_arr = np.array(resized_img)/255.0\n",
        "    return resized_img_arr"
      ],
      "execution_count": 0,
      "outputs": []
    },
    {
      "cell_type": "code",
      "metadata": {
        "id": "wTqP5tbnFQ2R",
        "colab_type": "code",
        "colab": {}
      },
      "source": [
        "def getRegionDetails(vg, image_data, region):\n",
        "    newImg =image_data.crop((region.x, region.y, region.x + region.width, region.y + region.height))\n",
        "    descp = region.phrase\n",
        "    return newImg, descp"
      ],
      "execution_count": 0,
      "outputs": []
    },
    {
      "cell_type": "code",
      "metadata": {
        "id": "SJADXUwAWaNX",
        "colab_type": "code",
        "colab": {}
      },
      "source": [
        "def getImageEmbedding(regionImage, model):\n",
        "    resizedImage = resize_image(regionImage)\n",
        "    #plt.imshow(resizedImage)\n",
        "    #plt.show()\n",
        "    embedding = model.predict(resizedImage[np.newaxis, ...])\n",
        "    #print(embedding)\n",
        "    return embedding,resizedImage"
      ],
      "execution_count": 0,
      "outputs": []
    },
    {
      "cell_type": "code",
      "metadata": {
        "id": "sjO5xj2fX_CY",
        "colab_type": "code",
        "colab": {}
      },
      "source": [
        "def getTextEmbedding(text):\n",
        "    return 1"
      ],
      "execution_count": 0,
      "outputs": []
    },
    {
      "cell_type": "code",
      "metadata": {
        "id": "xPHyxL5YYUYr",
        "colab_type": "code",
        "colab": {}
      },
      "source": [
        "def getImageDetails(api, id):\n",
        "\n",
        "    imageID  = ids[id]\n",
        "    imageData = api.get_image_data(imageID)\n",
        "    imageName =  str(imageID) + ' '\n",
        "    imageGet = tf.keras.utils.get_file(imageName, imageData.url)\n",
        "    imageRead = Image.open(imageGet)\n",
        "    \n",
        "    regionImageArr = []\n",
        "    regionDescriptionArr = []\n",
        "    imageEmbeddingArr = [] \n",
        "    textEmbeddingArr = []\n",
        "    \n",
        "    regDescp = api.get_region_descriptions_of_image(imageID)\n",
        "    for region in regDescp:\n",
        "      regionImage, regionDescription = getRegionDetails(api, imageRead, region)\n",
        "      #print (regionDescription)\n",
        "      imageEmbedding = getImageEmbedding(regionImage, model)\n",
        "      textEmbedding = getTextEmbedding(regionDescription)\n",
        "\n",
        "      regionImageArr.append(regionImage)\n",
        "      regionDescriptionArr.append(regionDescription)\n",
        "      imageEmbeddingArr.append(imageEmbedding)\n",
        "      textEmbeddingArr.append(textEmbedding)\n",
        "\n",
        "    return regionImageArr, regionDescriptionArr, imageEmbeddingArr, textEmbeddingArr"
      ],
      "execution_count": 0,
      "outputs": []
    },
    {
      "cell_type": "code",
      "metadata": {
        "id": "Xr-Bfd5FZ8SE",
        "colab_type": "code",
        "colab": {}
      },
      "source": [
        "id = 100\n",
        "imarr, strarr, embar, textemb = getImageDetails(api, id)"
      ],
      "execution_count": 0,
      "outputs": []
    },
    {
      "cell_type": "code",
      "metadata": {
        "id": "WoF-74fraOz5",
        "colab_type": "code",
        "colab": {
          "base_uri": "https://localhost:8080/",
          "height": 286
        },
        "outputId": "ebb91bd5-6897-4ef5-bf00-6b875c7828b0"
      },
      "source": [
        "id = 2\n",
        "regionImage = imarr[id]\n",
        "resizedImage = resize_image(regionImage)\n",
        "plt.imshow(resizedImage)\n",
        "plt.show()\n",
        "print (strarr[id])\n",
        "#print (embar[id])"
      ],
      "execution_count": 139,
      "outputs": [
        {
          "output_type": "display_data",
          "data": {
            "image/png": "[encoded data removed]",
            "text/plain": [
              "<Figure size 432x288 with 1 Axes>"
            ]
          },
          "metadata": {
            "tags": []
          }
        },
        {
          "output_type": "stream",
          "text": [
            "A mini van parked on the side of the road.\n"
          ],
          "name": "stdout"
        }
      ]
    },
    {
      "cell_type": "code",
      "metadata": {
        "id": "o-rBGUaRczBs",
        "colab_type": "code",
        "colab": {}
      },
      "source": [
        ""
      ],
      "execution_count": 0,
      "outputs": []
    }
  ]
}