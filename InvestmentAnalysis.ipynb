{
  "nbformat": 4,
  "nbformat_minor": 0,
  "metadata": {
    "colab": {
      "name": "InvestmentAnalysis.ipynb",
      "provenance": [],
      "collapsed_sections": [],
      "authorship_tag": "ABX9TyOjkzYzLonXWyjrsvsWSXCJ",
      "include_colab_link": true
    },
    "kernelspec": {
      "name": "python3",
      "display_name": "Python 3"
    }
  },
  "cells": [
    {
      "cell_type": "markdown",
      "metadata": {
        "id": "view-in-github",
        "colab_type": "text"
      },
      "source": [
        "<a href=\"https://colab.research.google.com/github/HemantTiwariGitHub/IntelligenceCodes/blob/master/InvestmentAnalysis.ipynb\" target=\"_parent\"><img src=\"https://colab.research.google.com/assets/colab-badge.svg\" alt=\"Open In Colab\"/></a>"
      ]
    },
    {
      "cell_type": "code",
      "metadata": {
        "id": "Nb3TtGadXa6b",
        "colab_type": "code",
        "colab": {}
      },
      "source": [
        "import numpy as np\n",
        "import pandas as pd\n",
        "pd.options.display.float_format = '{:.2f}'.format"
      ],
      "execution_count": 0,
      "outputs": []
    },
    {
      "cell_type": "markdown",
      "metadata": {
        "id": "h3XBnyDwp796",
        "colab_type": "text"
      },
      "source": [
        "Following CRISP-DM Methodology\n",
        "------------------------------------\n",
        "CRISP-DM : Step#2 Data Understanding\n"
      ]
    },
    {
      "cell_type": "code",
      "metadata": {
        "id": "oq7SAIU5XiFH",
        "colab_type": "code",
        "outputId": "6e2c3d7e-e011-4014-cb7c-c962396726aa",
        "colab": {
          "base_uri": "https://localhost:8080/",
          "height": 438
        }
      },
      "source": [
        "pd.set_option('display.max_columns', 2000)\n",
        "pd.set_option('display.width', 2000)\n",
        "\n",
        "#for companies , suggested encoding\n",
        "companies = pd.read_csv('companies.txt',  sep=\"\\t\", encoding='palmos')\n",
        "print(\"=========================== TABLE COMPANIES ==============================================\")\n",
        "print (companies.head())\n",
        "print(\"==========================================================================================\")\n",
        "\n",
        "rounds2 = pd.read_csv('rounds2.csv', encoding='palmos')\n",
        "print(\"=========================== TABLE ROUND2 =================================================\")\n",
        "print (rounds2.head())\n",
        "print(\"==========================================================================================\")\n",
        "\n",
        "\n",
        "mapping = pd.read_csv('mapping.csv')\n",
        "print(\"=========================== TABLE MAPPING ================================================\")\n",
        "print (mapping.head())\n",
        "print(\"==========================================================================================\")\n",
        "\n",
        "\n",
        "\n"
      ],
      "execution_count": 0,
      "outputs": [
        {
          "output_type": "stream",
          "text": [
            "=========================== TABLE COMPANIES ==============================================\n",
            "                             permalink                    name                       homepage_url                                      category_list     status country_code state_code                 region           city  founded_at\n",
            "0                  /Organization/-Fame                   #fame                 http://livfame.com                                              Media  operating          IND         16                 Mumbai         Mumbai         NaN\n",
            "1               /Organization/-Qounter                :Qounter             http://www.qounter.com  Application Platforms|Real Time|Social Network...  operating          USA         DE             DE - Other  Delaware City  04-09-2014\n",
            "2  /Organization/-The-One-Of-Them-Inc-  (THE) ONE of THEM,Inc.                http://oneofthem.jp                                  Apps|Games|Mobile  operating          NaN        NaN                    NaN            NaN         NaN\n",
            "3                /Organization/0-6-Com                 0-6.com                 http://www.0-6.com                                        Curated Web  operating          CHN         22                Beijing        Beijing  01-01-2007\n",
            "4       /Organization/004-Technologies        004 Technologies  http://004gmbh.de/en/004-interact                                           Software  operating          USA         IL  Springfield, Illinois      Champaign  01-01-2010\n",
            "==========================================================================================\n",
            "=========================== TABLE ROUND2 =================================================\n",
            "                     company_permalink                          funding_round_permalink funding_round_type funding_round_code   funded_at  raised_amount_usd\n",
            "0                  /organization/-fame  /funding-round/9a01d05418af9f794eebff7ace91f638            venture                  B  05-01-2015        10000000.00\n",
            "1               /ORGANIZATION/-QOUNTER  /funding-round/22dacff496eb7acb2b901dec1dfe5633            venture                  A  14-10-2014                nan\n",
            "2               /organization/-qounter  /funding-round/b44fbb94153f6cdef13083530bb48030               seed                NaN  01-03-2014          700000.00\n",
            "3  /ORGANIZATION/-THE-ONE-OF-THEM-INC-  /funding-round/650b8f704416801069bb178a1418776b            venture                  B  30-01-2014         3406878.00\n",
            "4                /organization/0-6-com  /funding-round/5727accaeaa57461bd22a9bdd945382d            venture                  A  19-03-2008         2000000.00\n",
            "==========================================================================================\n",
            "=========================== TABLE MAPPING ================================================\n",
            "   category_list  Automotive & Sports  Blanks  Cleantech / Semiconductors  Entertainment  Health  Manufacturing  News, Search and Messaging  Others  Social, Finance, Analytics, Advertising\n",
            "0            NaN                    0       1                           0              0       0              0                           0       0                                        0\n",
            "1             3D                    0       0                           0              0       0              1                           0       0                                        0\n",
            "2    3D Printing                    0       0                           0              0       0              1                           0       0                                        0\n",
            "3  3D Technology                    0       0                           0              0       0              1                           0       0                                        0\n",
            "4     Accounting                    0       0                           0              0       0              0                           0       0                                        1\n",
            "==========================================================================================\n"
          ],
          "name": "stdout"
        }
      ]
    },
    {
      "cell_type": "code",
      "metadata": {
        "id": "zsfd9lu9X2a2",
        "colab_type": "code",
        "outputId": "2c7c82a6-8b00-438f-ac59-11ffd40ec6a4",
        "colab": {
          "base_uri": "https://localhost:8080/",
          "height": 304
        }
      },
      "source": [
        "#unique companies in companies\n",
        "print (\"Total Records: \" + str(len(companies['permalink'].tolist())))\n",
        "print (\"Total Unique: \" + str(len(companies['permalink'].unique().tolist())))\n",
        "print (\"Total Unique Names: \" + str(len(companies['name'].unique().tolist())))\n",
        "print (\"Total Unique URL: \" + str(len(companies['homepage_url'].unique().tolist())))\n",
        "print (\"Total Unique Categories: \" + str(len(companies['category_list'].unique().tolist())))\n",
        "print (\"Total Unique Status: \" + str(len(companies['status'].unique().tolist())))\n",
        "\n",
        "companies.describe()\n"
      ],
      "execution_count": 0,
      "outputs": [
        {
          "output_type": "stream",
          "text": [
            "Total Records: 66368\n",
            "Total Unique: 66368\n",
            "Total Unique Names: 66103\n",
            "Total Unique URL: 61192\n",
            "Total Unique Categories: 27297\n",
            "Total Unique Status: 4\n"
          ],
          "name": "stdout"
        },
        {
          "output_type": "execute_result",
          "data": {
            "text/html": [
              "<div>\n",
              "<style scoped>\n",
              "    .dataframe tbody tr th:only-of-type {\n",
              "        vertical-align: middle;\n",
              "    }\n",
              "\n",
              "    .dataframe tbody tr th {\n",
              "        vertical-align: top;\n",
              "    }\n",
              "\n",
              "    .dataframe thead th {\n",
              "        text-align: right;\n",
              "    }\n",
              "</style>\n",
              "<table border=\"1\" class=\"dataframe\">\n",
              "  <thead>\n",
              "    <tr style=\"text-align: right;\">\n",
              "      <th></th>\n",
              "      <th>permalink</th>\n",
              "      <th>name</th>\n",
              "      <th>homepage_url</th>\n",
              "      <th>category_list</th>\n",
              "      <th>status</th>\n",
              "      <th>country_code</th>\n",
              "      <th>state_code</th>\n",
              "      <th>region</th>\n",
              "      <th>city</th>\n",
              "      <th>founded_at</th>\n",
              "    </tr>\n",
              "  </thead>\n",
              "  <tbody>\n",
              "    <tr>\n",
              "      <th>count</th>\n",
              "      <td>66368</td>\n",
              "      <td>66367</td>\n",
              "      <td>61310</td>\n",
              "      <td>63220</td>\n",
              "      <td>66368</td>\n",
              "      <td>59410</td>\n",
              "      <td>57821</td>\n",
              "      <td>58338</td>\n",
              "      <td>58340</td>\n",
              "      <td>51147</td>\n",
              "    </tr>\n",
              "    <tr>\n",
              "      <th>unique</th>\n",
              "      <td>66368</td>\n",
              "      <td>66102</td>\n",
              "      <td>61191</td>\n",
              "      <td>27296</td>\n",
              "      <td>4</td>\n",
              "      <td>137</td>\n",
              "      <td>311</td>\n",
              "      <td>1092</td>\n",
              "      <td>5111</td>\n",
              "      <td>3978</td>\n",
              "    </tr>\n",
              "    <tr>\n",
              "      <th>top</th>\n",
              "      <td>/Organization/Plazes</td>\n",
              "      <td>Spire</td>\n",
              "      <td>http://www.askforoffer.com</td>\n",
              "      <td>Software</td>\n",
              "      <td>operating</td>\n",
              "      <td>USA</td>\n",
              "      <td>CA</td>\n",
              "      <td>SF Bay Area</td>\n",
              "      <td>San Francisco</td>\n",
              "      <td>01-01-2012</td>\n",
              "    </tr>\n",
              "    <tr>\n",
              "      <th>freq</th>\n",
              "      <td>1</td>\n",
              "      <td>4</td>\n",
              "      <td>5</td>\n",
              "      <td>3995</td>\n",
              "      <td>53034</td>\n",
              "      <td>37601</td>\n",
              "      <td>12900</td>\n",
              "      <td>8804</td>\n",
              "      <td>3526</td>\n",
              "      <td>2730</td>\n",
              "    </tr>\n",
              "  </tbody>\n",
              "</table>\n",
              "</div>"
            ],
            "text/plain": [
              "                   permalink   name                homepage_url category_list     status country_code state_code       region           city  founded_at\n",
              "count                  66368  66367                       61310         63220      66368        59410      57821        58338          58340       51147\n",
              "unique                 66368  66102                       61191         27296          4          137        311         1092           5111        3978\n",
              "top     /Organization/Plazes  Spire  http://www.askforoffer.com      Software  operating          USA         CA  SF Bay Area  San Francisco  01-01-2012\n",
              "freq                       1      4                           5          3995      53034        37601      12900         8804           3526        2730"
            ]
          },
          "metadata": {
            "tags": []
          },
          "execution_count": 3
        }
      ]
    },
    {
      "cell_type": "code",
      "metadata": {
        "id": "N3FP9hyghczO",
        "colab_type": "code",
        "outputId": "b5da57df-a523-423c-fd81-0f4fa686b741",
        "colab": {
          "base_uri": "https://localhost:8080/",
          "height": 350
        }
      },
      "source": [
        "#unique companies in rounds2\n",
        "print (\"Total Records: \" + str(len(rounds2['company_permalink'].tolist())))\n",
        "print (\"Total Unique: \" + str(len(rounds2['company_permalink'].unique().tolist())))\n",
        "\n",
        "rounds2.head()\n"
      ],
      "execution_count": 0,
      "outputs": [
        {
          "output_type": "stream",
          "text": [
            "Total Records: 114949\n",
            "Total Unique: 90247\n"
          ],
          "name": "stdout"
        },
        {
          "output_type": "execute_result",
          "data": {
            "text/html": [
              "<div>\n",
              "<style scoped>\n",
              "    .dataframe tbody tr th:only-of-type {\n",
              "        vertical-align: middle;\n",
              "    }\n",
              "\n",
              "    .dataframe tbody tr th {\n",
              "        vertical-align: top;\n",
              "    }\n",
              "\n",
              "    .dataframe thead th {\n",
              "        text-align: right;\n",
              "    }\n",
              "</style>\n",
              "<table border=\"1\" class=\"dataframe\">\n",
              "  <thead>\n",
              "    <tr style=\"text-align: right;\">\n",
              "      <th></th>\n",
              "      <th>company_permalink</th>\n",
              "      <th>funding_round_permalink</th>\n",
              "      <th>funding_round_type</th>\n",
              "      <th>funding_round_code</th>\n",
              "      <th>funded_at</th>\n",
              "      <th>raised_amount_usd</th>\n",
              "    </tr>\n",
              "  </thead>\n",
              "  <tbody>\n",
              "    <tr>\n",
              "      <th>0</th>\n",
              "      <td>/organization/-fame</td>\n",
              "      <td>/funding-round/9a01d05418af9f794eebff7ace91f638</td>\n",
              "      <td>venture</td>\n",
              "      <td>B</td>\n",
              "      <td>05-01-2015</td>\n",
              "      <td>10000000.00</td>\n",
              "    </tr>\n",
              "    <tr>\n",
              "      <th>1</th>\n",
              "      <td>/ORGANIZATION/-QOUNTER</td>\n",
              "      <td>/funding-round/22dacff496eb7acb2b901dec1dfe5633</td>\n",
              "      <td>venture</td>\n",
              "      <td>A</td>\n",
              "      <td>14-10-2014</td>\n",
              "      <td>nan</td>\n",
              "    </tr>\n",
              "    <tr>\n",
              "      <th>2</th>\n",
              "      <td>/organization/-qounter</td>\n",
              "      <td>/funding-round/b44fbb94153f6cdef13083530bb48030</td>\n",
              "      <td>seed</td>\n",
              "      <td>NaN</td>\n",
              "      <td>01-03-2014</td>\n",
              "      <td>700000.00</td>\n",
              "    </tr>\n",
              "    <tr>\n",
              "      <th>3</th>\n",
              "      <td>/ORGANIZATION/-THE-ONE-OF-THEM-INC-</td>\n",
              "      <td>/funding-round/650b8f704416801069bb178a1418776b</td>\n",
              "      <td>venture</td>\n",
              "      <td>B</td>\n",
              "      <td>30-01-2014</td>\n",
              "      <td>3406878.00</td>\n",
              "    </tr>\n",
              "    <tr>\n",
              "      <th>4</th>\n",
              "      <td>/organization/0-6-com</td>\n",
              "      <td>/funding-round/5727accaeaa57461bd22a9bdd945382d</td>\n",
              "      <td>venture</td>\n",
              "      <td>A</td>\n",
              "      <td>19-03-2008</td>\n",
              "      <td>2000000.00</td>\n",
              "    </tr>\n",
              "  </tbody>\n",
              "</table>\n",
              "</div>"
            ],
            "text/plain": [
              "                     company_permalink                          funding_round_permalink funding_round_type funding_round_code   funded_at  raised_amount_usd\n",
              "0                  /organization/-fame  /funding-round/9a01d05418af9f794eebff7ace91f638            venture                  B  05-01-2015        10000000.00\n",
              "1               /ORGANIZATION/-QOUNTER  /funding-round/22dacff496eb7acb2b901dec1dfe5633            venture                  A  14-10-2014                nan\n",
              "2               /organization/-qounter  /funding-round/b44fbb94153f6cdef13083530bb48030               seed                NaN  01-03-2014          700000.00\n",
              "3  /ORGANIZATION/-THE-ONE-OF-THEM-INC-  /funding-round/650b8f704416801069bb178a1418776b            venture                  B  30-01-2014         3406878.00\n",
              "4                /organization/0-6-com  /funding-round/5727accaeaa57461bd22a9bdd945382d            venture                  A  19-03-2008         2000000.00"
            ]
          },
          "metadata": {
            "tags": []
          },
          "execution_count": 4
        }
      ]
    },
    {
      "cell_type": "code",
      "metadata": {
        "id": "uGBcEaOObu-X",
        "colab_type": "code",
        "outputId": "46b33cff-08de-4b40-c3ce-bf8ce164bfce",
        "colab": {
          "base_uri": "https://localhost:8080/",
          "height": 268
        }
      },
      "source": [
        "companies.info()"
      ],
      "execution_count": 0,
      "outputs": [
        {
          "output_type": "stream",
          "text": [
            "<class 'pandas.core.frame.DataFrame'>\n",
            "RangeIndex: 66368 entries, 0 to 66367\n",
            "Data columns (total 10 columns):\n",
            "permalink        66368 non-null object\n",
            "name             66367 non-null object\n",
            "homepage_url     61310 non-null object\n",
            "category_list    63220 non-null object\n",
            "status           66368 non-null object\n",
            "country_code     59410 non-null object\n",
            "state_code       57821 non-null object\n",
            "region           58338 non-null object\n",
            "city             58340 non-null object\n",
            "founded_at       51147 non-null object\n",
            "dtypes: object(10)\n",
            "memory usage: 5.1+ MB\n"
          ],
          "name": "stdout"
        }
      ]
    },
    {
      "cell_type": "code",
      "metadata": {
        "id": "N6bMkGh2isf_",
        "colab_type": "code",
        "outputId": "d94665eb-2c4f-485a-e188-8b7c2642dd6c",
        "colab": {
          "base_uri": "https://localhost:8080/",
          "height": 286
        }
      },
      "source": [
        "\n",
        "rounds2.describe()"
      ],
      "execution_count": 0,
      "outputs": [
        {
          "output_type": "execute_result",
          "data": {
            "text/html": [
              "<div>\n",
              "<style scoped>\n",
              "    .dataframe tbody tr th:only-of-type {\n",
              "        vertical-align: middle;\n",
              "    }\n",
              "\n",
              "    .dataframe tbody tr th {\n",
              "        vertical-align: top;\n",
              "    }\n",
              "\n",
              "    .dataframe thead th {\n",
              "        text-align: right;\n",
              "    }\n",
              "</style>\n",
              "<table border=\"1\" class=\"dataframe\">\n",
              "  <thead>\n",
              "    <tr style=\"text-align: right;\">\n",
              "      <th></th>\n",
              "      <th>raised_amount_usd</th>\n",
              "    </tr>\n",
              "  </thead>\n",
              "  <tbody>\n",
              "    <tr>\n",
              "      <th>count</th>\n",
              "      <td>94959.00</td>\n",
              "    </tr>\n",
              "    <tr>\n",
              "      <th>mean</th>\n",
              "      <td>10426869.33</td>\n",
              "    </tr>\n",
              "    <tr>\n",
              "      <th>std</th>\n",
              "      <td>114821247.98</td>\n",
              "    </tr>\n",
              "    <tr>\n",
              "      <th>min</th>\n",
              "      <td>0.00</td>\n",
              "    </tr>\n",
              "    <tr>\n",
              "      <th>25%</th>\n",
              "      <td>322500.00</td>\n",
              "    </tr>\n",
              "    <tr>\n",
              "      <th>50%</th>\n",
              "      <td>1680511.00</td>\n",
              "    </tr>\n",
              "    <tr>\n",
              "      <th>75%</th>\n",
              "      <td>7000000.00</td>\n",
              "    </tr>\n",
              "    <tr>\n",
              "      <th>max</th>\n",
              "      <td>21271935000.00</td>\n",
              "    </tr>\n",
              "  </tbody>\n",
              "</table>\n",
              "</div>"
            ],
            "text/plain": [
              "       raised_amount_usd\n",
              "count           94959.00\n",
              "mean         10426869.33\n",
              "std         114821247.98\n",
              "min                 0.00\n",
              "25%            322500.00\n",
              "50%           1680511.00\n",
              "75%           7000000.00\n",
              "max       21271935000.00"
            ]
          },
          "metadata": {
            "tags": []
          },
          "execution_count": 6
        }
      ]
    },
    {
      "cell_type": "code",
      "metadata": {
        "id": "_g_cXHosb1Jh",
        "colab_type": "code",
        "outputId": "24a6ab28-d98e-48b2-e19d-10ca0660005e",
        "colab": {
          "base_uri": "https://localhost:8080/",
          "height": 201
        }
      },
      "source": [
        "rounds2.info()"
      ],
      "execution_count": 0,
      "outputs": [
        {
          "output_type": "stream",
          "text": [
            "<class 'pandas.core.frame.DataFrame'>\n",
            "RangeIndex: 114949 entries, 0 to 114948\n",
            "Data columns (total 6 columns):\n",
            "company_permalink          114949 non-null object\n",
            "funding_round_permalink    114949 non-null object\n",
            "funding_round_type         114949 non-null object\n",
            "funding_round_code         31140 non-null object\n",
            "funded_at                  114949 non-null object\n",
            "raised_amount_usd          94959 non-null float64\n",
            "dtypes: float64(1), object(5)\n",
            "memory usage: 5.3+ MB\n"
          ],
          "name": "stdout"
        }
      ]
    },
    {
      "cell_type": "code",
      "metadata": {
        "id": "PcCXLjwKsZJl",
        "colab_type": "code",
        "outputId": "1af86ae3-3b8b-4b50-b1e3-377076318595",
        "colab": {
          "base_uri": "https://localhost:8080/",
          "height": 268
        }
      },
      "source": [
        "mapping.info()"
      ],
      "execution_count": 0,
      "outputs": [
        {
          "output_type": "stream",
          "text": [
            "<class 'pandas.core.frame.DataFrame'>\n",
            "RangeIndex: 688 entries, 0 to 687\n",
            "Data columns (total 10 columns):\n",
            "category_list                              687 non-null object\n",
            "Automotive & Sports                        688 non-null int64\n",
            "Blanks                                     688 non-null int64\n",
            "Cleantech / Semiconductors                 688 non-null int64\n",
            "Entertainment                              688 non-null int64\n",
            "Health                                     688 non-null int64\n",
            "Manufacturing                              688 non-null int64\n",
            "News, Search and Messaging                 688 non-null int64\n",
            "Others                                     688 non-null int64\n",
            "Social, Finance, Analytics, Advertising    688 non-null int64\n",
            "dtypes: int64(9), object(1)\n",
            "memory usage: 53.9+ KB\n"
          ],
          "name": "stdout"
        }
      ]
    },
    {
      "cell_type": "markdown",
      "metadata": {
        "id": "9EiTDljtqd_h",
        "colab_type": "text"
      },
      "source": [
        "----------------------------------\n",
        "CRISP-DM : Step#3 Data Preparation\n",
        "----------------------------------\n"
      ]
    },
    {
      "cell_type": "markdown",
      "metadata": {
        "id": "9L6BX8loTbPC",
        "colab_type": "text"
      },
      "source": [
        "1. permalink and company_permalink are unique ID fields which seem to have diffrent cases\n",
        "2. Need to check for null values"
      ]
    },
    {
      "cell_type": "code",
      "metadata": {
        "id": "sJxt8luksnKV",
        "colab_type": "code",
        "outputId": "7ad98f33-ab89-432b-ead0-c7ccaf5fd707",
        "colab": {
          "base_uri": "https://localhost:8080/",
          "height": 321
        }
      },
      "source": [
        "# Fix Cases to better match\n",
        "companies['permalink'] = companies['permalink'].str.lower()\n",
        "rounds2['company_permalink'] = rounds2['company_permalink'].str.lower()\n",
        "\n",
        "print(companies.head())\n",
        "print(\"======================\")\n",
        "print(rounds2.head())\n",
        "\n",
        "\n",
        "#check if some ID are null\n",
        "nullID_Companies  = np.where(pd.isnull(companies['permalink']))\n",
        "nullID_Rounds2  = np.where(pd.isnull(rounds2['company_permalink']))\n",
        "\n",
        "print (nullID_Companies)\n",
        "print (nullID_Rounds2)\n",
        "\n",
        "\n",
        "#check if some ID are empty\n",
        "emptyID_Companies  = np.where(companies['permalink']=='')\n",
        "emptyID_Rounds2  = np.where(rounds2['company_permalink']=='')\n",
        "\n",
        "print (emptyID_Companies)\n",
        "print (emptyID_Rounds2)\n",
        "\n",
        "\n"
      ],
      "execution_count": 0,
      "outputs": [
        {
          "output_type": "stream",
          "text": [
            "                             permalink                    name                       homepage_url                                      category_list     status country_code state_code                 region           city  founded_at\n",
            "0                  /organization/-fame                   #fame                 http://livfame.com                                              Media  operating          IND         16                 Mumbai         Mumbai         NaN\n",
            "1               /organization/-qounter                :Qounter             http://www.qounter.com  Application Platforms|Real Time|Social Network...  operating          USA         DE             DE - Other  Delaware City  04-09-2014\n",
            "2  /organization/-the-one-of-them-inc-  (THE) ONE of THEM,Inc.                http://oneofthem.jp                                  Apps|Games|Mobile  operating          NaN        NaN                    NaN            NaN         NaN\n",
            "3                /organization/0-6-com                 0-6.com                 http://www.0-6.com                                        Curated Web  operating          CHN         22                Beijing        Beijing  01-01-2007\n",
            "4       /organization/004-technologies        004 Technologies  http://004gmbh.de/en/004-interact                                           Software  operating          USA         IL  Springfield, Illinois      Champaign  01-01-2010\n",
            "======================\n",
            "                     company_permalink                          funding_round_permalink funding_round_type funding_round_code   funded_at  raised_amount_usd\n",
            "0                  /organization/-fame  /funding-round/9a01d05418af9f794eebff7ace91f638            venture                  B  05-01-2015        10000000.00\n",
            "1               /organization/-qounter  /funding-round/22dacff496eb7acb2b901dec1dfe5633            venture                  A  14-10-2014                nan\n",
            "2               /organization/-qounter  /funding-round/b44fbb94153f6cdef13083530bb48030               seed                NaN  01-03-2014          700000.00\n",
            "3  /organization/-the-one-of-them-inc-  /funding-round/650b8f704416801069bb178a1418776b            venture                  B  30-01-2014         3406878.00\n",
            "4                /organization/0-6-com  /funding-round/5727accaeaa57461bd22a9bdd945382d            venture                  A  19-03-2008         2000000.00\n",
            "(array([], dtype=int64),)\n",
            "(array([], dtype=int64),)\n",
            "(array([], dtype=int64),)\n",
            "(array([], dtype=int64),)\n"
          ],
          "name": "stdout"
        }
      ]
    },
    {
      "cell_type": "code",
      "metadata": {
        "id": "9uJ5KvbOtQZo",
        "colab_type": "code",
        "outputId": "8c055586-ded7-43cb-c714-da2c0cc188ea",
        "colab": {
          "base_uri": "https://localhost:8080/",
          "height": 50
        }
      },
      "source": [
        "#recheck unique and describe again\n",
        "print (\"Companies Total Unique: \" + str(len(companies['permalink'].unique().tolist())))\n",
        "print (\"Rounds2 Total Unique: \" + str(len(rounds2['company_permalink'].unique().tolist())))\n"
      ],
      "execution_count": 0,
      "outputs": [
        {
          "output_type": "stream",
          "text": [
            "Companies Total Unique: 66368\n",
            "Rounds2 Total Unique: 66368\n"
          ],
          "name": "stdout"
        }
      ]
    },
    {
      "cell_type": "code",
      "metadata": {
        "id": "C-lhTb4kVZjd",
        "colab_type": "code",
        "outputId": "32816a2a-ff1d-4a39-be69-1c356a0a0395",
        "colab": {
          "base_uri": "https://localhost:8080/",
          "height": 87
        }
      },
      "source": [
        "#check if some values are in rounds2 which dont exist in companies\n",
        "\n",
        "existStatus = rounds2.company_permalink.isin(companies.permalink).astype(int)\n",
        "rounds2['existsInCompanies'] = existStatus\n",
        "print (rounds2[rounds2['existsInCompanies'] == 0])\n"
      ],
      "execution_count": 0,
      "outputs": [
        {
          "output_type": "stream",
          "text": [
            "Empty DataFrame\n",
            "Columns: [company_permalink, funding_round_permalink, funding_round_type, funding_round_code, funded_at, raised_amount_usd, existsInCompanies]\n",
            "Index: []\n"
          ],
          "name": "stdout"
        }
      ]
    },
    {
      "cell_type": "code",
      "metadata": {
        "id": "CiMn4VKfVekt",
        "colab_type": "code",
        "colab": {}
      },
      "source": [
        "# no ID in rounds2 which dont exist in companies\n",
        "#drop the new column\n",
        "rounds2.drop('existsInCompanies',axis=1, inplace=True)"
      ],
      "execution_count": 0,
      "outputs": []
    },
    {
      "cell_type": "code",
      "metadata": {
        "id": "85ndvSqYnvAW",
        "colab_type": "code",
        "outputId": "fe739859-4d98-47c1-c0f9-b6c0a3d9e45f",
        "colab": {
          "base_uri": "https://localhost:8080/",
          "height": 210
        }
      },
      "source": [
        "# join both dataframes\n",
        "master_frame = pd.merge(companies, rounds2, left_on=['permalink'], \n",
        "             right_on= ['company_permalink'], how='outer')\n",
        "\n",
        "print (\"Total Records: \" + str(len(master_frame['permalink'].tolist())))\n",
        "master_frame.head(2)"
      ],
      "execution_count": 0,
      "outputs": [
        {
          "output_type": "stream",
          "text": [
            "Total Records: 114949\n"
          ],
          "name": "stdout"
        },
        {
          "output_type": "execute_result",
          "data": {
            "text/html": [
              "<div>\n",
              "<style scoped>\n",
              "    .dataframe tbody tr th:only-of-type {\n",
              "        vertical-align: middle;\n",
              "    }\n",
              "\n",
              "    .dataframe tbody tr th {\n",
              "        vertical-align: top;\n",
              "    }\n",
              "\n",
              "    .dataframe thead th {\n",
              "        text-align: right;\n",
              "    }\n",
              "</style>\n",
              "<table border=\"1\" class=\"dataframe\">\n",
              "  <thead>\n",
              "    <tr style=\"text-align: right;\">\n",
              "      <th></th>\n",
              "      <th>permalink</th>\n",
              "      <th>name</th>\n",
              "      <th>homepage_url</th>\n",
              "      <th>category_list</th>\n",
              "      <th>status</th>\n",
              "      <th>country_code</th>\n",
              "      <th>state_code</th>\n",
              "      <th>region</th>\n",
              "      <th>city</th>\n",
              "      <th>founded_at</th>\n",
              "      <th>company_permalink</th>\n",
              "      <th>funding_round_permalink</th>\n",
              "      <th>funding_round_type</th>\n",
              "      <th>funding_round_code</th>\n",
              "      <th>funded_at</th>\n",
              "      <th>raised_amount_usd</th>\n",
              "    </tr>\n",
              "  </thead>\n",
              "  <tbody>\n",
              "    <tr>\n",
              "      <th>0</th>\n",
              "      <td>/organization/-fame</td>\n",
              "      <td>#fame</td>\n",
              "      <td>http://livfame.com</td>\n",
              "      <td>Media</td>\n",
              "      <td>operating</td>\n",
              "      <td>IND</td>\n",
              "      <td>16</td>\n",
              "      <td>Mumbai</td>\n",
              "      <td>Mumbai</td>\n",
              "      <td>NaN</td>\n",
              "      <td>/organization/-fame</td>\n",
              "      <td>/funding-round/9a01d05418af9f794eebff7ace91f638</td>\n",
              "      <td>venture</td>\n",
              "      <td>B</td>\n",
              "      <td>05-01-2015</td>\n",
              "      <td>10000000.00</td>\n",
              "    </tr>\n",
              "    <tr>\n",
              "      <th>1</th>\n",
              "      <td>/organization/-qounter</td>\n",
              "      <td>:Qounter</td>\n",
              "      <td>http://www.qounter.com</td>\n",
              "      <td>Application Platforms|Real Time|Social Network...</td>\n",
              "      <td>operating</td>\n",
              "      <td>USA</td>\n",
              "      <td>DE</td>\n",
              "      <td>DE - Other</td>\n",
              "      <td>Delaware City</td>\n",
              "      <td>04-09-2014</td>\n",
              "      <td>/organization/-qounter</td>\n",
              "      <td>/funding-round/22dacff496eb7acb2b901dec1dfe5633</td>\n",
              "      <td>venture</td>\n",
              "      <td>A</td>\n",
              "      <td>14-10-2014</td>\n",
              "      <td>nan</td>\n",
              "    </tr>\n",
              "  </tbody>\n",
              "</table>\n",
              "</div>"
            ],
            "text/plain": [
              "                permalink      name            homepage_url                                      category_list     status country_code state_code      region           city  founded_at       company_permalink                          funding_round_permalink funding_round_type funding_round_code   funded_at  raised_amount_usd\n",
              "0     /organization/-fame     #fame      http://livfame.com                                              Media  operating          IND         16      Mumbai         Mumbai         NaN     /organization/-fame  /funding-round/9a01d05418af9f794eebff7ace91f638            venture                  B  05-01-2015        10000000.00\n",
              "1  /organization/-qounter  :Qounter  http://www.qounter.com  Application Platforms|Real Time|Social Network...  operating          USA         DE  DE - Other  Delaware City  04-09-2014  /organization/-qounter  /funding-round/22dacff496eb7acb2b901dec1dfe5633            venture                  A  14-10-2014                nan"
            ]
          },
          "metadata": {
            "tags": []
          },
          "execution_count": 13
        }
      ]
    },
    {
      "cell_type": "code",
      "metadata": {
        "id": "sCXXfsVfpFGJ",
        "colab_type": "code",
        "outputId": "3cd921ab-d188-4c5f-c5a3-6d272876bf9d",
        "colab": {
          "base_uri": "https://localhost:8080/",
          "height": 301
        }
      },
      "source": [
        "# check for other important columns as per business goal\n",
        "#most important fields are :\n",
        "#funding_round_type\n",
        "#country_code\n",
        "#category_list\n",
        "#raised_amount_usd\n",
        "\n",
        "\n",
        "round(100*(master_frame.isnull().sum()/len(master_frame.index)))\n"
      ],
      "execution_count": 0,
      "outputs": [
        {
          "output_type": "execute_result",
          "data": {
            "text/plain": [
              "permalink                  0.00\n",
              "name                       0.00\n",
              "homepage_url               5.00\n",
              "category_list              3.00\n",
              "status                     0.00\n",
              "country_code               8.00\n",
              "state_code                10.00\n",
              "region                     9.00\n",
              "city                       9.00\n",
              "founded_at                18.00\n",
              "company_permalink          0.00\n",
              "funding_round_permalink    0.00\n",
              "funding_round_type         0.00\n",
              "funding_round_code        73.00\n",
              "funded_at                  0.00\n",
              "raised_amount_usd         17.00\n",
              "dtype: float64"
            ]
          },
          "metadata": {
            "tags": []
          },
          "execution_count": 14
        }
      ]
    },
    {
      "cell_type": "markdown",
      "metadata": {
        "id": "ZVxVKyVSV3JM",
        "colab_type": "text"
      },
      "source": [
        ""
      ]
    },
    {
      "cell_type": "markdown",
      "metadata": {
        "id": "zMWZSDptWmqe",
        "colab_type": "text"
      },
      "source": [
        "funding_round_type : No value missing, No action needed\n",
        "\n",
        "country_code : 8% values missing , will remove after funding round type analysis\n",
        "as this can not be imputed.\n",
        "\n",
        "category_list : 3% values missing, will impute by \"other\" before sector analysis\n",
        "\n",
        "raised_amount_usd : 17% values missing, this is very important and critical value. Imputing depends on sector, round, country. Making it complicated to impute. \n",
        "\n",
        "Decision : Drop the records which do not have this critical value \n"
      ]
    },
    {
      "cell_type": "code",
      "metadata": {
        "id": "K-py8qR6YBlL",
        "colab_type": "code",
        "outputId": "552c470d-f2a6-4983-f61a-60997408b626",
        "colab": {
          "base_uri": "https://localhost:8080/",
          "height": 33
        }
      },
      "source": [
        "#remove rows which does not have raised_amount_usd\n",
        "master_frame.drop(master_frame[master_frame['raised_amount_usd'].isnull()].index, inplace = True) \n",
        "\n",
        "#remove rows which does not have country code\n",
        "master_frame.drop(master_frame[master_frame['country_code'].isnull()].index, inplace = True) \n",
        "\n",
        "#remove unneccesary columns founded_at, homepage_url , funding_round_code, state_code, region and city\n",
        "#master_frame.drop(['founded_at','homepage_url', 'funding_round_code','state_code', 'region', 'city'],  axis=1, inplace=True)\n",
        "\n",
        "#impute missing values of category_list with \"Other\"\n",
        "master_frame[\"category_list\"].fillna(\"Other\", inplace=True)\n",
        "\n",
        "#reduce country code to lowercase\n",
        "#master_frame['country_code'] = master_frame['country_code'].str.lower()\n",
        "master_frame.shape \n"
      ],
      "execution_count": 0,
      "outputs": [
        {
          "output_type": "execute_result",
          "data": {
            "text/plain": [
              "(89108, 16)"
            ]
          },
          "metadata": {
            "tags": []
          },
          "execution_count": 15
        }
      ]
    },
    {
      "cell_type": "code",
      "metadata": {
        "id": "Oj7EsujjZs73",
        "colab_type": "code",
        "outputId": "5104d368-1f65-47ff-ca7b-9c03423dd9d5",
        "colab": {
          "base_uri": "https://localhost:8080/",
          "height": 301
        }
      },
      "source": [
        "round(100*(master_frame.isnull().sum()/len(master_frame.index)))"
      ],
      "execution_count": 0,
      "outputs": [
        {
          "output_type": "execute_result",
          "data": {
            "text/plain": [
              "permalink                  0.00\n",
              "name                       0.00\n",
              "homepage_url               4.00\n",
              "category_list              0.00\n",
              "status                     0.00\n",
              "country_code               0.00\n",
              "state_code                 2.00\n",
              "region                     1.00\n",
              "city                       1.00\n",
              "founded_at                15.00\n",
              "company_permalink          0.00\n",
              "funding_round_permalink    0.00\n",
              "funding_round_type         0.00\n",
              "funding_round_code        70.00\n",
              "funded_at                  0.00\n",
              "raised_amount_usd          0.00\n",
              "dtype: float64"
            ]
          },
          "metadata": {
            "tags": []
          },
          "execution_count": 16
        }
      ]
    },
    {
      "cell_type": "markdown",
      "metadata": {
        "id": "eTj8fXFjdVa5",
        "colab_type": "text"
      },
      "source": [
        "# Checkpoint 2 : Identify the Suitable Funding Type"
      ]
    },
    {
      "cell_type": "code",
      "metadata": {
        "id": "K-2r9q4yst9-",
        "colab_type": "code",
        "outputId": "c55ba061-f8ed-453a-f41e-63abeb4e94d0",
        "colab": {
          "base_uri": "https://localhost:8080/",
          "height": 226
        }
      },
      "source": [
        "#check intersted Funding Types\n",
        "interestedFundingTypes = ['angel', 'seed', 'private_equity','venture']\n",
        "FundingTypes = master_frame[master_frame['funding_round_type'].isin(interestedFundingTypes)].groupby('funding_round_type')\n",
        "\n",
        "FundingTypes.describe()\n"
      ],
      "execution_count": 0,
      "outputs": [
        {
          "output_type": "execute_result",
          "data": {
            "text/html": [
              "<div>\n",
              "<style scoped>\n",
              "    .dataframe tbody tr th:only-of-type {\n",
              "        vertical-align: middle;\n",
              "    }\n",
              "\n",
              "    .dataframe tbody tr th {\n",
              "        vertical-align: top;\n",
              "    }\n",
              "\n",
              "    .dataframe thead tr th {\n",
              "        text-align: left;\n",
              "    }\n",
              "\n",
              "    .dataframe thead tr:last-of-type th {\n",
              "        text-align: right;\n",
              "    }\n",
              "</style>\n",
              "<table border=\"1\" class=\"dataframe\">\n",
              "  <thead>\n",
              "    <tr>\n",
              "      <th></th>\n",
              "      <th colspan=\"8\" halign=\"left\">raised_amount_usd</th>\n",
              "    </tr>\n",
              "    <tr>\n",
              "      <th></th>\n",
              "      <th>count</th>\n",
              "      <th>mean</th>\n",
              "      <th>std</th>\n",
              "      <th>min</th>\n",
              "      <th>25%</th>\n",
              "      <th>50%</th>\n",
              "      <th>75%</th>\n",
              "      <th>max</th>\n",
              "    </tr>\n",
              "    <tr>\n",
              "      <th>funding_round_type</th>\n",
              "      <th></th>\n",
              "      <th></th>\n",
              "      <th></th>\n",
              "      <th></th>\n",
              "      <th></th>\n",
              "      <th></th>\n",
              "      <th></th>\n",
              "      <th></th>\n",
              "    </tr>\n",
              "  </thead>\n",
              "  <tbody>\n",
              "    <tr>\n",
              "      <th>angel</th>\n",
              "      <td>4427.00</td>\n",
              "      <td>968559.91</td>\n",
              "      <td>7687646.48</td>\n",
              "      <td>0.00</td>\n",
              "      <td>151795.00</td>\n",
              "      <td>410737.00</td>\n",
              "      <td>1000000.00</td>\n",
              "      <td>494511992.00</td>\n",
              "    </tr>\n",
              "    <tr>\n",
              "      <th>private_equity</th>\n",
              "      <td>1835.00</td>\n",
              "      <td>73618563.62</td>\n",
              "      <td>201004568.14</td>\n",
              "      <td>0.00</td>\n",
              "      <td>5000000.00</td>\n",
              "      <td>20000000.00</td>\n",
              "      <td>75020002.50</td>\n",
              "      <td>4745460219.00</td>\n",
              "    </tr>\n",
              "    <tr>\n",
              "      <th>seed</th>\n",
              "      <td>21233.00</td>\n",
              "      <td>748104.50</td>\n",
              "      <td>2283104.30</td>\n",
              "      <td>0.00</td>\n",
              "      <td>68525.00</td>\n",
              "      <td>300000.00</td>\n",
              "      <td>1000000.00</td>\n",
              "      <td>200000000.00</td>\n",
              "    </tr>\n",
              "    <tr>\n",
              "      <th>venture</th>\n",
              "      <td>48111.00</td>\n",
              "      <td>11735779.94</td>\n",
              "      <td>87951087.86</td>\n",
              "      <td>0.00</td>\n",
              "      <td>1603911.50</td>\n",
              "      <td>5000000.00</td>\n",
              "      <td>12000000.00</td>\n",
              "      <td>17600000000.00</td>\n",
              "    </tr>\n",
              "  </tbody>\n",
              "</table>\n",
              "</div>"
            ],
            "text/plain": [
              "                   raised_amount_usd                                                                                \n",
              "                               count        mean          std  min        25%         50%         75%            max\n",
              "funding_round_type                                                                                                  \n",
              "angel                        4427.00   968559.91   7687646.48 0.00  151795.00   410737.00  1000000.00   494511992.00\n",
              "private_equity               1835.00 73618563.62 201004568.14 0.00 5000000.00 20000000.00 75020002.50  4745460219.00\n",
              "seed                        21233.00   748104.50   2283104.30 0.00   68525.00   300000.00  1000000.00   200000000.00\n",
              "venture                     48111.00 11735779.94  87951087.86 0.00 1603911.50  5000000.00 12000000.00 17600000000.00"
            ]
          },
          "metadata": {
            "tags": []
          },
          "execution_count": 17
        }
      ]
    },
    {
      "cell_type": "markdown",
      "metadata": {
        "id": "mgDb_R12Pu-E",
        "colab_type": "text"
      },
      "source": [
        "--------------------------------------------------------------------------\n",
        "\n",
        "venture fund suits best as median funding is 5 million dollars\n",
        "\n",
        "--------------------------------------------------------------------------\n",
        "(Taking median value as its less affected by outlier values.)"
      ]
    },
    {
      "cell_type": "markdown",
      "metadata": {
        "id": "tS2VlFKkOvJM",
        "colab_type": "text"
      },
      "source": [
        "## Checkpoint 3 :\n",
        " \n",
        "a) Identify top9 countries with funding\n",
        "\n",
        "b) Identify top3 english speaking countries\n",
        " "
      ]
    },
    {
      "cell_type": "code",
      "metadata": {
        "id": "Ff4aTB0aPnMz",
        "colab_type": "code",
        "outputId": "ad2affe9-b66b-4b7e-d75e-36f5c72fcd59",
        "colab": {
          "base_uri": "https://localhost:8080/",
          "height": 33
        }
      },
      "source": [
        "#select venture funding data\n",
        "VentureFundingDF = master_frame[master_frame['funding_round_type'] == 'venture']\n",
        "VentureFundingDF.shape\n",
        "\n"
      ],
      "execution_count": 0,
      "outputs": [
        {
          "output_type": "execute_result",
          "data": {
            "text/plain": [
              "(48111, 16)"
            ]
          },
          "metadata": {
            "tags": []
          },
          "execution_count": 18
        }
      ]
    },
    {
      "cell_type": "code",
      "metadata": {
        "id": "ICtkhLWVRDRR",
        "colab_type": "code",
        "outputId": "c2a4615c-e08f-4db2-adce-939de4c75381",
        "colab": {
          "base_uri": "https://localhost:8080/",
          "height": 184
        }
      },
      "source": [
        "\n",
        "CountryVentureFundingDF = VentureFundingDF.groupby('country_code')\n",
        "top9 = CountryVentureFundingDF['raised_amount_usd'].sum().sort_values(ascending=False).head(9).reset_index()\n",
        "print (top9.head(9))\n"
      ],
      "execution_count": 0,
      "outputs": [
        {
          "output_type": "stream",
          "text": [
            "  country_code  raised_amount_usd\n",
            "0          USA    422510842796.00\n",
            "1          CHN     39835418773.00\n",
            "2          GBR     20245627416.00\n",
            "3          IND     14391858718.00\n",
            "4          CAN      9583332317.00\n",
            "5          FRA      7259536732.00\n",
            "6          ISR      6907514579.00\n",
            "7          DEU      6346959822.00\n",
            "8          JPN      3363676611.00\n"
          ],
          "name": "stdout"
        }
      ]
    },
    {
      "cell_type": "markdown",
      "metadata": {
        "id": "q66kB157i6CA",
        "colab_type": "text"
      },
      "source": [
        "As seen above, top 3 English Speaking Countries are USA, GBR and IND"
      ]
    },
    {
      "cell_type": "markdown",
      "metadata": {
        "id": "2xpJBxwckFSj",
        "colab_type": "text"
      },
      "source": [
        "# Checkpoint 4 : Sector Analysis 1\n",
        "\n",
        "Find the best sectors in these countries.\n"
      ]
    },
    {
      "cell_type": "code",
      "metadata": {
        "id": "3s7oAGK6kKUn",
        "colab_type": "code",
        "outputId": "afc72a6f-6c3d-4e60-af60-8526884ff397",
        "colab": {
          "base_uri": "https://localhost:8080/",
          "height": 137
        }
      },
      "source": [
        "selected_countries = ['USA', 'GBR', 'IND']\n",
        "\n",
        "SelectedCountriesData = VentureFundingDF[VentureFundingDF['country_code'].isin(selected_countries)]\n",
        "\n",
        "print (SelectedCountriesData.head(5))\n"
      ],
      "execution_count": 0,
      "outputs": [
        {
          "output_type": "stream",
          "text": [
            "                     permalink          name                homepage_url                     category_list     status country_code state_code       region           city  founded_at           company_permalink                          funding_round_permalink funding_round_type funding_round_code   funded_at  raised_amount_usd\n",
            "0          /organization/-fame         #fame          http://livfame.com                             Media  operating          IND         16       Mumbai         Mumbai         NaN         /organization/-fame  /funding-round/9a01d05418af9f794eebff7ace91f638            venture                  B  05-01-2015        10000000.00\n",
            "10        /organization/0xdata        H2O.ai              http://h2o.ai/                         Analytics  operating          USA         CA  SF Bay Area  Mountain View  01-01-2011        /organization/0xdata  /funding-round/3bb2ee4a2d89251a10aaa735b1180e44            venture                  B  09-11-2015        20000000.00\n",
            "11        /organization/0xdata        H2O.ai              http://h2o.ai/                         Analytics  operating          USA         CA  SF Bay Area  Mountain View  01-01-2011        /organization/0xdata  /funding-round/ae2a174c06517c2394aed45006322a7e            venture                NaN  03-01-2013         1700000.00\n",
            "12        /organization/0xdata        H2O.ai              http://h2o.ai/                         Analytics  operating          USA         CA  SF Bay Area  Mountain View  01-01-2011        /organization/0xdata  /funding-round/e1cfcbe1bdf4c70277c5f29a3482f24e            venture                  A  19-07-2014         8900000.00\n",
            "22  /organization/1-mainstream  1 Mainstream  http://www.1mainstream.com  Apps|Cable|Distribution|Software   acquired          USA         CA  SF Bay Area      Cupertino  01-03-2012  /organization/1-mainstream  /funding-round/b952cbaf401f310927430c97b68162ea            venture                NaN  17-03-2015         5000000.00\n"
          ],
          "name": "stdout"
        }
      ]
    },
    {
      "cell_type": "markdown",
      "metadata": {
        "id": "cob1zHnMxVAH",
        "colab_type": "text"
      },
      "source": [
        ""
      ]
    },
    {
      "cell_type": "code",
      "metadata": {
        "id": "whHfankUoELG",
        "colab_type": "code",
        "colab": {}
      },
      "source": [
        "#remove null values from mappings\n",
        "mapping.drop(mapping[mapping['category_list'].isnull()].index, inplace = True) "
      ],
      "execution_count": 0,
      "outputs": []
    },
    {
      "cell_type": "code",
      "metadata": {
        "id": "YGvxIWi9pyvf",
        "colab_type": "code",
        "outputId": "ca4c1258-3438-4b54-9e53-1963ae4f1945",
        "colab": {
          "base_uri": "https://localhost:8080/",
          "height": 50
        }
      },
      "source": [
        "#process mapping\n",
        "widenedMapping =pd.melt(mapping, id_vars='category_list', var_name='main_sector')\n",
        "widenedMapping.drop(widenedMapping[widenedMapping['value'] == 0].index, inplace = True) \n",
        "widenedMapping.drop('value', axis =1, inplace = True) \n",
        "print(widenedMapping.head(1))"
      ],
      "execution_count": 0,
      "outputs": [
        {
          "output_type": "stream",
          "text": [
            "      category_list          main_sector\n",
            "7  Adventure Travel  Automotive & Sports\n"
          ],
          "name": "stdout"
        }
      ]
    },
    {
      "cell_type": "code",
      "metadata": {
        "id": "7B2lOUUBsC8a",
        "colab_type": "code",
        "outputId": "e2dcc92c-2237-4992-cb60-913b296f2897",
        "colab": {
          "base_uri": "https://localhost:8080/",
          "height": 137
        }
      },
      "source": [
        "SelectedCountriesData['primary_sector'] = SelectedCountriesData['category_list'].apply(lambda x: x.split('|')[0])"
      ],
      "execution_count": 0,
      "outputs": [
        {
          "output_type": "stream",
          "text": [
            "/usr/local/lib/python3.6/dist-packages/ipykernel_launcher.py:1: SettingWithCopyWarning: \n",
            "A value is trying to be set on a copy of a slice from a DataFrame.\n",
            "Try using .loc[row_indexer,col_indexer] = value instead\n",
            "\n",
            "See the caveats in the documentation: http://pandas.pydata.org/pandas-docs/stable/user_guide/indexing.html#returning-a-view-versus-a-copy\n",
            "  \"\"\"Entry point for launching an IPython kernel.\n"
          ],
          "name": "stderr"
        }
      ]
    },
    {
      "cell_type": "code",
      "metadata": {
        "id": "0IVAQcuWu2p1",
        "colab_type": "code",
        "outputId": "1c351b6e-3de1-4c7d-a017-e6dffffd216e",
        "colab": {
          "base_uri": "https://localhost:8080/",
          "height": 137
        }
      },
      "source": [
        "#lowercase\n",
        "SelectedCountriesData['primary_sector'] = SelectedCountriesData['primary_sector'].str.lower()\n",
        "widenedMapping['category_list'] = widenedMapping['category_list'].str.lower()"
      ],
      "execution_count": 0,
      "outputs": [
        {
          "output_type": "stream",
          "text": [
            "/usr/local/lib/python3.6/dist-packages/ipykernel_launcher.py:1: SettingWithCopyWarning: \n",
            "A value is trying to be set on a copy of a slice from a DataFrame.\n",
            "Try using .loc[row_indexer,col_indexer] = value instead\n",
            "\n",
            "See the caveats in the documentation: http://pandas.pydata.org/pandas-docs/stable/user_guide/indexing.html#returning-a-view-versus-a-copy\n",
            "  \"\"\"Entry point for launching an IPython kernel.\n"
          ],
          "name": "stderr"
        }
      ]
    },
    {
      "cell_type": "code",
      "metadata": {
        "id": "EShQCZBWvj1V",
        "colab_type": "code",
        "outputId": "4bc65838-0439-4129-89f7-36c9cd5ad88e",
        "colab": {
          "base_uri": "https://localhost:8080/",
          "height": 505
        }
      },
      "source": [
        "print (SelectedCountriesData)\n",
        "print (widenedMapping)"
      ],
      "execution_count": 0,
      "outputs": [
        {
          "output_type": "stream",
          "text": [
            "                         permalink          name                homepage_url                     category_list     status country_code state_code       region           city  founded_at           company_permalink                          funding_round_permalink funding_round_type funding_round_code   funded_at  raised_amount_usd primary_sector\n",
            "0              /organization/-fame         #fame          http://livfame.com                             Media  operating          IND         16       Mumbai         Mumbai         NaN         /organization/-fame  /funding-round/9a01d05418af9f794eebff7ace91f638            venture                  B  05-01-2015        10000000.00          media\n",
            "10            /organization/0xdata        H2O.ai              http://h2o.ai/                         Analytics  operating          USA         CA  SF Bay Area  Mountain View  01-01-2011        /organization/0xdata  /funding-round/3bb2ee4a2d89251a10aaa735b1180e44            venture                  B  09-11-2015        20000000.00      analytics\n",
            "11            /organization/0xdata        H2O.ai              http://h2o.ai/                         Analytics  operating          USA         CA  SF Bay Area  Mountain View  01-01-2011        /organization/0xdata  /funding-round/ae2a174c06517c2394aed45006322a7e            venture                NaN  03-01-2013         1700000.00      analytics\n",
            "12            /organization/0xdata        H2O.ai              http://h2o.ai/                         Analytics  operating          USA         CA  SF Bay Area  Mountain View  01-01-2011        /organization/0xdata  /funding-round/e1cfcbe1bdf4c70277c5f29a3482f24e            venture                  A  19-07-2014         8900000.00      analytics\n",
            "22      /organization/1-mainstream  1 Mainstream  http://www.1mainstream.com  Apps|Cable|Distribution|Software   acquired          USA         CA  SF Bay Area      Cupertino  01-03-2012  /organization/1-mainstream  /funding-round/b952cbaf401f310927430c97b68162ea            venture                NaN  17-03-2015         5000000.00           apps\n",
            "...                            ...           ...                         ...                               ...        ...          ...        ...          ...            ...         ...                         ...                                              ...                ...                ...         ...                ...            ...\n",
            "114920    /organization/zyomyx-inc        ZYOMYX       http://www.zyomyx.com                     Biotechnology  operating          USA         MO   MO - Other        Fremont  01-01-1998    /organization/zyomyx-inc  /funding-round/4191cb5258d3863b0212d1083881da64            venture                  B  30-06-2013        12000000.00  biotechnology\n",
            "114922    /organization/zyomyx-inc        ZYOMYX       http://www.zyomyx.com                     Biotechnology  operating          USA         MO   MO - Other        Fremont  01-01-1998    /organization/zyomyx-inc  /funding-round/b4fce7f8a13267353d57db09099800e8            venture                NaN  11-07-2013        14219999.00  biotechnology\n",
            "114923    /organization/zyomyx-inc        ZYOMYX       http://www.zyomyx.com                     Biotechnology  operating          USA         MO   MO - Other        Fremont  01-01-1998    /organization/zyomyx-inc  /funding-round/ea5b21da6cf999ff4d5667431fe318d7            venture                NaN  29-01-2010          555016.00  biotechnology\n",
            "114934         /organization/zyrra         Zyrra        http://www.zyrra.com                        E-Commerce  operating          USA         MA       Boston      Cambridge         NaN         /organization/zyrra  /funding-round/7a0fa791c96c9c447ee54662395beab9            venture                NaN  18-10-2012          140500.00     e-commerce\n",
            "114936        /organization/zystor        Zystor       http://www.zystor.com                     Biotechnology   acquired          USA         WI    Milwaukee      Milwaukee         NaN        /organization/zystor  /funding-round/7ea37c0ff4132b084832039a9380d34e            venture                  A  16-12-2004         8500000.00  biotechnology\n",
            "\n",
            "[39018 rows x 17 columns]\n",
            "          category_list                              main_sector\n",
            "7      adventure travel                      Automotive & Sports\n",
            "13            aerospace                      Automotive & Sports\n",
            "44                 auto                      Automotive & Sports\n",
            "45      automated kiosk                      Automotive & Sports\n",
            "46           automotive                      Automotive & Sports\n",
            "...                 ...                                      ...\n",
            "6112  social recruiting  Social, Finance, Analytics, Advertising\n",
            "6113  social television  Social, Finance, Analytics, Advertising\n",
            "6114      social travel  Social, Finance, Analytics, Advertising\n",
            "6125    stock exchanges  Social, Finance, Analytics, Advertising\n",
            "6158    venture capital  Social, Finance, Analytics, Advertising\n",
            "\n",
            "[687 rows x 2 columns]\n"
          ],
          "name": "stdout"
        }
      ]
    },
    {
      "cell_type": "code",
      "metadata": {
        "id": "_8MAcrEkvs6P",
        "colab_type": "code",
        "colab": {}
      },
      "source": [
        "# join for main sector\n",
        "sectoralAnalysis = pd.merge(SelectedCountriesData, widenedMapping, left_on=['primary_sector'], \n",
        "             right_on= ['category_list'], how='left')\n",
        "\n",
        "sectoralAnalysis.drop(['funding_round_permalink','status', 'funded_at' ], axis=1, inplace=True)\n",
        "\n"
      ],
      "execution_count": 0,
      "outputs": []
    },
    {
      "cell_type": "code",
      "metadata": {
        "id": "R2hoZ7siwaBO",
        "colab_type": "code",
        "outputId": "3c364faf-a7bb-44a1-da44-e96138c0fa5b",
        "colab": {
          "base_uri": "https://localhost:8080/",
          "height": 271
        }
      },
      "source": [
        "print (sectoralAnalysis)"
      ],
      "execution_count": 0,
      "outputs": [
        {
          "output_type": "stream",
          "text": [
            "                        permalink          name                homepage_url                   category_list_x country_code state_code       region           city  founded_at           company_permalink funding_round_type funding_round_code  raised_amount_usd primary_sector category_list_y                 main_sector\n",
            "0             /organization/-fame         #fame          http://livfame.com                             Media          IND         16       Mumbai         Mumbai         NaN         /organization/-fame            venture                  B        10000000.00          media           media               Entertainment\n",
            "1            /organization/0xdata        H2O.ai              http://h2o.ai/                         Analytics          USA         CA  SF Bay Area  Mountain View  01-01-2011        /organization/0xdata            venture                  B        20000000.00      analytics             NaN                         NaN\n",
            "2            /organization/0xdata        H2O.ai              http://h2o.ai/                         Analytics          USA         CA  SF Bay Area  Mountain View  01-01-2011        /organization/0xdata            venture                NaN         1700000.00      analytics             NaN                         NaN\n",
            "3            /organization/0xdata        H2O.ai              http://h2o.ai/                         Analytics          USA         CA  SF Bay Area  Mountain View  01-01-2011        /organization/0xdata            venture                  A         8900000.00      analytics             NaN                         NaN\n",
            "4      /organization/1-mainstream  1 Mainstream  http://www.1mainstream.com  Apps|Cable|Distribution|Software          USA         CA  SF Bay Area      Cupertino  01-03-2012  /organization/1-mainstream            venture                NaN         5000000.00           apps            apps  News, Search and Messaging\n",
            "...                           ...           ...                         ...                               ...          ...        ...          ...            ...         ...                         ...                ...                ...                ...            ...             ...                         ...\n",
            "39013    /organization/zyomyx-inc        ZYOMYX       http://www.zyomyx.com                     Biotechnology          USA         MO   MO - Other        Fremont  01-01-1998    /organization/zyomyx-inc            venture                  B        12000000.00  biotechnology   biotechnology  Cleantech / Semiconductors\n",
            "39014    /organization/zyomyx-inc        ZYOMYX       http://www.zyomyx.com                     Biotechnology          USA         MO   MO - Other        Fremont  01-01-1998    /organization/zyomyx-inc            venture                NaN        14219999.00  biotechnology   biotechnology  Cleantech / Semiconductors\n",
            "39015    /organization/zyomyx-inc        ZYOMYX       http://www.zyomyx.com                     Biotechnology          USA         MO   MO - Other        Fremont  01-01-1998    /organization/zyomyx-inc            venture                NaN          555016.00  biotechnology   biotechnology  Cleantech / Semiconductors\n",
            "39016         /organization/zyrra         Zyrra        http://www.zyrra.com                        E-Commerce          USA         MA       Boston      Cambridge         NaN         /organization/zyrra            venture                NaN          140500.00     e-commerce      e-commerce                      Others\n",
            "39017        /organization/zystor        Zystor       http://www.zystor.com                     Biotechnology          USA         WI    Milwaukee      Milwaukee         NaN        /organization/zystor            venture                  A         8500000.00  biotechnology   biotechnology  Cleantech / Semiconductors\n",
            "\n",
            "[39018 rows x 16 columns]\n"
          ],
          "name": "stdout"
        }
      ]
    },
    {
      "cell_type": "code",
      "metadata": {
        "id": "YewtWGYSwex7",
        "colab_type": "code",
        "outputId": "5f705d50-a043-4fb3-e8d3-e8b8e0dabb2a",
        "colab": {
          "base_uri": "https://localhost:8080/",
          "height": 117
        }
      },
      "source": [
        "#some of the main sectors seem NaN lets check\n",
        "nullSector = sectoralAnalysis[sectoralAnalysis['main_sector'].isnull()]\n",
        "print(sectoralAnalysis.shape)\n",
        "print(nullSector.shape)\n",
        "\n",
        "print(round(100*(sectoralAnalysis['main_sector'].isnull().sum()/len(sectoralAnalysis.index))))\n",
        "print(nullSector['raised_amount_usd'].sum())\n",
        "print(sectoralAnalysis['raised_amount_usd'].sum())\n",
        "print (\"Missing Investing Sum : \" + str(round(100*nullSector['raised_amount_usd'].sum()/sectoralAnalysis['raised_amount_usd'].sum())) + \"%\")\n",
        "\n"
      ],
      "execution_count": 0,
      "outputs": [
        {
          "output_type": "stream",
          "text": [
            "(39018, 16)\n",
            "(2831, 16)\n",
            "7.0\n",
            "32448375981.0\n",
            "457148328930.0\n",
            "Missing Investing Sum : 7.0%\n"
          ],
          "name": "stdout"
        }
      ]
    },
    {
      "cell_type": "markdown",
      "metadata": {
        "id": "vP14GhuoZB_o",
        "colab_type": "text"
      },
      "source": [
        "Since the rows whose main sectors are missing are ~7% as per Value and count. We will drop them."
      ]
    },
    {
      "cell_type": "code",
      "metadata": {
        "id": "aDOxHXMo3l9t",
        "colab_type": "code",
        "outputId": "04de7b5d-1c54-4592-a076-90b9b277955d",
        "colab": {
          "base_uri": "https://localhost:8080/",
          "height": 271
        }
      },
      "source": [
        "#we will drop rows with main sector NaN as they are nor nyc\n",
        "sectoralAnalysis.drop(sectoralAnalysis[sectoralAnalysis['main_sector'].isnull()].index, inplace = True) \n",
        "\n",
        "print (sectoralAnalysis)"
      ],
      "execution_count": 0,
      "outputs": [
        {
          "output_type": "stream",
          "text": [
            "                           permalink             name                homepage_url                   category_list_x country_code state_code       region           city  founded_at              company_permalink funding_round_type funding_round_code  raised_amount_usd primary_sector category_list_y                 main_sector\n",
            "0                /organization/-fame            #fame          http://livfame.com                             Media          IND         16       Mumbai         Mumbai         NaN            /organization/-fame            venture                  B        10000000.00          media           media               Entertainment\n",
            "4         /organization/1-mainstream     1 Mainstream  http://www.1mainstream.com  Apps|Cable|Distribution|Software          USA         CA  SF Bay Area      Cupertino  01-03-2012     /organization/1-mainstream            venture                NaN         5000000.00           apps            apps  News, Search and Messaging\n",
            "5      /organization/10-minutes-with  10 Minutes With    http://10minuteswith.com                         Education          GBR         H9       London         London  01-01-2013  /organization/10-minutes-with            venture                  A         4000000.00      education       education                      Others\n",
            "6         /organization/1000memories     1000memories     http://1000memories.com                       Curated Web          USA         CA  SF Bay Area  San Francisco  01-07-2010     /organization/1000memories            venture                  A         2520000.00    curated web     curated web  News, Search and Messaging\n",
            "7      /organization/1000museums-com  1000museums.com  http://www.1000museums.com                       Curated Web          USA         MA   MA - Other          Lenox  01-01-2008  /organization/1000museums-com            venture                NaN          265940.00    curated web     curated web  News, Search and Messaging\n",
            "...                              ...              ...                         ...                               ...          ...        ...          ...            ...         ...                            ...                ...                ...                ...            ...             ...                         ...\n",
            "39013       /organization/zyomyx-inc           ZYOMYX       http://www.zyomyx.com                     Biotechnology          USA         MO   MO - Other        Fremont  01-01-1998       /organization/zyomyx-inc            venture                  B        12000000.00  biotechnology   biotechnology  Cleantech / Semiconductors\n",
            "39014       /organization/zyomyx-inc           ZYOMYX       http://www.zyomyx.com                     Biotechnology          USA         MO   MO - Other        Fremont  01-01-1998       /organization/zyomyx-inc            venture                NaN        14219999.00  biotechnology   biotechnology  Cleantech / Semiconductors\n",
            "39015       /organization/zyomyx-inc           ZYOMYX       http://www.zyomyx.com                     Biotechnology          USA         MO   MO - Other        Fremont  01-01-1998       /organization/zyomyx-inc            venture                NaN          555016.00  biotechnology   biotechnology  Cleantech / Semiconductors\n",
            "39016            /organization/zyrra            Zyrra        http://www.zyrra.com                        E-Commerce          USA         MA       Boston      Cambridge         NaN            /organization/zyrra            venture                NaN          140500.00     e-commerce      e-commerce                      Others\n",
            "39017           /organization/zystor           Zystor       http://www.zystor.com                     Biotechnology          USA         WI    Milwaukee      Milwaukee         NaN           /organization/zystor            venture                  A         8500000.00  biotechnology   biotechnology  Cleantech / Semiconductors\n",
            "\n",
            "[36187 rows x 16 columns]\n"
          ],
          "name": "stdout"
        }
      ]
    },
    {
      "cell_type": "markdown",
      "metadata": {
        "id": "QBmSZtob6thP",
        "colab_type": "text"
      },
      "source": [
        "sectoralAnalysis is the dataframe for Checkpoint#4"
      ]
    },
    {
      "cell_type": "markdown",
      "metadata": {
        "id": "VMtpMaF-67lr",
        "colab_type": "text"
      },
      "source": [
        "## Checkpoint 5: Sector Analysis 2"
      ]
    },
    {
      "cell_type": "code",
      "metadata": {
        "id": "zro1FfDV6_4s",
        "colab_type": "code",
        "outputId": "b857df37-810b-41d7-bbff-55bf5ee1ab2a",
        "colab": {
          "base_uri": "https://localhost:8080/",
          "height": 739
        }
      },
      "source": [
        "# Create country specific dataframes with USA (D1), GBR (D2), IND (D3)\n",
        "# range of funding preferred by Spark Funds is 5 to 15 million USD.\n",
        "D1 = sectoralAnalysis[sectoralAnalysis['country_code'] == 'USA']\n",
        "D1 = D1 [(D1['raised_amount_usd'] >= 5000000) & (D1['raised_amount_usd'] <= 15000000)]\n",
        "\n",
        "D2 = sectoralAnalysis[sectoralAnalysis['country_code'] == 'GBR']\n",
        "D2 = D2 [(D2['raised_amount_usd'] >= 5000000) & (D2['raised_amount_usd'] <= 15000000)]\n",
        "\n",
        "D3 = sectoralAnalysis[sectoralAnalysis['country_code'] == 'IND']\n",
        "D3 = D3 [(D3['raised_amount_usd'] >= 5000000) & (D3['raised_amount_usd'] <= 15000000)]\n",
        "\n",
        "print(D1)\n",
        "print(D2)\n",
        "print(D3)"
      ],
      "execution_count": 0,
      "outputs": [
        {
          "output_type": "stream",
          "text": [
            "                             permalink               name                   homepage_url                                    category_list_x country_code state_code       region           city  founded_at                company_permalink funding_round_type funding_round_code  raised_amount_usd         primary_sector        category_list_y                              main_sector\n",
            "4           /organization/1-mainstream       1 Mainstream     http://www.1mainstream.com                   Apps|Cable|Distribution|Software          USA         CA  SF Bay Area      Cupertino  01-03-2012       /organization/1-mainstream            venture                NaN         5000000.00                   apps                   apps               News, Search and Messaging\n",
            "17        /organization/128-technology     128 Technology  http://www.128technology.com/                       Service Providers|Technology          USA         MA       Boston     Burlington  07-07-2014     /organization/128-technology            venture                NaN        11999347.00      service providers      service providers                                   Others\n",
            "20     /organization/1366-technologies  1366 Technologies        http://www.1366tech.com                                      Manufacturing          USA         MA       Boston        Bedford  01-01-2007  /organization/1366-technologies            venture                  C        15000000.00          manufacturing          manufacturing                            Manufacturing\n",
            "21     /organization/1366-technologies  1366 Technologies        http://www.1366tech.com                                      Manufacturing          USA         MA       Boston        Bedford  01-01-2007  /organization/1366-technologies            venture                  C         5000000.00          manufacturing          manufacturing                            Manufacturing\n",
            "22     /organization/1366-technologies  1366 Technologies        http://www.1366tech.com                                      Manufacturing          USA         MA       Boston        Bedford  01-01-2007  /organization/1366-technologies            venture                  A         5150000.00          manufacturing          manufacturing                            Manufacturing\n",
            "...                                ...                ...                            ...                                                ...          ...        ...          ...            ...         ...                              ...                ...                ...                ...                    ...                    ...                                      ...\n",
            "39006              /organization/zynga              Zynga           http://www.zynga.com  Facebook Applications|Games|Networking|Technology          USA         CA  SF Bay Area  San Francisco  01-07-2007              /organization/zynga            venture                  B        15000000.00  facebook applications  facebook applications  Social, Finance, Analytics, Advertising\n",
            "39009              /organization/zynga              Zynga           http://www.zynga.com  Facebook Applications|Games|Networking|Technology          USA         CA  SF Bay Area  San Francisco  01-07-2007              /organization/zynga            venture                  A         5026000.00  facebook applications  facebook applications  Social, Finance, Analytics, Advertising\n",
            "39013         /organization/zyomyx-inc             ZYOMYX          http://www.zyomyx.com                                      Biotechnology          USA         MO   MO - Other        Fremont  01-01-1998         /organization/zyomyx-inc            venture                  B        12000000.00          biotechnology          biotechnology               Cleantech / Semiconductors\n",
            "39014         /organization/zyomyx-inc             ZYOMYX          http://www.zyomyx.com                                      Biotechnology          USA         MO   MO - Other        Fremont  01-01-1998         /organization/zyomyx-inc            venture                NaN        14219999.00          biotechnology          biotechnology               Cleantech / Semiconductors\n",
            "39017             /organization/zystor             Zystor          http://www.zystor.com                                      Biotechnology          USA         WI    Milwaukee      Milwaukee         NaN             /organization/zystor            venture                  A         8500000.00          biotechnology          biotechnology               Cleantech / Semiconductors\n",
            "\n",
            "[11149 rows x 16 columns]\n",
            "                         permalink           name                    homepage_url                                    category_list_x country_code state_code  region       city  founded_at            company_permalink funding_round_type funding_round_code  raised_amount_usd    primary_sector   category_list_y                              main_sector\n",
            "108        /organization/365scores      365Scores        http://biz.365scores.com                  Android|Apps|iPhone|Mobile|Sports          GBR         H9  London     London  01-01-2008      /organization/365scores            venture                  B         5500000.00           android           android  Social, Finance, Analytics, Advertising\n",
            "234         /organization/7digital       7digital       http://about.7digital.com  Content Creators|Content Delivery|Licensing|Mu...          GBR         H9  London     London  01-01-2004       /organization/7digital            venture                  A         8468328.00  content creators  content creators                            Entertainment\n",
            "235         /organization/7digital       7digital       http://about.7digital.com  Content Creators|Content Delivery|Licensing|Mu...          GBR         H9  London     London  01-01-2004       /organization/7digital            venture                NaN        10000000.00  content creators  content creators                            Entertainment\n",
            "258            /organization/90min          90min            http://www.90min.com                Media|News|Publishing|Soccer|Sports          GBR         H9  London     London  01-01-2011          /organization/90min            venture                NaN        15000000.00             media             media                            Entertainment\n",
            "259            /organization/90min          90min            http://www.90min.com                Media|News|Publishing|Soccer|Sports          GBR         H9  London     London  01-01-2011          /organization/90min            venture                NaN         5800000.00             media             media                            Entertainment\n",
            "...                            ...            ...                             ...                                                ...          ...        ...     ...        ...         ...                          ...                ...                ...                ...               ...               ...                                      ...\n",
            "38703           /organization/zeus           Zeus  http://www.zeus.com/index.html                                           Software          GBR         C3  London  Cambridge  01-01-1995           /organization/zeus            venture                  D         5100000.00          software          software                                   Others\n",
            "38709  /organization/ziarco-pharma  Ziarco Pharma     http://www.ziarcopharma.com                                      Biotechnology          GBR         G5    Kent       Kent         NaN  /organization/ziarco-pharma            venture                  A         6000000.00     biotechnology     biotechnology               Cleantech / Semiconductors\n",
            "38772        /organization/zinwave        Zinwave          http://www.zinwave.com                                             Mobile          GBR         C3  London  Cambridge  01-01-2005        /organization/zinwave            venture                  B         9961962.00            mobile            mobile               News, Search and Messaging\n",
            "38773        /organization/zinwave        Zinwave          http://www.zinwave.com                                             Mobile          GBR         C3  London  Cambridge  01-01-2005        /organization/zinwave            venture                  A         7640000.00            mobile            mobile               News, Search and Messaging\n",
            "39011        /organization/zynstra        Zynstra          http://www.zynstra.com                                           Software          GBR         A4    Bath       Bath  30-11-2011        /organization/zynstra            venture                  B         8400000.00          software          software                                   Others\n",
            "\n",
            "[577 rows x 16 columns]\n",
            "                            permalink              name                  homepage_url                                    category_list_x country_code state_code       region       city  founded_at               company_permalink funding_round_type funding_round_code  raised_amount_usd     primary_sector    category_list_y                              main_sector\n",
            "0                 /organization/-fame             #fame            http://livfame.com                                              Media          IND         16       Mumbai     Mumbai         NaN             /organization/-fame            venture                  B        10000000.00              media              media                            Entertainment\n",
            "55     /organization/21diamonds-india        21Diamonds      http://www.21diamonds.de                                         E-Commerce          IND         10    New Delhi    Gurgaon  01-06-2012  /organization/21diamonds-india            venture                  C         6369507.00         e-commerce         e-commerce                                   Others\n",
            "933      /organization/adlabs-imagica    Adlabs Imagica  http://www.adlabsimagica.com                              Entertainment|Tourism          IND         16  IND - Other    Khopoli         NaN    /organization/adlabs-imagica            venture                NaN         8180000.00      entertainment      entertainment                            Entertainment\n",
            "1529             /organization/akosha            Akosha         http://www.akosha.com  Consumer Internet|Digital Media|Enterprise Sof...          IND          7    New Delhi  New Delhi  01-06-2010            /organization/akosha            venture                  A         5000000.00  consumer internet  consumer internet  Social, Finance, Analytics, Advertising\n",
            "1924   /organization/amagi-media-labs  Amagi Media Labs              http://amagi.com                                        Advertising          IND         19    Bangalore  Bangalore  01-01-2008  /organization/amagi-media-labs            venture                  A         5500000.00        advertising        advertising  Social, Finance, Analytics, Advertising\n",
            "...                               ...               ...                           ...                                                ...          ...        ...          ...        ...         ...                             ...                ...                ...                ...                ...                ...                                      ...\n",
            "38844            /organization/zomato            Zomato       https://www.zomato.com/  Content Discovery|Hospitality|Local Search|Res...          IND         10    New Delhi    Gurgaon  10-07-2008            /organization/zomato            venture                  C        10000000.00  content discovery  content discovery                            Entertainment\n",
            "38869     /organization/zoomcar-india           ZoomCar         http://www.zoomcar.in     Automotive|Consumers|E-Commerce|Transportation          IND         19    Bangalore  Bangalore  01-01-2012     /organization/zoomcar-india            venture                  A         8000000.00         automotive         automotive                      Automotive & Sports\n",
            "38870     /organization/zoomcar-india           ZoomCar         http://www.zoomcar.in     Automotive|Consumers|E-Commerce|Transportation          IND         19    Bangalore  Bangalore  01-01-2012     /organization/zoomcar-india            venture                NaN        11000000.00         automotive         automotive                      Automotive & Sports\n",
            "38881             /organization/zoomo             Zoomo       http://www.gozoomo.com/                                           Internet          IND         19    Bangalore  Bangalore  01-01-2014             /organization/zoomo            venture                  A         5000000.00           internet           internet               News, Search and Messaging\n",
            "38907            /organization/zopnow            ZopNow         http://www.zopnow.com                                Groceries|Logistics          IND         19    Bangalore  Bangalore  13-09-2011            /organization/zopnow            venture                  A        10000000.00          groceries          groceries                            Manufacturing\n",
            "\n",
            "[299 rows x 16 columns]\n"
          ],
          "name": "stdout"
        }
      ]
    },
    {
      "cell_type": "code",
      "metadata": {
        "id": "2YKIex9XayiA",
        "colab_type": "code",
        "outputId": "9ca84489-4716-4424-91ca-d6a6447c8145",
        "colab": {
          "base_uri": "https://localhost:8080/",
          "height": 67
        }
      },
      "source": [
        "print( D1['raised_amount_usd'].sum() )\n",
        "print( D2['raised_amount_usd'].sum() )\n",
        "print( D3['raised_amount_usd'].sum() )"
      ],
      "execution_count": 0,
      "outputs": [
        {
          "output_type": "stream",
          "text": [
            "99661524549.0\n",
            "5028704358.0\n",
            "2683537552.0\n"
          ],
          "name": "stdout"
        }
      ]
    },
    {
      "cell_type": "code",
      "metadata": {
        "id": "62dpc0Uydmhs",
        "colab_type": "code",
        "outputId": "8f9cb127-9093-4e01-bcb7-a0dda01b7265",
        "colab": {
          "base_uri": "https://localhost:8080/",
          "height": 184
        }
      },
      "source": [
        "D1_SectorWise = D1.groupby('main_sector')\n",
        "print(D1_SectorWise['main_sector'].count().sort_values(ascending=False).head(3))\n",
        "print(D1_SectorWise['raised_amount_usd'].sum().sort_values(ascending=False).head(3))"
      ],
      "execution_count": 0,
      "outputs": [
        {
          "output_type": "stream",
          "text": [
            "main_sector\n",
            "Others                                     2923\n",
            "Cleantech / Semiconductors                 2297\n",
            "Social, Finance, Analytics, Advertising    1912\n",
            "Name: main_sector, dtype: int64\n",
            "main_sector\n",
            "Others                                    26089280296.00\n",
            "Cleantech / Semiconductors                21181003033.00\n",
            "Social, Finance, Analytics, Advertising   16680695048.00\n",
            "Name: raised_amount_usd, dtype: float64\n"
          ],
          "name": "stdout"
        }
      ]
    },
    {
      "cell_type": "code",
      "metadata": {
        "id": "VKz_5RgOdswf",
        "colab_type": "code",
        "outputId": "ecc22be2-8ccb-466f-80e1-2c3d06238eee",
        "colab": {
          "base_uri": "https://localhost:8080/",
          "height": 184
        }
      },
      "source": [
        "D2_SectorWise = D2.groupby('main_sector')\n",
        "print(D2_SectorWise['main_sector'].count().sort_values(ascending=False).head(3))\n",
        "print(D2_SectorWise['raised_amount_usd'].sum().sort_values(ascending=False).head(3))"
      ],
      "execution_count": 0,
      "outputs": [
        {
          "output_type": "stream",
          "text": [
            "main_sector\n",
            "Others                                     143\n",
            "Cleantech / Semiconductors                 127\n",
            "Social, Finance, Analytics, Advertising     98\n",
            "Name: main_sector, dtype: int64\n",
            "main_sector\n",
            "Others                                    1249124289.00\n",
            "Cleantech / Semiconductors                1136905008.00\n",
            "Social, Finance, Analytics, Advertising    821888357.00\n",
            "Name: raised_amount_usd, dtype: float64\n"
          ],
          "name": "stdout"
        }
      ]
    },
    {
      "cell_type": "code",
      "metadata": {
        "id": "-YNEoqO3hSPu",
        "colab_type": "code",
        "outputId": "b155197c-97ed-40b2-d3a8-5d3a1cb2c7d8",
        "colab": {
          "base_uri": "https://localhost:8080/",
          "height": 184
        }
      },
      "source": [
        "D3_SectorWise = D3.groupby('main_sector')\n",
        "print(D3_SectorWise['main_sector'].count().sort_values(ascending=False).head(3))\n",
        "print(D3_SectorWise['raised_amount_usd'].sum().sort_values(ascending=False).head(3))"
      ],
      "execution_count": 0,
      "outputs": [
        {
          "output_type": "stream",
          "text": [
            "main_sector\n",
            "Others                        109\n",
            "News, Search and Messaging     52\n",
            "Entertainment                  33\n",
            "Name: main_sector, dtype: int64\n",
            "main_sector\n",
            "Others                                    1007409507.00\n",
            "News, Search and Messaging                 433834545.00\n",
            "Social, Finance, Analytics, Advertising    290543500.00\n",
            "Name: raised_amount_usd, dtype: float64\n"
          ],
          "name": "stdout"
        }
      ]
    },
    {
      "cell_type": "code",
      "metadata": {
        "id": "OiTzMTPwhW0U",
        "colab_type": "code",
        "outputId": "42d92cdf-a76f-4eb8-c726-9eceb0408304",
        "colab": {
          "base_uri": "https://localhost:8080/",
          "height": 184
        }
      },
      "source": [
        "#check which company received Highest Investment in D1\n",
        "SectorName = 'Others'\n",
        "D1_MaxInvest =  D1[D1['main_sector'] == SectorName].groupby('permalink')\n",
        "print(D1_MaxInvest['raised_amount_usd'].sum().sort_values(ascending=False).head(3))\n",
        "\n",
        "SectorName = 'Cleantech / Semiconductors'\n",
        "D1_MaxInvest =  D1[D1['main_sector'] == SectorName].groupby('permalink')\n",
        "print(D1_MaxInvest['raised_amount_usd'].sum().sort_values(ascending=False).head(3))"
      ],
      "execution_count": 0,
      "outputs": [
        {
          "output_type": "stream",
          "text": [
            "permalink\n",
            "/organization/virtustream         64300000.00\n",
            "/organization/capella             54968051.00\n",
            "/organization/airtight-networks   54201907.00\n",
            "Name: raised_amount_usd, dtype: float64\n",
            "permalink\n",
            "/organization/biodesix        75300000.00\n",
            "/organization/tigo-energy     68739496.00\n",
            "/organization/forsight-labs   61300001.00\n",
            "Name: raised_amount_usd, dtype: float64\n"
          ],
          "name": "stdout"
        }
      ]
    },
    {
      "cell_type": "code",
      "metadata": {
        "id": "O5u31qsyjMGA",
        "colab_type": "code",
        "outputId": "882015d6-08c8-414c-c1db-df1a342d7219",
        "colab": {
          "base_uri": "https://localhost:8080/",
          "height": 184
        }
      },
      "source": [
        "\n",
        "SectorName = 'Others'\n",
        "D2_MaxInvest =  D2[D2['main_sector'] == SectorName].groupby('permalink')\n",
        "print(D2_MaxInvest['raised_amount_usd'].sum().sort_values(ascending=False).head(3))\n",
        "\n",
        "SectorName = 'Cleantech / Semiconductors'\n",
        "D2_MaxInvest =  D2[D2['main_sector'] == SectorName].groupby('permalink')\n",
        "print(D2_MaxInvest['raised_amount_usd'].sum().sort_values(ascending=False).head(3))"
      ],
      "execution_count": 0,
      "outputs": [
        {
          "output_type": "stream",
          "text": [
            "permalink\n",
            "/organization/electric-cloud   37000000.00\n",
            "/organization/sensage          36250000.00\n",
            "/organization/enigmatic        32500000.00\n",
            "Name: raised_amount_usd, dtype: float64\n",
            "permalink\n",
            "/organization/eusa-pharma                                                     35600000.00\n",
            "/organization/horizon-discovery                                               31353719.00\n",
            "/organization/f-star-biotechnologische-forschungs-und-entwicklungsges-m-b-h   29132906.00\n",
            "Name: raised_amount_usd, dtype: float64\n"
          ],
          "name": "stdout"
        }
      ]
    },
    {
      "cell_type": "code",
      "metadata": {
        "id": "YB_E5bZOlk2R",
        "colab_type": "code",
        "outputId": "1d41dd63-5ed0-4a9c-c554-ba5aa45c1308",
        "colab": {
          "base_uri": "https://localhost:8080/",
          "height": 184
        }
      },
      "source": [
        "SectorName = 'Others'\n",
        "D3_MaxInvest =  D3[D3['main_sector'] == SectorName].groupby('permalink')\n",
        "print(D3_MaxInvest['raised_amount_usd'].sum().sort_values(ascending=False).head(3))\n",
        "\n",
        "SectorName = 'News, Search and Messaging'\n",
        "D3_MaxInvest =  D3[D3['main_sector'] == SectorName].groupby('permalink')\n",
        "print(D3_MaxInvest['raised_amount_usd'].sum().sort_values(ascending=False).head(3))"
      ],
      "execution_count": 0,
      "outputs": [
        {
          "output_type": "stream",
          "text": [
            "permalink\n",
            "/organization/firstcry-com   39000000.00\n",
            "/organization/myntra         38000000.00\n",
            "/organization/commonfloor    32900000.00\n",
            "Name: raised_amount_usd, dtype: float64\n",
            "permalink\n",
            "/organization/gupshup-technology-india-pvt-ltd   33000000.00\n",
            "/organization/imimobile                          23000000.00\n",
            "/organization/sms-gupshup                        22000000.00\n",
            "Name: raised_amount_usd, dtype: float64\n"
          ],
          "name": "stdout"
        }
      ]
    },
    {
      "cell_type": "markdown",
      "metadata": {
        "id": "iFNZvpV6m1x1",
        "colab_type": "text"
      },
      "source": [
        "## **Checkpoint 6: Plots**"
      ]
    },
    {
      "cell_type": "code",
      "metadata": {
        "id": "iNryKilIm37E",
        "colab_type": "code",
        "colab": {}
      },
      "source": [
        "import matplotlib.pyplot as plt\n",
        "import seaborn as sns\n",
        "sns.set_style(\"whitegrid\")"
      ],
      "execution_count": 0,
      "outputs": []
    },
    {
      "cell_type": "code",
      "metadata": {
        "id": "u5R0f8PesI2C",
        "colab_type": "code",
        "outputId": "a84569a1-842d-4d90-bdf5-5f5c7e577be7",
        "colab": {
          "base_uri": "https://localhost:8080/",
          "height": 481
        }
      },
      "source": [
        "interestedFundingTypes = ['angel', 'seed', 'private_equity','venture']\n",
        "FundingTypes = master_frame[master_frame['funding_round_type'].isin(interestedFundingTypes)]\n",
        "\n",
        "plt.figure(figsize=(15, 7))\n",
        "plt.yscale('log')\n",
        "\n",
        "snsPlot = sns.boxplot(x='funding_round_type', y='raised_amount_usd', data=FundingTypes)\n",
        "\n",
        "snsPlot.set(xlabel='Funding Type', ylabel='Raised Amount ($)')\n",
        "snsPlot.set_title('FundingType Analysis',fontsize =20)\n",
        "\n",
        "plt.axhline(y = 5000000, color = 'r', label = \"Low\")\n",
        "plt.axhline(y = 15000000, color='r',  label = \"Hi\")\n",
        "\n"
      ],
      "execution_count": 0,
      "outputs": [
        {
          "output_type": "execute_result",
          "data": {
            "text/plain": [
              "<matplotlib.lines.Line2D at 0x7fcc21db3780>"
            ]
          },
          "metadata": {
            "tags": []
          },
          "execution_count": 124
        },
        {
          "output_type": "display_data",
          "data": {
            "image/png": "[encoded data removed]",
            "text/plain": [
              "<Figure size 1080x504 with 1 Axes>"
            ]
          },
          "metadata": {
            "tags": []
          }
        }
      ]
    },
    {
      "cell_type": "code",
      "metadata": {
        "id": "5RpmrwZJs1wQ",
        "colab_type": "code",
        "outputId": "0ef55362-b84f-4117-ecba-d2ab0d5525c9",
        "colab": {
          "base_uri": "https://localhost:8080/",
          "height": 463
        }
      },
      "source": [
        "plt.figure(figsize=(15,7))\n",
        "plt.yscale('log')\n",
        "#clrs = ['grey' if (top9['country_code'].isin(selected_countries)) else 'red' for x in top9['country_code'] ]\n",
        "\n",
        "snsPlot2=sns.barplot(x='country_code', y='raised_amount_usd', data=top9)\n",
        "snsPlot2.set(xlabel='Countries', ylabel='Raised Amount ($)')\n",
        "snsPlot2.set_title('CountryWise Funding Analysis',fontsize =20)\n",
        "plt.show()"
      ],
      "execution_count": 0,
      "outputs": [
        {
          "output_type": "display_data",
          "data": {
            "image/png": "[encoded data removed]",
            "text/plain": [
              "<Figure size 1080x504 with 1 Axes>"
            ]
          },
          "metadata": {
            "tags": []
          }
        }
      ]
    },
    {
      "cell_type": "code",
      "metadata": {
        "id": "XI6bYrd3yCzi",
        "colab_type": "code",
        "outputId": "6a357006-3bf0-4816-a77c-8fbc2f9f1393",
        "colab": {
          "base_uri": "https://localhost:8080/",
          "height": 184
        }
      },
      "source": [
        "\n",
        "D1_InvestmentCounts = D1_SectorWise['raised_amount_usd'].count().sort_values(ascending=False).head(3).reset_index()\n",
        "D1_InvestmentCounts['country'] = 'USA'\n",
        "#print(D1_InvestmentCounts.head())\n",
        "\n",
        "D2_InvestmentCounts = D2_SectorWise['raised_amount_usd'].count().sort_values(ascending=False).head(3).reset_index()\n",
        "D2_InvestmentCounts['country'] = 'GBR'\n",
        "#print(D2_InvestmentCounts.head())\n",
        "\n",
        "D3_InvestmentCounts = D3_SectorWise['raised_amount_usd'].count().sort_values(ascending=False).head(3).reset_index()\n",
        "D3_InvestmentCounts['country'] = 'IND'\n",
        "#print(D3_InvestmentCounts.head())\n",
        "\n",
        "frames = [D1_InvestmentCounts, D2_InvestmentCounts, D3_InvestmentCounts]\n",
        "sectorWisePerCountryDF = pd.concat(frames)\n",
        "print(sectorWisePerCountryDF)\n",
        "\n",
        "\n"
      ],
      "execution_count": 0,
      "outputs": [
        {
          "output_type": "stream",
          "text": [
            "                               main_sector  raised_amount_usd country\n",
            "0                                   Others               2923     USA\n",
            "1               Cleantech / Semiconductors               2297     USA\n",
            "2  Social, Finance, Analytics, Advertising               1912     USA\n",
            "0                                   Others                143     GBR\n",
            "1               Cleantech / Semiconductors                127     GBR\n",
            "2  Social, Finance, Analytics, Advertising                 98     GBR\n",
            "0                                   Others                109     IND\n",
            "1               News, Search and Messaging                 52     IND\n",
            "2                            Entertainment                 33     IND\n"
          ],
          "name": "stdout"
        }
      ]
    },
    {
      "cell_type": "code",
      "metadata": {
        "id": "yVYIe9P-1pFz",
        "colab_type": "code",
        "outputId": "c8b4bf9a-cc38-46ab-c0ca-f6e36e520042",
        "colab": {
          "base_uri": "https://localhost:8080/",
          "height": 467
        }
      },
      "source": [
        "plt.figure(figsize=(15, 7))\n",
        "plt.yscale('log')\n",
        "snsPlot3 = sns.barplot(x='country', y='raised_amount_usd', hue=\"main_sector\", data=sectorWisePerCountryDF)\n",
        "snsPlot3.set(xlabel='Countries/Sectors', ylabel='Raised Amount ($)')\n",
        "snsPlot3.set_title('Country/Sector Funding Analysis',fontsize =25)\n",
        "plt.show()"
      ],
      "execution_count": 0,
      "outputs": [
        {
          "output_type": "display_data",
          "data": {
            "image/png": "[encoded data removed]",
            "text/plain": [
              "<Figure size 1080x504 with 1 Axes>"
            ]
          },
          "metadata": {
            "tags": []
          }
        }
      ]
    },
    {
      "cell_type": "code",
      "metadata": {
        "id": "vcFWtp5hgp0N",
        "colab_type": "code",
        "colab": {}
      },
      "source": [
        ""
      ],
      "execution_count": 0,
      "outputs": []
    }
  ]
}