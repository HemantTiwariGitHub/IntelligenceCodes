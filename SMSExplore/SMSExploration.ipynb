{
 "cells": [
  {
   "cell_type": "code",
   "execution_count": 1,
   "metadata": {},
   "outputs": [
    {
     "name": "stdout",
     "output_type": "stream",
     "text": [
      "[nltk_data] Downloading package wordnet to\n",
      "[nltk_data]     C:\\Users\\OmSai\\AppData\\Roaming\\nltk_data...\n",
      "[nltk_data]   Package wordnet is already up-to-date!\n"
     ]
    }
   ],
   "source": [
    "import nltk \n",
    "nltk.download('wordnet')\n",
    "from nltk.corpus import wordnet as wn\n",
    "import pandas as pd\n",
    "import numpy as np\n",
    "import os"
   ]
  },
  {
   "cell_type": "code",
   "execution_count": 2,
   "metadata": {
    "collapsed": true
   },
   "outputs": [],
   "source": [
    "import pandas as pd\n"
   ]
  },
  {
   "cell_type": "code",
   "execution_count": 3,
   "metadata": {},
   "outputs": [
    {
     "data": {
      "text/html": [
       "<div>\n",
       "<style>\n",
       "    .dataframe thead tr:only-child th {\n",
       "        text-align: right;\n",
       "    }\n",
       "\n",
       "    .dataframe thead th {\n",
       "        text-align: left;\n",
       "    }\n",
       "\n",
       "    .dataframe tbody tr th {\n",
       "        vertical-align: top;\n",
       "    }\n",
       "</style>\n",
       "<table border=\"1\" class=\"dataframe\">\n",
       "  <thead>\n",
       "    <tr style=\"text-align: right;\">\n",
       "      <th></th>\n",
       "      <th>Label</th>\n",
       "      <th>Message</th>\n",
       "    </tr>\n",
       "  </thead>\n",
       "  <tbody>\n",
       "    <tr>\n",
       "      <th>0</th>\n",
       "      <td>Delivery</td>\n",
       "      <td>Dear Guest, Thanks for choosing The Edison. Or...</td>\n",
       "    </tr>\n",
       "    <tr>\n",
       "      <th>1</th>\n",
       "      <td>Hotel</td>\n",
       "      <td>Welcome to Southern University at Shreveport R...</td>\n",
       "    </tr>\n",
       "    <tr>\n",
       "      <th>2</th>\n",
       "      <td>Payment</td>\n",
       "      <td>Bill dated 2013-01-14 for Rs 626 has been gene...</td>\n",
       "    </tr>\n",
       "    <tr>\n",
       "      <th>3</th>\n",
       "      <td>Payment</td>\n",
       "      <td>Bill dated 2014-11-30 for Rs 323 has been gene...</td>\n",
       "    </tr>\n",
       "    <tr>\n",
       "      <th>4</th>\n",
       "      <td>Appointment</td>\n",
       "      <td>DEAR Zachary, THANK YOU FOR YOUR BOOKING (ORDE...</td>\n",
       "    </tr>\n",
       "  </tbody>\n",
       "</table>\n",
       "</div>"
      ],
      "text/plain": [
       "         Label                                            Message\n",
       "0     Delivery  Dear Guest, Thanks for choosing The Edison. Or...\n",
       "1        Hotel  Welcome to Southern University at Shreveport R...\n",
       "2      Payment  Bill dated 2013-01-14 for Rs 626 has been gene...\n",
       "3      Payment  Bill dated 2014-11-30 for Rs 323 has been gene...\n",
       "4  Appointment  DEAR Zachary, THANK YOU FOR YOUR BOOKING (ORDE..."
      ]
     },
     "execution_count": 3,
     "metadata": {},
     "output_type": "execute_result"
    }
   ],
   "source": [
    "sms = pd.read_csv(\"sms.csv\")\n",
    "sms.head()"
   ]
  },
  {
   "cell_type": "code",
   "execution_count": 7,
   "metadata": {
    "collapsed": true
   },
   "outputs": [],
   "source": [
    "from sklearn.model_selection import train_test_split\n",
    "#randomized selection\n",
    "x_train, x_test, y_train, y_test = train_test_split(sms[\"Message\"], sms[\"Label\"], test_size=0.40, random_state=101)"
   ]
  },
  {
   "cell_type": "code",
   "execution_count": 8,
   "metadata": {
    "collapsed": true
   },
   "outputs": [],
   "source": [
    "ListLabels = sms[\"Label\"].unique()\n",
    "Labels = ['Delivery', 'Hotel', 'Payment', 'Appointment', 'Train' ,'PickUp', 'Flight' ,'Bus',\n",
    " 'Movie' ,'Reservation' ,'Expiry', 'Cab', 'ham', 'info', 'spam']\n",
    "\n",
    "\n",
    "def convertLabel(Label):\n",
    "    return (str(Labels.index(Label)))\n"
   ]
  },
  {
   "cell_type": "code",
   "execution_count": 9,
   "metadata": {
    "collapsed": true
   },
   "outputs": [],
   "source": [
    "TRAINFILE =\"tempTrain2.txt\"\n",
    "TESTFILE = \"tempTest2.txt\"\n",
    "\n",
    "def writeFastTextFile(TextArray, LabelArray, isTest):\n",
    "    #create the test and train files\n",
    "    FILE =\"\"\n",
    "    if (isTest):\n",
    "        FILE = TESTFILE\n",
    "    else:\n",
    "        FILE = TRAINFILE\n",
    "    \n",
    "    print(\"File is \" , FILE, TextArray.size)\n",
    "    if (os.path.isfile(FILE)):\n",
    "        print(\"Removed old \" , FILE)\n",
    "        os.remove(FILE) \n",
    "    \n",
    "    fh = open(FILE, \"w\")\n",
    "    \n",
    "    for label, text in zip(LabelArray,TextArray) :\n",
    "        TrainData =\"__label__\" + convertLabel(label) + \" \" + text + \"\\n\"\n",
    "        fh.write(TrainData)\n",
    "    fh.close()"
   ]
  },
  {
   "cell_type": "code",
   "execution_count": 10,
   "metadata": {},
   "outputs": [
    {
     "name": "stdout",
     "output_type": "stream",
     "text": [
      "File is  tempTrain2.txt 25200\n",
      "Removed old  tempTrain2.txt\n",
      "File is  tempTest2.txt 16800\n",
      "Removed old  tempTest2.txt\n"
     ]
    }
   ],
   "source": [
    "#create fasttext format from randomized selections\n",
    "writeFastTextFile(x_train,y_train,False)\n",
    "writeFastTextFile(x_test,y_test,True)"
   ]
  },
  {
   "cell_type": "code",
   "execution_count": 18,
   "metadata": {},
   "outputs": [
    {
     "data": {
      "text/plain": [
       "0"
      ]
     },
     "execution_count": 18,
     "metadata": {},
     "output_type": "execute_result"
    }
   ],
   "source": [
    "#train the model\n",
    "#./fastText.exe\n",
    "\n",
    "os.system('fastText.exe supervised -input tempTrain2.txt -output model')\n",
    "#./fastText.exe supervised -input tempTrain2.txt -output model"
   ]
  },
  {
   "cell_type": "code",
   "execution_count": null,
   "metadata": {
    "collapsed": true
   },
   "outputs": [],
   "source": [
    "os.system('fastText.exe test model.bin tempTest2.txt')"
   ]
  },
  {
   "cell_type": "code",
   "execution_count": null,
   "metadata": {
    "collapsed": true
   },
   "outputs": [],
   "source": [
    "\n",
    "\n",
    "D:\\Learning\\Linkify>fastText.exe supervised -input tempTrain2.txt -output model\n",
    "Read 0M words\n",
    "Number of words:  57318\n",
    "Number of labels: 15\n",
    "Progress: 100.0%  words/sec/thread: 4855389  lr: 0.000000  loss: 1.262612  eta: 0h0m -14m\n",
    "\n",
    "D:\\Learning\\Linkify>fastText.exe test model.bin tempTest2.txt\n",
    "N       16800\n",
    "P@1     0.674\n",
    "R@1     0.674\n",
    "Number of examples: 16800\n"
   ]
  },
  {
   "cell_type": "code",
   "execution_count": 17,
   "metadata": {},
   "outputs": [
    {
     "data": {
      "text/plain": [
       "[Synset('train.n.01'),\n",
       " Synset('string.n.04'),\n",
       " Synset('caravan.n.01'),\n",
       " Synset('train.n.04'),\n",
       " Synset('train.n.05'),\n",
       " Synset('gearing.n.01'),\n",
       " Synset('train.v.01'),\n",
       " Synset('train.v.02'),\n",
       " Synset('discipline.v.01'),\n",
       " Synset('prepare.v.05'),\n",
       " Synset('educate.v.03'),\n",
       " Synset('aim.v.01'),\n",
       " Synset('coach.v.01'),\n",
       " Synset('train.v.08'),\n",
       " Synset('train.v.09'),\n",
       " Synset('train.v.10'),\n",
       " Synset('trail.v.05')]"
      ]
     },
     "execution_count": 17,
     "metadata": {},
     "output_type": "execute_result"
    }
   ],
   "source": [
    "wn.synsets('Train')"
   ]
  },
  {
   "cell_type": "code",
   "execution_count": 12,
   "metadata": {},
   "outputs": [
    {
     "data": {
      "text/plain": [
       "[Synset('travel.n.01'),\n",
       " Synset('change_of_location.n.01'),\n",
       " Synset('locomotion.n.02'),\n",
       " Synset('travel.v.01'),\n",
       " Synset('travel.v.02'),\n",
       " Synset('travel.v.03'),\n",
       " Synset('travel.v.04'),\n",
       " Synset('travel.v.05'),\n",
       " Synset('travel.v.06')]"
      ]
     },
     "execution_count": 12,
     "metadata": {},
     "output_type": "execute_result"
    }
   ],
   "source": [
    "wn.synsets('Travel')"
   ]
  },
  {
   "cell_type": "code",
   "execution_count": 18,
   "metadata": {
    "collapsed": true
   },
   "outputs": [],
   "source": [
    "train = wn.synset('train.n.01')"
   ]
  },
  {
   "cell_type": "code",
   "execution_count": 20,
   "metadata": {},
   "outputs": [
    {
     "data": {
      "text/plain": [
       "[Synset('public_transport.n.01')]"
      ]
     },
     "execution_count": 20,
     "metadata": {},
     "output_type": "execute_result"
    }
   ],
   "source": [
    "train.hypernyms()"
   ]
  },
  {
   "cell_type": "code",
   "execution_count": null,
   "metadata": {
    "collapsed": true
   },
   "outputs": [],
   "source": []
  }
 ],
 "metadata": {
  "kernelspec": {
   "display_name": "Python 3",
   "language": "python",
   "name": "python3"
  },
  "language_info": {
   "codemirror_mode": {
    "name": "ipython",
    "version": 3
   },
   "file_extension": ".py",
   "mimetype": "text/x-python",
   "name": "python",
   "nbconvert_exporter": "python",
   "pygments_lexer": "ipython3",
   "version": "3.6.1"
  }
 },
 "nbformat": 4,
 "nbformat_minor": 2
}
