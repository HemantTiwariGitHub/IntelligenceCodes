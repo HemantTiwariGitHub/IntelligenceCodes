{
  "nbformat": 4,
  "nbformat_minor": 0,
  "metadata": {
    "colab": {
      "name": "FeatureExtrator.ipynb",
      "provenance": [],
      "collapsed_sections": [],
      "include_colab_link": true
    },
    "kernelspec": {
      "name": "python3",
      "display_name": "Python 3"
    }
  },
  "cells": [
    {
      "cell_type": "markdown",
      "metadata": {
        "id": "view-in-github",
        "colab_type": "text"
      },
      "source": [
        "<a href=\"https://colab.research.google.com/github/HemantTiwariGitHub/IntelligenceCodes/blob/master/FeatureExtrator.ipynb\" target=\"_parent\"><img src=\"https://colab.research.google.com/assets/colab-badge.svg\" alt=\"Open In Colab\"/></a>"
      ]
    },
    {
      "cell_type": "code",
      "metadata": {
        "id": "iPk__vUr1OjW",
        "colab_type": "code",
        "outputId": "edae7e9d-c3a4-4f09-f150-1c298c4422c0",
        "colab": {
          "base_uri": "https://localhost:8080/",
          "height": 34
        }
      },
      "source": [
        " try:\n",
        "    %tensorflow_version 2.x\n",
        "except:\n",
        "    pass"
      ],
      "execution_count": 0,
      "outputs": [
        {
          "output_type": "stream",
          "text": [
            "TensorFlow 2.x selected.\n"
          ],
          "name": "stdout"
        }
      ]
    },
    {
      "cell_type": "code",
      "metadata": {
        "id": "qCt03dqd1VnD",
        "colab_type": "code",
        "outputId": "e6f90775-63e4-41ad-cd8f-a5c6aed7ac03",
        "colab": {
          "base_uri": "https://localhost:8080/",
          "height": 138
        }
      },
      "source": [
        "import tensorflow as tf\n",
        "import tensorflow_hub as hub\n",
        "print(\"\\u2022 Using TensorFlow Version:\", tf.__version__)\n",
        "print(\"\\u2022 Using TensorFlow Hub Version: \", hub.__version__)\n",
        "print('\\u2022 GPU Device Found.' if tf.test.is_gpu_available() else '\\u2022 GPU Device Not Found. Running on CPU')"
      ],
      "execution_count": 0,
      "outputs": [
        {
          "output_type": "stream",
          "text": [
            "• Using TensorFlow Version: 2.1.0-rc1\n",
            "• Using TensorFlow Hub Version:  0.7.0\n",
            "WARNING:tensorflow:From <ipython-input-6-8bb5014d1289>:5: is_gpu_available (from tensorflow.python.framework.test_util) is deprecated and will be removed in a future version.\n",
            "Instructions for updating:\n",
            "Use `tf.config.list_physical_devices('GPU')` instead.\n",
            "• GPU Device Not Found. Running on CPU\n"
          ],
          "name": "stdout"
        }
      ]
    },
    {
      "cell_type": "code",
      "metadata": {
        "id": "DMEvSeJ01dae",
        "colab_type": "code",
        "colab": {}
      },
      "source": [
        "MOBILENET_V2_FEATURE_EXTRACTOR_URI = \"https://tfhub.dev/google/tf2-preview/mobilenet_v2/feature_vector/4\"\n",
        "PIXEL =224\n",
        "INPUT_IMAGE_SIZE = (PIXEL, PIXEL)\n",
        "OUTPUT_FEATURE_VECTOR_SIZE = 1280"
      ],
      "execution_count": 0,
      "outputs": []
    },
    {
      "cell_type": "code",
      "metadata": {
        "id": "-1BuaC-GgrJi",
        "colab_type": "code",
        "colab": {}
      },
      "source": [
        "feature_extractor = hub.KerasLayer(MOBILENET_V2_FEATURE_EXTRACTOR_URI,\n",
        "                                   input_shape=INPUT_IMAGE_SIZE + (3,), \n",
        "                                   output_shape=[OUTPUT_FEATURE_VECTOR_SIZE],\n",
        "                                   trainable=False)"
      ],
      "execution_count": 0,
      "outputs": []
    },
    {
      "cell_type": "code",
      "metadata": {
        "id": "HaWY4EPYhDzk",
        "colab_type": "code",
        "outputId": "6db7ced0-642b-4e02-8ebf-2564ca69fad1",
        "colab": {
          "base_uri": "https://localhost:8080/",
          "height": 185
        }
      },
      "source": [
        "#Only Feature Extractor Model , No Blah :)\n",
        "model = tf.keras.Sequential([\n",
        "        feature_extractor\n",
        "])\n",
        "\n",
        "model.summary()"
      ],
      "execution_count": 0,
      "outputs": [
        {
          "output_type": "stream",
          "text": [
            "Model: \"sequential_1\"\n",
            "_________________________________________________________________\n",
            "Layer (type)                 Output Shape              Param #   \n",
            "=================================================================\n",
            "keras_layer (KerasLayer)     (None, 1280)              2257984   \n",
            "=================================================================\n",
            "Total params: 2,257,984\n",
            "Trainable params: 0\n",
            "Non-trainable params: 2,257,984\n",
            "_________________________________________________________________\n"
          ],
          "name": "stdout"
        }
      ]
    },
    {
      "cell_type": "code",
      "metadata": {
        "id": "zuuqfyQChjcs",
        "colab_type": "code",
        "outputId": "43224cd6-376e-476d-dddc-f2447d105227",
        "colab": {
          "base_uri": "https://localhost:8080/",
          "height": 171
        }
      },
      "source": [
        "SAVED_MODEL_NAME = \"image_mobilenetv2_featureExtractor\"\n",
        "tf.saved_model.save(model, SAVED_MODEL_NAME)"
      ],
      "execution_count": 0,
      "outputs": [
        {
          "output_type": "stream",
          "text": [
            "WARNING:tensorflow:From /tensorflow-2.1.0/python3.6/tensorflow_core/python/ops/resource_variable_ops.py:1786: calling BaseResourceVariable.__init__ (from tensorflow.python.ops.resource_variable_ops) with constraint is deprecated and will be removed in a future version.\n",
            "Instructions for updating:\n",
            "If using Keras pass *_constraint arguments to layers.\n"
          ],
          "name": "stdout"
        },
        {
          "output_type": "stream",
          "text": [
            "WARNING:tensorflow:From /tensorflow-2.1.0/python3.6/tensorflow_core/python/ops/resource_variable_ops.py:1786: calling BaseResourceVariable.__init__ (from tensorflow.python.ops.resource_variable_ops) with constraint is deprecated and will be removed in a future version.\n",
            "Instructions for updating:\n",
            "If using Keras pass *_constraint arguments to layers.\n"
          ],
          "name": "stderr"
        },
        {
          "output_type": "stream",
          "text": [
            "INFO:tensorflow:Assets written to: image_mobilenetv2_featureExtractor/assets\n"
          ],
          "name": "stdout"
        },
        {
          "output_type": "stream",
          "text": [
            "INFO:tensorflow:Assets written to: image_mobilenetv2_featureExtractor/assets\n"
          ],
          "name": "stderr"
        }
      ]
    },
    {
      "cell_type": "code",
      "metadata": {
        "id": "vEZcnBqihtVR",
        "colab_type": "code",
        "colab": {}
      },
      "source": [
        "loaded_model = tf.saved_model.load(SAVED_MODEL_NAME)"
      ],
      "execution_count": 0,
      "outputs": []
    },
    {
      "cell_type": "code",
      "metadata": {
        "id": "dpG_mwUZh17_",
        "colab_type": "code",
        "colab": {}
      },
      "source": [
        "import numpy as np\n",
        "import PIL.Image as Image"
      ],
      "execution_count": 0,
      "outputs": []
    },
    {
      "cell_type": "code",
      "metadata": {
        "colab_type": "code",
        "id": "hj-ivnKRnH5_",
        "colab": {}
      },
      "source": [
        "def get_uri_path(base_path, image_name):\n",
        "    uri = pathlib.Path(base_path+'/' + image_name).as_uri()\n",
        "    print(\"uri = \" + uri)\n",
        "    return  uri"
      ],
      "execution_count": 0,
      "outputs": []
    },
    {
      "cell_type": "code",
      "metadata": {
        "id": "J-snjkbx78zX",
        "colab_type": "code",
        "colab": {}
      },
      "source": [
        "def load_image(file_uri, image_name):\n",
        "    print (\"loading:\"+file_uri)\n",
        "    image = tf.keras.utils.get_file(image_name,file_uri)\n",
        "    print(\"loaded:\" +image) \n",
        "    return  image"
      ],
      "execution_count": 0,
      "outputs": []
    },
    {
      "cell_type": "code",
      "metadata": {
        "id": "Yno9a5Kkn1Pw",
        "colab_type": "code",
        "colab": {}
      },
      "source": [
        "def resize_image(image):\n",
        "    print(\"resizing:\" +image) \n",
        "    resized_img = Image.open(image).resize(INPUT_IMAGE_SIZE)\n",
        "    #resized_img.show()\n",
        "    resized_img_arr = np.array(resized_img)/255.0\n",
        "    return resized_img_arr"
      ],
      "execution_count": 0,
      "outputs": []
    },
    {
      "cell_type": "code",
      "metadata": {
        "id": "d-2sxemWoIbL",
        "colab_type": "code",
        "colab": {}
      },
      "source": [
        "def get_image_input(path, img_name):\n",
        "    uri = get_uri_path(path, img_name)\n",
        "    image = load_image(uri, img_name)\n",
        "    resized = resize_image(image)\n",
        "    return resized\n",
        "    "
      ],
      "execution_count": 0,
      "outputs": []
    },
    {
      "cell_type": "code",
      "metadata": {
        "id": "YLkzQ5ZJoiec",
        "colab_type": "code",
        "colab": {}
      },
      "source": [
        "def compute_cosine_distances(a, b):\n",
        "    # x shape is n_a * dim\n",
        "    # y shape is n_b * dim\n",
        "    # results shape is n_a * n_b\n",
        "\n",
        "    normalize_a = tf.nn.l2_normalize(a,1)        \n",
        "    normalize_b = tf.nn.l2_normalize(b,1)\n",
        "    \n",
        "    distance = 1 - tf.matmul(normalize_a, normalize_b, transpose_b=True)\n",
        "    return distance"
      ],
      "execution_count": 0,
      "outputs": []
    },
    {
      "cell_type": "code",
      "metadata": {
        "id": "IqpOJkqGuwjC",
        "colab_type": "code",
        "outputId": "38268bb8-d6b4-49f3-915e-e1afe35687d8",
        "colab": {
          "base_uri": "https://localhost:8080/",
          "height": 286
        }
      },
      "source": [
        "cat1_fvec = model.predict(get_image_input(base_path, 'Cat1.jpg')[np.newaxis, ...])\n",
        "cat2_fvec = model.predict(get_image_input(base_path, 'Cat2.jpg')[np.newaxis, ...])\n",
        "ball1_fvec = model.predict(get_image_input(base_path, 'Ball1.jpg')[np.newaxis, ...])\n",
        "ball2_fvec = model.predict(get_image_input(base_path, 'Ball2.jpg')[np.newaxis, ...])"
      ],
      "execution_count": 0,
      "outputs": [
        {
          "output_type": "stream",
          "text": [
            "uri = file:///content/Cat1.jpg\n",
            "loading:file:///content/Cat1.jpg\n",
            "loaded:/root/.keras/datasets/Cat1.jpg\n",
            "resizing:/root/.keras/datasets/Cat1.jpg\n",
            "uri = file:///content/Cat2.jpg\n",
            "loading:file:///content/Cat2.jpg\n",
            "loaded:/root/.keras/datasets/Cat2.jpg\n",
            "resizing:/root/.keras/datasets/Cat2.jpg\n",
            "uri = file:///content/Ball1.jpg\n",
            "loading:file:///content/Ball1.jpg\n",
            "loaded:/root/.keras/datasets/Ball1.jpg\n",
            "resizing:/root/.keras/datasets/Ball1.jpg\n",
            "uri = file:///content/Ball2.jpg\n",
            "loading:file:///content/Ball2.jpg\n",
            "loaded:/root/.keras/datasets/Ball2.jpg\n",
            "resizing:/root/.keras/datasets/Ball2.jpg\n"
          ],
          "name": "stdout"
        }
      ]
    },
    {
      "cell_type": "code",
      "metadata": {
        "id": "fNOrxHKtyBrz",
        "colab_type": "code",
        "outputId": "9e841f70-0cea-40b2-e153-ef1bfe692117",
        "colab": {
          "base_uri": "https://localhost:8080/",
          "height": 229
        }
      },
      "source": [
        "val = compute_cosine_distances(cat1_fvec,cat2_fvec)\n",
        "print (val)\n",
        "val = compute_cosine_distances(ball1_fvec,ball2_fvec)\n",
        "print (val)\n",
        "val = compute_cosine_distances(cat1_fvec,ball1_fvec)\n",
        "print (val)\n",
        "val = compute_cosine_distances(cat1_fvec,ball2_fvec)\n",
        "print (val)\n",
        "val = compute_cosine_distances(cat2_fvec,ball1_fvec)\n",
        "print (val)\n",
        "val = compute_cosine_distances(cat2_fvec,ball2_fvec)\n",
        "print (val)"
      ],
      "execution_count": 1,
      "outputs": [
        {
          "output_type": "error",
          "ename": "NameError",
          "evalue": "ignored",
          "traceback": [
            "\u001b[0;31m---------------------------------------------------------------------------\u001b[0m",
            "\u001b[0;31mNameError\u001b[0m                                 Traceback (most recent call last)",
            "\u001b[0;32m<ipython-input-1-0743382c3b40>\u001b[0m in \u001b[0;36m<module>\u001b[0;34m()\u001b[0m\n\u001b[0;32m----> 1\u001b[0;31m \u001b[0mval\u001b[0m \u001b[0;34m=\u001b[0m \u001b[0mcompute_cosine_distances\u001b[0m\u001b[0;34m(\u001b[0m\u001b[0mcat1_fvec\u001b[0m\u001b[0;34m,\u001b[0m\u001b[0mcat2_fvec\u001b[0m\u001b[0;34m)\u001b[0m\u001b[0;34m\u001b[0m\u001b[0;34m\u001b[0m\u001b[0m\n\u001b[0m\u001b[1;32m      2\u001b[0m \u001b[0mprint\u001b[0m \u001b[0;34m(\u001b[0m\u001b[0mval\u001b[0m\u001b[0;34m)\u001b[0m\u001b[0;34m\u001b[0m\u001b[0;34m\u001b[0m\u001b[0m\n\u001b[1;32m      3\u001b[0m \u001b[0mval\u001b[0m \u001b[0;34m=\u001b[0m \u001b[0mcompute_cosine_distances\u001b[0m\u001b[0;34m(\u001b[0m\u001b[0mball1_fvec\u001b[0m\u001b[0;34m,\u001b[0m\u001b[0mball2_fvec\u001b[0m\u001b[0;34m)\u001b[0m\u001b[0;34m\u001b[0m\u001b[0;34m\u001b[0m\u001b[0m\n\u001b[1;32m      4\u001b[0m \u001b[0mprint\u001b[0m \u001b[0;34m(\u001b[0m\u001b[0mval\u001b[0m\u001b[0;34m)\u001b[0m\u001b[0;34m\u001b[0m\u001b[0;34m\u001b[0m\u001b[0m\n\u001b[1;32m      5\u001b[0m \u001b[0mval\u001b[0m \u001b[0;34m=\u001b[0m \u001b[0mcompute_cosine_distances\u001b[0m\u001b[0;34m(\u001b[0m\u001b[0mcat1_fvec\u001b[0m\u001b[0;34m,\u001b[0m\u001b[0mball1_fvec\u001b[0m\u001b[0;34m)\u001b[0m\u001b[0;34m\u001b[0m\u001b[0;34m\u001b[0m\u001b[0m\n",
            "\u001b[0;31mNameError\u001b[0m: name 'compute_cosine_distances' is not defined"
          ]
        }
      ]
    },
    {
      "cell_type": "code",
      "metadata": {
        "id": "mmBPNDA3mHiD",
        "colab_type": "code",
        "colab": {
          "base_uri": "https://localhost:8080/",
          "height": 218
        },
        "outputId": "1b69696e-1293-4f53-a633-f1ab361110b5"
      },
      "source": [
        "%pip install visual_genome"
      ],
      "execution_count": 3,
      "outputs": [
        {
          "output_type": "stream",
          "text": [
            "Collecting visual_genome\n",
            "  Downloading https://files.pythonhosted.org/packages/35/fb/a05a63edea9978a56fb25a07d7f0b91e2f3cd6e1ec890c2f9447c260f6a8/visual_genome-1.1.1-py2.py3-none-any.whl\n",
            "Requirement already satisfied: progressbar2 in /usr/local/lib/python3.6/dist-packages (from visual_genome) (3.38.0)\n",
            "Requirement already satisfied: requests in /usr/local/lib/python3.6/dist-packages (from visual_genome) (2.21.0)\n",
            "Requirement already satisfied: python-utils>=2.3.0 in /usr/local/lib/python3.6/dist-packages (from progressbar2->visual_genome) (2.3.0)\n",
            "Requirement already satisfied: six in /usr/local/lib/python3.6/dist-packages (from progressbar2->visual_genome) (1.12.0)\n",
            "Requirement already satisfied: idna<2.9,>=2.5 in /usr/local/lib/python3.6/dist-packages (from requests->visual_genome) (2.8)\n",
            "Requirement already satisfied: chardet<3.1.0,>=3.0.2 in /usr/local/lib/python3.6/dist-packages (from requests->visual_genome) (3.0.4)\n",
            "Requirement already satisfied: urllib3<1.25,>=1.21.1 in /usr/local/lib/python3.6/dist-packages (from requests->visual_genome) (1.24.3)\n",
            "Requirement already satisfied: certifi>=2017.4.17 in /usr/local/lib/python3.6/dist-packages (from requests->visual_genome) (2019.11.28)\n",
            "Installing collected packages: visual-genome\n",
            "Successfully installed visual-genome-1.1.1\n"
          ],
          "name": "stdout"
        }
      ]
    },
    {
      "cell_type": "code",
      "metadata": {
        "id": "s7csWH-9mL-D",
        "colab_type": "code",
        "colab": {}
      },
      "source": [
        "from visual_genome import api as vg\n"
      ],
      "execution_count": 0,
      "outputs": []
    },
    {
      "cell_type": "code",
      "metadata": {
        "id": "o8phag6FmWOb",
        "colab_type": "code",
        "colab": {}
      },
      "source": [
        "import matplotlib.pyplot as plt\n",
        "from matplotlib.patches import Rectangle\n",
        "from PIL import Image as PIL_Image\n",
        "import requests\n",
        "from io import StringIO"
      ],
      "execution_count": 0,
      "outputs": []
    },
    {
      "cell_type": "code",
      "metadata": {
        "id": "hLo5PZOsmrOb",
        "colab_type": "code",
        "colab": {}
      },
      "source": [
        ""
      ],
      "execution_count": 0,
      "outputs": []
    }
  ]
}